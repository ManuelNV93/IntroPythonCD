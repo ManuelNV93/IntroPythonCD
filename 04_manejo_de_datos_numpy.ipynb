{
  "cells": [
    {
      "cell_type": "markdown",
      "metadata": {
        "id": "view-in-github"
      },
      "source": [
        "<a href=\"https://colab.research.google.com/github/Argentan/DMA_LAB2/blob/master/tutoriales/03_manejo_de_datos-numpy.ipynb\" target=\"_parent\"><img src=\"https://colab.research.google.com/assets/colab-badge.svg\" alt=\"Open In Colab\"/></a>"
      ]
    },
    {
      "cell_type": "markdown",
      "metadata": {
        "id": "OsgacXmFyHre"
      },
      "source": [
        "# Listas"
      ]
    },
    {
      "cell_type": "code",
      "execution_count": 1,
      "metadata": {
        "id": "0JwB1omFyKc4",
        "tags": []
      },
      "outputs": [],
      "source": [
        "b = [1, 2, 3]"
      ]
    },
    {
      "cell_type": "code",
      "source": [
        "type(b)"
      ],
      "metadata": {
        "id": "hy1VjqJW37dD",
        "colab": {
          "base_uri": "https://localhost:8080/"
        },
        "outputId": "e2e10e4f-0e87-4638-8721-e50573b29688"
      },
      "execution_count": 2,
      "outputs": [
        {
          "output_type": "execute_result",
          "data": {
            "text/plain": [
              "list"
            ]
          },
          "metadata": {},
          "execution_count": 2
        }
      ]
    },
    {
      "cell_type": "markdown",
      "metadata": {
        "id": "Lugr9KHwyUGZ"
      },
      "source": [
        "Aplicando operadores matemáticos a listas"
      ]
    },
    {
      "cell_type": "code",
      "execution_count": 3,
      "metadata": {
        "id": "2pzuaAdMyMVz",
        "colab": {
          "base_uri": "https://localhost:8080/"
        },
        "outputId": "bec4e728-db14-423c-c6e5-3952cd4603a9"
      },
      "outputs": [
        {
          "output_type": "execute_result",
          "data": {
            "text/plain": [
              "[1, 2, 3, 1, 2, 3]"
            ]
          },
          "metadata": {},
          "execution_count": 3
        }
      ],
      "source": [
        "b + b"
      ]
    },
    {
      "cell_type": "code",
      "execution_count": 4,
      "metadata": {
        "id": "wJfuwm32yP3K",
        "colab": {
          "base_uri": "https://localhost:8080/"
        },
        "outputId": "d07cce62-ea6e-48cf-f9c4-161c000d792a"
      },
      "outputs": [
        {
          "output_type": "execute_result",
          "data": {
            "text/plain": [
              "[1, 2, 3, 1, 2, 3, 1, 2, 3, 1, 2, 3]"
            ]
          },
          "metadata": {},
          "execution_count": 4
        }
      ],
      "source": [
        "b * 4"
      ]
    },
    {
      "cell_type": "markdown",
      "metadata": {
        "id": "BuLegKfqyXti"
      },
      "source": [
        "Solución? For Loops?"
      ]
    },
    {
      "cell_type": "code",
      "execution_count": 5,
      "metadata": {
        "id": "HzUrLTNkyaEI",
        "colab": {
          "base_uri": "https://localhost:8080/"
        },
        "outputId": "3e6a656b-0954-4cad-ba49-49b49900336f"
      },
      "outputs": [
        {
          "output_type": "stream",
          "name": "stdout",
          "text": [
            "1\n",
            "2\n",
            "3\n"
          ]
        }
      ],
      "source": [
        "for elemento in b:\n",
        "    print(elemento)"
      ]
    },
    {
      "cell_type": "code",
      "execution_count": 6,
      "metadata": {
        "id": "6I8HjEjKyea7",
        "colab": {
          "base_uri": "https://localhost:8080/"
        },
        "outputId": "795da44b-a009-4238-d7f4-e874e7530477"
      },
      "outputs": [
        {
          "output_type": "stream",
          "name": "stdout",
          "text": [
            "2\n",
            "4\n",
            "6\n"
          ]
        }
      ],
      "source": [
        "for elemento in b:\n",
        "    print(elemento + elemento)"
      ]
    },
    {
      "cell_type": "code",
      "source": [
        "for elemento in b:\n",
        "    print(elemento * 4)"
      ],
      "metadata": {
        "id": "JFJLwiK73PxD",
        "colab": {
          "base_uri": "https://localhost:8080/"
        },
        "outputId": "dfac8443-00f3-4bbe-ec9e-014286b60213"
      },
      "execution_count": 7,
      "outputs": [
        {
          "output_type": "stream",
          "name": "stdout",
          "text": [
            "4\n",
            "8\n",
            "12\n"
          ]
        }
      ]
    },
    {
      "cell_type": "markdown",
      "metadata": {
        "id": "0JPqEG49yifH"
      },
      "source": [
        "Y si lo quiero guardar en otra variable (por ejemplo 'c = b+b')?\n",
        "\n",
        "Una forma es:\n",
        "* definir un array vacío\n",
        "* recorrer todos los elementos en b\n",
        "* sumarlos entre sí y meterlos dentro de una lista ([elemento + elemento])\n",
        "* sumar esta lista a 'c' (**c \\+= algo** es lo mismo que **c = c + algo**)"
      ]
    },
    {
      "cell_type": "code",
      "execution_count": 8,
      "metadata": {
        "id": "XT--J06nyj0u",
        "colab": {
          "base_uri": "https://localhost:8080/"
        },
        "outputId": "b9a40b52-c6c4-4e20-8624-8a6f4b4627b5"
      },
      "outputs": [
        {
          "output_type": "execute_result",
          "data": {
            "text/plain": [
              "[2, 4, 6]"
            ]
          },
          "metadata": {},
          "execution_count": 8
        }
      ],
      "source": [
        "c = []\n",
        "for elemento in b:\n",
        "    c += [elemento + elemento]\n",
        "c"
      ]
    },
    {
      "cell_type": "code",
      "execution_count": 9,
      "metadata": {
        "id": "IAqPnmQUyoW0",
        "colab": {
          "base_uri": "https://localhost:8080/"
        },
        "outputId": "a538c28f-1065-43f0-b94e-ca4c93050526"
      },
      "outputs": [
        {
          "output_type": "stream",
          "name": "stdout",
          "text": [
            "[4]\n",
            "[4, 8]\n",
            "[4, 8, 12]\n"
          ]
        }
      ],
      "source": [
        "c = []\n",
        "for elemento in b:\n",
        "    c += [elemento * 4]\n",
        "    print(c)"
      ]
    },
    {
      "cell_type": "markdown",
      "metadata": {
        "id": "_3gakFJLy645"
      },
      "source": [
        "Alternativa??"
      ]
    },
    {
      "cell_type": "markdown",
      "metadata": {
        "id": "OBpD3Ve7xLRE"
      },
      "source": [
        "# Librería Numpy\n",
        "\n",
        "Es el paquete de arrays mas comúnmente usado en Python. La diferencia entre un array y una lista nativa es que el array es continuo en memoria mientras que la lista esta encadenada, haciendo que el array sea mucho más rápido de leer y, por tanto, la estructura de datos natural para el procesamiento de grandes cantidades de datos."
      ]
    },
    {
      "cell_type": "code",
      "execution_count": 10,
      "metadata": {
        "id": "D99BOYgHxLRH",
        "tags": []
      },
      "outputs": [],
      "source": [
        "import numpy as np"
      ]
    },
    {
      "cell_type": "code",
      "execution_count": 11,
      "metadata": {
        "id": "E7u8knbdxLRP",
        "tags": [],
        "colab": {
          "base_uri": "https://localhost:8080/"
        },
        "outputId": "cc806871-3247-4701-af94-15da9d713a3d"
      },
      "outputs": [
        {
          "output_type": "execute_result",
          "data": {
            "text/plain": [
              "array([1, 2, 3, 4])"
            ]
          },
          "metadata": {},
          "execution_count": 11
        }
      ],
      "source": [
        "array_normal = [1, 2, 3, 4]\n",
        "\n",
        "arr1 = np.array([1, 2, 3, 4])\n",
        "arr1"
      ]
    },
    {
      "cell_type": "code",
      "source": [
        "array_normal"
      ],
      "metadata": {
        "colab": {
          "base_uri": "https://localhost:8080/"
        },
        "id": "bgLKQHhQS62E",
        "outputId": "2afa2d90-6530-4bd9-da99-ee824ba49c04"
      },
      "execution_count": 12,
      "outputs": [
        {
          "output_type": "execute_result",
          "data": {
            "text/plain": [
              "[1, 2, 3, 4]"
            ]
          },
          "metadata": {},
          "execution_count": 12
        }
      ]
    },
    {
      "cell_type": "code",
      "source": [
        "type(array_normal)"
      ],
      "metadata": {
        "colab": {
          "base_uri": "https://localhost:8080/"
        },
        "id": "uZch-d4cS8tW",
        "outputId": "e2d0f422-0330-40d0-ba86-db66f0058c2a"
      },
      "execution_count": 13,
      "outputs": [
        {
          "output_type": "execute_result",
          "data": {
            "text/plain": [
              "list"
            ]
          },
          "metadata": {},
          "execution_count": 13
        }
      ]
    },
    {
      "cell_type": "code",
      "execution_count": 14,
      "metadata": {
        "id": "PoOFReZaxLRW",
        "tags": [],
        "colab": {
          "base_uri": "https://localhost:8080/"
        },
        "outputId": "e812ef11-d687-49b8-bd55-86fedf77d885"
      },
      "outputs": [
        {
          "output_type": "execute_result",
          "data": {
            "text/plain": [
              "numpy.ndarray"
            ]
          },
          "metadata": {},
          "execution_count": 14
        }
      ],
      "source": [
        "type(arr1)"
      ]
    },
    {
      "cell_type": "code",
      "source": [
        "arr1.shape"
      ],
      "metadata": {
        "id": "7psd8RGmChtl",
        "colab": {
          "base_uri": "https://localhost:8080/"
        },
        "outputId": "c5384695-1fdf-4845-895b-7b0cb77656d1"
      },
      "execution_count": 15,
      "outputs": [
        {
          "output_type": "execute_result",
          "data": {
            "text/plain": [
              "(4,)"
            ]
          },
          "metadata": {},
          "execution_count": 15
        }
      ]
    },
    {
      "cell_type": "markdown",
      "source": [
        "Un **ndarray** (n-dimensional array) es un tipo de objeto que representa un arreglo multidimensional de elementos del mismo tipo."
      ],
      "metadata": {
        "id": "P3rEublpP68r"
      }
    },
    {
      "cell_type": "code",
      "execution_count": 16,
      "metadata": {
        "id": "Q-fjOvkFPFtC",
        "colab": {
          "base_uri": "https://localhost:8080/"
        },
        "outputId": "8b468edb-840f-4fe0-848f-0ecd6dfae14b"
      },
      "outputs": [
        {
          "output_type": "execute_result",
          "data": {
            "text/plain": [
              "dtype('int64')"
            ]
          },
          "metadata": {},
          "execution_count": 16
        }
      ],
      "source": [
        "arr1.dtype"
      ]
    },
    {
      "cell_type": "code",
      "execution_count": 17,
      "metadata": {
        "id": "-0haq5JBxLRa",
        "tags": [],
        "colab": {
          "base_uri": "https://localhost:8080/"
        },
        "outputId": "4d94b243-0547-4067-e305-1ca93aa5804c"
      },
      "outputs": [
        {
          "output_type": "execute_result",
          "data": {
            "text/plain": [
              "array([2, 4, 6, 8])"
            ]
          },
          "metadata": {},
          "execution_count": 17
        }
      ],
      "source": [
        "arr1 + arr1"
      ]
    },
    {
      "cell_type": "code",
      "execution_count": 18,
      "metadata": {
        "id": "XJMIrfXuxLRi",
        "tags": [],
        "colab": {
          "base_uri": "https://localhost:8080/"
        },
        "outputId": "d2bd3641-b7fd-4781-b0bf-cca956d16f9c"
      },
      "outputs": [
        {
          "output_type": "execute_result",
          "data": {
            "text/plain": [
              "array([1., 1., 1., 1.])"
            ]
          },
          "metadata": {},
          "execution_count": 18
        }
      ],
      "source": [
        "result = arr1 / arr1\n",
        "result"
      ]
    },
    {
      "cell_type": "code",
      "execution_count": 19,
      "metadata": {
        "id": "uN59woK8PFtD",
        "colab": {
          "base_uri": "https://localhost:8080/"
        },
        "outputId": "05f33b98-a8bf-4be0-fa1f-a70ce53cafe2"
      },
      "outputs": [
        {
          "output_type": "execute_result",
          "data": {
            "text/plain": [
              "dtype('float64')"
            ]
          },
          "metadata": {},
          "execution_count": 19
        }
      ],
      "source": [
        "result.dtype"
      ]
    },
    {
      "cell_type": "code",
      "execution_count": 20,
      "metadata": {
        "id": "RnchQO25xLRr",
        "tags": [],
        "colab": {
          "base_uri": "https://localhost:8080/"
        },
        "outputId": "6ded87f8-e6be-4512-a541-24be48ba81a0"
      },
      "outputs": [
        {
          "output_type": "execute_result",
          "data": {
            "text/plain": [
              "array([101, 102, 103, 104])"
            ]
          },
          "metadata": {},
          "execution_count": 20
        }
      ],
      "source": [
        "arr1 + 100"
      ]
    },
    {
      "cell_type": "markdown",
      "metadata": {
        "id": "An3VYAhU_PAR"
      },
      "source": [
        "## Dimensiones\n",
        "\n",
        "Los arrays de numpy pueden ser unidimensionales (1D), bidimensionales (2D) o cuantas dimensiones se quiera.\n"
      ]
    },
    {
      "cell_type": "code",
      "source": [
        "data = np.random.rand(3, 5)\n",
        "data"
      ],
      "metadata": {
        "id": "3KoR1yAQ6qRN",
        "colab": {
          "base_uri": "https://localhost:8080/"
        },
        "outputId": "05240827-ab73-44d3-f420-3dc3e7b6e2bd"
      },
      "execution_count": 21,
      "outputs": [
        {
          "output_type": "execute_result",
          "data": {
            "text/plain": [
              "array([[0.95282521, 0.23872273, 0.21079533, 0.18280218, 0.83703995],\n",
              "       [0.61456657, 0.19625663, 0.23476351, 0.25651513, 0.72517704],\n",
              "       [0.57711816, 0.11563746, 0.99213054, 0.5475988 , 0.50187113]])"
            ]
          },
          "metadata": {},
          "execution_count": 21
        }
      ]
    },
    {
      "cell_type": "code",
      "execution_count": 22,
      "metadata": {
        "id": "GLIB9jK4_PAR",
        "tags": [],
        "colab": {
          "base_uri": "https://localhost:8080/"
        },
        "outputId": "21e4812a-4c19-4ee7-98b6-abe4f04f0db5"
      },
      "outputs": [
        {
          "output_type": "execute_result",
          "data": {
            "text/plain": [
              "array([[95.28252147, 23.87227313, 21.07953321, 18.28021793, 83.70399503],\n",
              "       [61.4566572 , 19.62566293, 23.47635111, 25.65151258, 72.51770436],\n",
              "       [57.71181621, 11.5637462 , 99.21305432, 54.75987967, 50.18711336]])"
            ]
          },
          "metadata": {},
          "execution_count": 22
        }
      ],
      "source": [
        "data = data * 100\n",
        "data"
      ]
    },
    {
      "cell_type": "code",
      "execution_count": 23,
      "metadata": {
        "id": "zxbAMqfH_PAU",
        "tags": [],
        "colab": {
          "base_uri": "https://localhost:8080/"
        },
        "outputId": "c34df5b9-f73a-42ee-9383-545689af84cc"
      },
      "outputs": [
        {
          "output_type": "execute_result",
          "data": {
            "text/plain": [
              "array([[95., 24., 21., 18., 84.],\n",
              "       [61., 20., 23., 26., 73.],\n",
              "       [58., 12., 99., 55., 50.]])"
            ]
          },
          "metadata": {},
          "execution_count": 23
        }
      ],
      "source": [
        "data = np.round(data)\n",
        "data"
      ]
    },
    {
      "cell_type": "markdown",
      "metadata": {
        "id": "gM_zQL58_PAc"
      },
      "source": [
        "Tamaño de 'data'"
      ]
    },
    {
      "cell_type": "code",
      "execution_count": 24,
      "metadata": {
        "id": "YMs7J2pM_PAc",
        "tags": [],
        "colab": {
          "base_uri": "https://localhost:8080/"
        },
        "outputId": "72c3451e-9399-4182-dfb1-e14b5f4da38c"
      },
      "outputs": [
        {
          "output_type": "execute_result",
          "data": {
            "text/plain": [
              "(3, 5)"
            ]
          },
          "metadata": {},
          "execution_count": 24
        }
      ],
      "source": [
        "data.shape"
      ]
    },
    {
      "cell_type": "markdown",
      "metadata": {
        "id": "FPOowyKpxLR0"
      },
      "source": [
        "## Indexado\n",
        "\n",
        "El indexado en los ndarray funciona igual que el indexado de listas.\n",
        "\n",
        "Los elementos de una ndarray se pueden acceder mediante su índice.\n",
        "\n",
        "* Todos los índices empiezan en 0\n",
        "* Los índices son números enteros\n",
        "* El índice máximo es (cantidad de elementos - 1)\n",
        "* Se accede al elemento con *índice*\n",
        "* Si el índice es negativo, se cuenta desde el final\n",
        "* Se puede hacer \"slicing\" con rangos de índices separados por dos puntos (:)\n",
        "* Se pueden usar índices negativos que cuentan desde atrás pero empezando en -1\n",
        "\n",
        "<b>array_name[start : end : step]</b>\n",
        "\n",
        "start: starting index, inclusive\n",
        "\n",
        "end: end index, exclusive\n",
        "\n",
        "step: difference\n"
      ]
    },
    {
      "cell_type": "code",
      "execution_count": 25,
      "metadata": {
        "id": "iqyf43BOPFtF",
        "colab": {
          "base_uri": "https://localhost:8080/"
        },
        "outputId": "fdf67849-d755-4764-b439-ba098863d913"
      },
      "outputs": [
        {
          "output_type": "execute_result",
          "data": {
            "text/plain": [
              "array([1, 2, 3, 4, 5, 6, 7])"
            ]
          },
          "metadata": {},
          "execution_count": 25
        }
      ],
      "source": [
        "a = np.array([1, 2, 3, 4, 5, 6, 7])\n",
        "a"
      ]
    },
    {
      "cell_type": "code",
      "execution_count": 26,
      "metadata": {
        "id": "BZOclzTKPFtF",
        "colab": {
          "base_uri": "https://localhost:8080/"
        },
        "outputId": "19689ea6-9daa-45f3-96b9-d2e5e1405a86"
      },
      "outputs": [
        {
          "output_type": "execute_result",
          "data": {
            "text/plain": [
              "array([3, 4, 5])"
            ]
          },
          "metadata": {},
          "execution_count": 26
        }
      ],
      "source": [
        "a[2:5]"
      ]
    },
    {
      "cell_type": "code",
      "execution_count": 27,
      "metadata": {
        "id": "2Zf7M5JLPFtF",
        "colab": {
          "base_uri": "https://localhost:8080/"
        },
        "outputId": "5e7e3b2a-8970-4f3c-b6af-64f888edcab8"
      },
      "outputs": [
        {
          "output_type": "execute_result",
          "data": {
            "text/plain": [
              "array([1, 2, 3, 4, 5, 6, 7])"
            ]
          },
          "metadata": {},
          "execution_count": 27
        }
      ],
      "source": [
        "a[:]"
      ]
    },
    {
      "cell_type": "code",
      "execution_count": 28,
      "metadata": {
        "id": "XkhiFVCgPFtF",
        "colab": {
          "base_uri": "https://localhost:8080/"
        },
        "outputId": "9a2b27d1-25eb-4371-c5d3-71498f80c55a"
      },
      "outputs": [
        {
          "output_type": "execute_result",
          "data": {
            "text/plain": [
              "array([3, 4, 5, 6, 7])"
            ]
          },
          "metadata": {},
          "execution_count": 28
        }
      ],
      "source": [
        "a[2:]"
      ]
    },
    {
      "cell_type": "code",
      "execution_count": 29,
      "metadata": {
        "id": "udFqvS_aPFtG",
        "colab": {
          "base_uri": "https://localhost:8080/"
        },
        "outputId": "8b98e339-03c3-49e6-f573-800d13be8f27"
      },
      "outputs": [
        {
          "output_type": "execute_result",
          "data": {
            "text/plain": [
              "array([1, 2, 3])"
            ]
          },
          "metadata": {},
          "execution_count": 29
        }
      ],
      "source": [
        "a[:3]"
      ]
    },
    {
      "cell_type": "markdown",
      "metadata": {
        "id": "zhIj4o2bPFtG"
      },
      "source": [
        "### Para arrays de dos dimensiones\n",
        "\n",
        "<b>array_name[start : end : step, start : end : step]</b>\n",
        "\n",
        "start: starting index, inclusive\n",
        "\n",
        "end: end index, exclusive\n",
        "\n",
        "step: difference"
      ]
    },
    {
      "cell_type": "code",
      "execution_count": 30,
      "metadata": {
        "id": "6QWUdFY6PFtG",
        "colab": {
          "base_uri": "https://localhost:8080/"
        },
        "outputId": "c3c6ca18-a4d8-4033-9503-7e32a4816611"
      },
      "outputs": [
        {
          "output_type": "execute_result",
          "data": {
            "text/plain": [
              "array([[1, 2],\n",
              "       [3, 4],\n",
              "       [5, 6]])"
            ]
          },
          "metadata": {},
          "execution_count": 30
        }
      ],
      "source": [
        "x = np.array([[1, 2], [3, 4], [5, 6]])\n",
        "x"
      ]
    },
    {
      "cell_type": "code",
      "source": [
        "x.shape"
      ],
      "metadata": {
        "id": "sVuznVMUN0bT",
        "colab": {
          "base_uri": "https://localhost:8080/"
        },
        "outputId": "c3a699c3-b9f6-44ce-8f5a-91f62ca49096"
      },
      "execution_count": 31,
      "outputs": [
        {
          "output_type": "execute_result",
          "data": {
            "text/plain": [
              "(3, 2)"
            ]
          },
          "metadata": {},
          "execution_count": 31
        }
      ]
    },
    {
      "cell_type": "code",
      "execution_count": 32,
      "metadata": {
        "id": "zSzT0kn6PFtG",
        "colab": {
          "base_uri": "https://localhost:8080/"
        },
        "outputId": "97d73f86-0c27-4779-9b0f-9cfbcfc2cb29"
      },
      "outputs": [
        {
          "output_type": "execute_result",
          "data": {
            "text/plain": [
              "array([4, 6])"
            ]
          },
          "metadata": {},
          "execution_count": 32
        }
      ],
      "source": [
        "x[1:, 1]"
      ]
    },
    {
      "cell_type": "code",
      "execution_count": 33,
      "metadata": {
        "id": "iJBU832BPFtG",
        "colab": {
          "base_uri": "https://localhost:8080/"
        },
        "outputId": "dc9a947e-04af-4a6a-dc84-026e18f72f36"
      },
      "outputs": [
        {
          "output_type": "execute_result",
          "data": {
            "text/plain": [
              "array([[1, 2],\n",
              "       [3, 4],\n",
              "       [5, 6]])"
            ]
          },
          "metadata": {},
          "execution_count": 33
        }
      ],
      "source": [
        "x[:,:]"
      ]
    },
    {
      "cell_type": "code",
      "execution_count": 34,
      "metadata": {
        "id": "T-gjAnwFPFtH",
        "colab": {
          "base_uri": "https://localhost:8080/"
        },
        "outputId": "e55fb91c-f9fc-4029-db1f-ebbd3f7d68bb"
      },
      "outputs": [
        {
          "output_type": "execute_result",
          "data": {
            "text/plain": [
              "array([[ 1,  2,  3,  4],\n",
              "       [ 5,  6,  7,  8],\n",
              "       [10, 20, 30, 40]])"
            ]
          },
          "metadata": {},
          "execution_count": 34
        }
      ],
      "source": [
        "y = np.array([[1, 2, 3, 4], [5, 6, 7, 8], [10, 20, 30, 40]])\n",
        "y"
      ]
    },
    {
      "cell_type": "code",
      "source": [
        "y.shape"
      ],
      "metadata": {
        "id": "yZBxF7smOkhn",
        "colab": {
          "base_uri": "https://localhost:8080/"
        },
        "outputId": "ffdec915-963c-43ad-b2e4-e78022feb929"
      },
      "execution_count": 35,
      "outputs": [
        {
          "output_type": "execute_result",
          "data": {
            "text/plain": [
              "(3, 4)"
            ]
          },
          "metadata": {},
          "execution_count": 35
        }
      ]
    },
    {
      "cell_type": "code",
      "execution_count": 36,
      "metadata": {
        "id": "oslrI-O8PFtH",
        "colab": {
          "base_uri": "https://localhost:8080/"
        },
        "outputId": "7ac961e4-65da-4008-b127-2af1c6b483bc"
      },
      "outputs": [
        {
          "output_type": "execute_result",
          "data": {
            "text/plain": [
              "array([[ 6,  7,  8],\n",
              "       [20, 30, 40]])"
            ]
          },
          "metadata": {},
          "execution_count": 36
        }
      ],
      "source": [
        "y[1:, 1:]"
      ]
    },
    {
      "cell_type": "code",
      "execution_count": 37,
      "metadata": {
        "id": "qrvGKsepPFtH",
        "colab": {
          "base_uri": "https://localhost:8080/"
        },
        "outputId": "c8b7bafc-37b2-4b22-dbff-f3cf1dc5c6a7"
      },
      "outputs": [
        {
          "output_type": "execute_result",
          "data": {
            "text/plain": [
              "array([[ 1,  3],\n",
              "       [10, 30]])"
            ]
          },
          "metadata": {},
          "execution_count": 37
        }
      ],
      "source": [
        "y[::2, ::2]"
      ]
    },
    {
      "cell_type": "markdown",
      "metadata": {
        "id": "iu0PXGdhPFtH"
      },
      "source": [
        "### Para arrays de tres dimensiones\n",
        "\n",
        "<b>array_name[start : end : step, start : end : step, start : end : step]</b>\n",
        "\n",
        "start: starting index, inclusive\n",
        "\n",
        "end: end index, exclusive\n",
        "\n",
        "step: difference"
      ]
    },
    {
      "cell_type": "code",
      "execution_count": 38,
      "metadata": {
        "id": "KAPnIzoHPFtH",
        "colab": {
          "base_uri": "https://localhost:8080/"
        },
        "outputId": "a1fc993b-d04e-4ea7-c620-b6135837b71e"
      },
      "outputs": [
        {
          "output_type": "execute_result",
          "data": {
            "text/plain": [
              "array([[[  1,   2,   3,   4],\n",
              "        [  5,   6,   7,   8],\n",
              "        [  9,  10,  11,  12]],\n",
              "\n",
              "       [[ 13,  14,  15,  16],\n",
              "        [ 17,  18,  19,  20],\n",
              "        [ 21,  22, 123, 124]]])"
            ]
          },
          "metadata": {},
          "execution_count": 38
        }
      ],
      "source": [
        "z = np.array([[[1, 2, 3, 4], [5, 6, 7, 8], [9, 10, 11, 12]], [[13, 14, 15, 16], [17, 18, 19, 20], [21, 22, 123, 124]]])\n",
        "z"
      ]
    },
    {
      "cell_type": "code",
      "source": [
        "z.shape"
      ],
      "metadata": {
        "id": "7xh4x1bkPdJj",
        "colab": {
          "base_uri": "https://localhost:8080/"
        },
        "outputId": "8ec3704f-5928-485f-d1e4-260dfe8a108b"
      },
      "execution_count": 39,
      "outputs": [
        {
          "output_type": "execute_result",
          "data": {
            "text/plain": [
              "(2, 3, 4)"
            ]
          },
          "metadata": {},
          "execution_count": 39
        }
      ]
    },
    {
      "cell_type": "code",
      "execution_count": 40,
      "metadata": {
        "id": "_i9_KaL1PFtH",
        "colab": {
          "base_uri": "https://localhost:8080/"
        },
        "outputId": "05f07fc7-3d3f-41b8-c0f2-7735f111e28f"
      },
      "outputs": [
        {
          "output_type": "execute_result",
          "data": {
            "text/plain": [
              "array([[[ 1,  2],\n",
              "        [ 5,  6]],\n",
              "\n",
              "       [[13, 14],\n",
              "        [17, 18]]])"
            ]
          },
          "metadata": {},
          "execution_count": 40
        }
      ],
      "source": [
        "z[:, :2, :2]"
      ]
    },
    {
      "cell_type": "code",
      "execution_count": 41,
      "metadata": {
        "id": "qTk-ylZGPFtI",
        "colab": {
          "base_uri": "https://localhost:8080/"
        },
        "outputId": "b330b39b-3536-46fa-9a95-1a52b81561f7"
      },
      "outputs": [
        {
          "output_type": "execute_result",
          "data": {
            "text/plain": [
              "array([1, 2, 3, 4])"
            ]
          },
          "metadata": {},
          "execution_count": 41
        }
      ],
      "source": [
        "arr1"
      ]
    },
    {
      "cell_type": "code",
      "execution_count": 42,
      "metadata": {
        "id": "Rp5wPcNExLR2",
        "tags": [],
        "colab": {
          "base_uri": "https://localhost:8080/"
        },
        "outputId": "88f9a51f-207d-4c8c-c61c-e9d281d213e5"
      },
      "outputs": [
        {
          "output_type": "execute_result",
          "data": {
            "text/plain": [
              "1"
            ]
          },
          "metadata": {},
          "execution_count": 42
        }
      ],
      "source": [
        "arr1[0]"
      ]
    },
    {
      "cell_type": "code",
      "execution_count": 43,
      "metadata": {
        "id": "ClJghAFvxLR-",
        "tags": [],
        "colab": {
          "base_uri": "https://localhost:8080/"
        },
        "outputId": "a4bcd5ba-0efa-4bff-b617-a0150e86d3e9"
      },
      "outputs": [
        {
          "output_type": "execute_result",
          "data": {
            "text/plain": [
              "4"
            ]
          },
          "metadata": {},
          "execution_count": 43
        }
      ],
      "source": [
        "arr1[3]"
      ]
    },
    {
      "cell_type": "code",
      "execution_count": 44,
      "metadata": {
        "id": "GXBMPBmkxLSF",
        "tags": []
      },
      "outputs": [],
      "source": [
        "# dará error\n",
        "# arr1[len(arr1)]"
      ]
    },
    {
      "cell_type": "code",
      "execution_count": 45,
      "metadata": {
        "id": "HNv5-mFOxLSM",
        "tags": [],
        "colab": {
          "base_uri": "https://localhost:8080/"
        },
        "outputId": "5c08b813-ec50-49a5-a6c6-1f6af5076aa7"
      },
      "outputs": [
        {
          "output_type": "execute_result",
          "data": {
            "text/plain": [
              "4"
            ]
          },
          "metadata": {},
          "execution_count": 45
        }
      ],
      "source": [
        "arr1[len(arr1) - 1]"
      ]
    },
    {
      "cell_type": "code",
      "execution_count": 46,
      "metadata": {
        "id": "3aRTKTMfxLSU",
        "tags": [],
        "colab": {
          "base_uri": "https://localhost:8080/"
        },
        "outputId": "09104142-cdb8-419a-979e-599efe0fe15d"
      },
      "outputs": [
        {
          "output_type": "execute_result",
          "data": {
            "text/plain": [
              "4"
            ]
          },
          "metadata": {},
          "execution_count": 46
        }
      ],
      "source": [
        "arr1[-1]"
      ]
    },
    {
      "cell_type": "code",
      "execution_count": 47,
      "metadata": {
        "id": "-OnL7X7qxLSc",
        "tags": []
      },
      "outputs": [],
      "source": [
        "arr2d = np.array([[1, 2, 3],\n",
        "                 [4, 5, 6],\n",
        "                 [7, 8, 9]])"
      ]
    },
    {
      "cell_type": "code",
      "execution_count": 48,
      "metadata": {
        "id": "CdWsf_fPxLSp",
        "tags": [],
        "colab": {
          "base_uri": "https://localhost:8080/"
        },
        "outputId": "1b6b301e-d870-4fd4-b4de-127c710d04fa"
      },
      "outputs": [
        {
          "output_type": "execute_result",
          "data": {
            "text/plain": [
              "array([[1, 2, 3],\n",
              "       [4, 5, 6],\n",
              "       [7, 8, 9]])"
            ]
          },
          "metadata": {},
          "execution_count": 48
        }
      ],
      "source": [
        "arr2d"
      ]
    },
    {
      "cell_type": "code",
      "source": [
        "arr2d.shape"
      ],
      "metadata": {
        "id": "EU3Kht7jRvQr",
        "colab": {
          "base_uri": "https://localhost:8080/"
        },
        "outputId": "13d34fcc-e04e-4786-ae96-44b5166f83f8"
      },
      "execution_count": 49,
      "outputs": [
        {
          "output_type": "execute_result",
          "data": {
            "text/plain": [
              "(3, 3)"
            ]
          },
          "metadata": {},
          "execution_count": 49
        }
      ]
    },
    {
      "cell_type": "code",
      "execution_count": 50,
      "metadata": {
        "id": "d0BOY-y5xLSv",
        "tags": [],
        "colab": {
          "base_uri": "https://localhost:8080/"
        },
        "outputId": "8f532ff3-f149-4f98-d1d0-2586c64ed521"
      },
      "outputs": [
        {
          "output_type": "execute_result",
          "data": {
            "text/plain": [
              "array([[1, 2, 3],\n",
              "       [4, 5, 6]])"
            ]
          },
          "metadata": {},
          "execution_count": 50
        }
      ],
      "source": [
        "arr2d[:2]"
      ]
    },
    {
      "cell_type": "code",
      "execution_count": 51,
      "metadata": {
        "id": "59bha9y-xLS2",
        "tags": [],
        "colab": {
          "base_uri": "https://localhost:8080/"
        },
        "outputId": "39b4c736-ff18-4079-d632-1452a9bae3ce"
      },
      "outputs": [
        {
          "output_type": "execute_result",
          "data": {
            "text/plain": [
              "array([[1, 2, 3],\n",
              "       [4, 5, 6]])"
            ]
          },
          "metadata": {},
          "execution_count": 51
        }
      ],
      "source": [
        "arr2d[:2, :]"
      ]
    },
    {
      "cell_type": "code",
      "execution_count": 52,
      "metadata": {
        "id": "m-EcqOEJxLS5",
        "tags": [],
        "colab": {
          "base_uri": "https://localhost:8080/"
        },
        "outputId": "ee8224e8-d401-4059-cbb2-9bae209363ef"
      },
      "outputs": [
        {
          "output_type": "execute_result",
          "data": {
            "text/plain": [
              "array([5, 6])"
            ]
          },
          "metadata": {},
          "execution_count": 52
        }
      ],
      "source": [
        "arr2d[1, 1:]"
      ]
    },
    {
      "cell_type": "code",
      "source": [
        "arr2d[2, 1:]"
      ],
      "metadata": {
        "id": "Wn29kdXwTSYs",
        "colab": {
          "base_uri": "https://localhost:8080/"
        },
        "outputId": "3a9a9a07-ad27-4af4-e96f-372a48941340"
      },
      "execution_count": 53,
      "outputs": [
        {
          "output_type": "execute_result",
          "data": {
            "text/plain": [
              "array([8, 9])"
            ]
          },
          "metadata": {},
          "execution_count": 53
        }
      ]
    },
    {
      "cell_type": "code",
      "execution_count": 54,
      "metadata": {
        "id": "KbO7RdGtxLS8",
        "tags": [],
        "colab": {
          "base_uri": "https://localhost:8080/"
        },
        "outputId": "b97fe553-fbfb-4c4e-978b-36d6b630968c"
      },
      "outputs": [
        {
          "output_type": "execute_result",
          "data": {
            "text/plain": [
              "array([2, 5, 8])"
            ]
          },
          "metadata": {},
          "execution_count": 54
        }
      ],
      "source": [
        "arr2d[:, 1]"
      ]
    },
    {
      "cell_type": "markdown",
      "metadata": {
        "id": "aBsjHncpxLTA"
      },
      "source": [
        "## Funciones de agregación\n",
        "\n",
        "Suelen expresarse como métodos del objeto ndarray. En general, tienen como consecuencia disminuir las dimensiones del arreglo y son muy utilizados en matemáticas y física.<br>\n",
        "La siguiente tabla muestra los más utilizados, puede encontrar la documentación [aquí](https://docs.scipy.org/doc/numpy-1.13.0/reference/arrays.ndarray.html#calculation).\n",
        "\n",
        "| Operación | Descripción |\n",
        "|:----------|:------------|\n",
        "| `a.sum()`    | Retorna la suma del arreglo en el eje dado |\n",
        "| `a.min()`    | Retorna el valor mínimo de un eje |\n",
        "| `a.mean()`   | Retorna la media aritmética en un eje dado |\n",
        "| `a.var()`    | Retorna la varianza en un eje dado|\n",
        "| `a.std()`    | Retorna la desviación estándar en un eje dado |\n",
        "| `a.prod()`   | Retorna el producto en un eje dado |\n",
        "| `a.argmin()` | Retorna el índice donde ocurren los valores mínimos de cada eje |\n",
        "| `a.ptp()`    | Valor pico a pico en un eje |\n",
        "| `a.conj()`   | Retorna el conjugado complejo de todos los elementos |\n",
        "| `a.round()`  | Retorna el valor redondeado de cada elemento |\n",
        "| `a.trace()`  | Retorna la suma de las diagonales del arreglo |\n",
        "| `a.argmax()` | Retorna el índice donde ocurren los valores máximos de cada eje |\n",
        "| `a.cumsum()` | Retorna la suma acumulativa en un eje dado |\n",
        "| `a.cumprod()`| Retorna el producto acumulativo en un eje dado |"
      ]
    },
    {
      "cell_type": "code",
      "source": [
        "arr1"
      ],
      "metadata": {
        "id": "D5QspF8qRbnk",
        "colab": {
          "base_uri": "https://localhost:8080/"
        },
        "outputId": "427a37e6-2280-4525-a508-b31a9177e806"
      },
      "execution_count": 55,
      "outputs": [
        {
          "output_type": "execute_result",
          "data": {
            "text/plain": [
              "array([1, 2, 3, 4])"
            ]
          },
          "metadata": {},
          "execution_count": 55
        }
      ]
    },
    {
      "cell_type": "code",
      "execution_count": 56,
      "metadata": {
        "id": "sIRZ_CsvxLTA",
        "jupyter": {
          "outputs_hidden": true
        },
        "colab": {
          "base_uri": "https://localhost:8080/"
        },
        "outputId": "3ff8143a-ca26-40f0-dd2a-98408d306bf2"
      },
      "outputs": [
        {
          "output_type": "execute_result",
          "data": {
            "text/plain": [
              "2.5"
            ]
          },
          "metadata": {},
          "execution_count": 56
        }
      ],
      "source": [
        "arr1.mean()"
      ]
    },
    {
      "cell_type": "code",
      "execution_count": 57,
      "metadata": {
        "id": "MZrPXcATxLTE",
        "jupyter": {
          "outputs_hidden": true
        },
        "colab": {
          "base_uri": "https://localhost:8080/"
        },
        "outputId": "2600ac37-5228-40aa-c6aa-2a8cc7e1d7c0"
      },
      "outputs": [
        {
          "output_type": "execute_result",
          "data": {
            "text/plain": [
              "1.118033988749895"
            ]
          },
          "metadata": {},
          "execution_count": 57
        }
      ],
      "source": [
        "arr1.std()"
      ]
    },
    {
      "cell_type": "code",
      "execution_count": 58,
      "metadata": {
        "collapsed": true,
        "id": "WXIKvNdlxLTH",
        "jupyter": {
          "outputs_hidden": true
        },
        "colab": {
          "base_uri": "https://localhost:8080/"
        },
        "outputId": "8c1f2eb3-c108-4826-abcc-d491bb3e58e4"
      },
      "outputs": [
        {
          "output_type": "execute_result",
          "data": {
            "text/plain": [
              "(4,)"
            ]
          },
          "metadata": {},
          "execution_count": 58
        }
      ],
      "source": [
        "arr1.shape"
      ]
    },
    {
      "cell_type": "code",
      "execution_count": 59,
      "metadata": {
        "collapsed": true,
        "id": "pT9GKcSVxLTL",
        "jupyter": {
          "outputs_hidden": true
        },
        "colab": {
          "base_uri": "https://localhost:8080/"
        },
        "outputId": "251ef676-8824-4e15-eedf-6958a7e79f0f"
      },
      "outputs": [
        {
          "output_type": "execute_result",
          "data": {
            "text/plain": [
              "4"
            ]
          },
          "metadata": {},
          "execution_count": 59
        }
      ],
      "source": [
        "arr1.size"
      ]
    },
    {
      "cell_type": "code",
      "execution_count": 60,
      "metadata": {
        "collapsed": true,
        "id": "v9DveLnvxLTP",
        "jupyter": {
          "outputs_hidden": true
        },
        "colab": {
          "base_uri": "https://localhost:8080/"
        },
        "outputId": "eb70083b-2394-43da-9422-c79e99ef783c"
      },
      "outputs": [
        {
          "output_type": "execute_result",
          "data": {
            "text/plain": [
              "array([[1., 1., 1.],\n",
              "       [1., 1., 1.]])"
            ]
          },
          "metadata": {},
          "execution_count": 60
        }
      ],
      "source": [
        "arr2 = np.ones((2, 3))\n",
        "arr2"
      ]
    },
    {
      "cell_type": "code",
      "execution_count": 61,
      "metadata": {
        "collapsed": true,
        "id": "4qiq5xJQ8LW6",
        "jupyter": {
          "outputs_hidden": true
        },
        "colab": {
          "base_uri": "https://localhost:8080/"
        },
        "outputId": "372de2e8-6e1d-4f31-a452-f4b40514fa96"
      },
      "outputs": [
        {
          "output_type": "execute_result",
          "data": {
            "text/plain": [
              "3"
            ]
          },
          "metadata": {},
          "execution_count": 61
        }
      ],
      "source": [
        "arr1.argmax()"
      ]
    },
    {
      "cell_type": "code",
      "execution_count": 62,
      "metadata": {
        "collapsed": true,
        "id": "U83l3jIVxLTS",
        "jupyter": {
          "outputs_hidden": true
        },
        "colab": {
          "base_uri": "https://localhost:8080/"
        },
        "outputId": "7bc7ca1f-d113-4003-bacf-3755c1db85d2"
      },
      "outputs": [
        {
          "output_type": "execute_result",
          "data": {
            "text/plain": [
              "(2, 3)"
            ]
          },
          "metadata": {},
          "execution_count": 62
        }
      ],
      "source": [
        "arr2.shape"
      ]
    },
    {
      "cell_type": "code",
      "source": [
        "arr2.argmax()"
      ],
      "metadata": {
        "id": "d2w1ptUjUk0Y",
        "colab": {
          "base_uri": "https://localhost:8080/"
        },
        "outputId": "8d663b09-a37f-4b0a-e601-70acc71cdd1b"
      },
      "execution_count": 63,
      "outputs": [
        {
          "output_type": "execute_result",
          "data": {
            "text/plain": [
              "0"
            ]
          },
          "metadata": {},
          "execution_count": 63
        }
      ]
    },
    {
      "cell_type": "code",
      "execution_count": 64,
      "metadata": {
        "collapsed": true,
        "id": "3bciJC6QxLTW",
        "jupyter": {
          "outputs_hidden": true
        },
        "colab": {
          "base_uri": "https://localhost:8080/"
        },
        "outputId": "e8e3e6d8-2ea8-4ece-ae8e-ffda0c4361d2"
      },
      "outputs": [
        {
          "output_type": "execute_result",
          "data": {
            "text/plain": [
              "6"
            ]
          },
          "metadata": {},
          "execution_count": 64
        }
      ],
      "source": [
        "arr2.size"
      ]
    },
    {
      "cell_type": "code",
      "execution_count": 65,
      "metadata": {
        "collapsed": true,
        "id": "6v-j-IwDxLTZ",
        "jupyter": {
          "outputs_hidden": true
        },
        "colab": {
          "base_uri": "https://localhost:8080/"
        },
        "outputId": "47604757-3665-4453-a64f-0ffda1b9fa08"
      },
      "outputs": [
        {
          "output_type": "execute_result",
          "data": {
            "text/plain": [
              "2"
            ]
          },
          "metadata": {},
          "execution_count": 65
        }
      ],
      "source": [
        "len(arr2)"
      ]
    },
    {
      "cell_type": "code",
      "source": [
        "ceros = np.zeros((10, 2))\n",
        "ceros"
      ],
      "metadata": {
        "id": "98ea5hYTU5Ua",
        "colab": {
          "base_uri": "https://localhost:8080/"
        },
        "outputId": "67d2bd9b-9a5f-4b7a-c946-96fde0a007b3"
      },
      "execution_count": 66,
      "outputs": [
        {
          "output_type": "execute_result",
          "data": {
            "text/plain": [
              "array([[0., 0.],\n",
              "       [0., 0.],\n",
              "       [0., 0.],\n",
              "       [0., 0.],\n",
              "       [0., 0.],\n",
              "       [0., 0.],\n",
              "       [0., 0.],\n",
              "       [0., 0.],\n",
              "       [0., 0.],\n",
              "       [0., 0.]])"
            ]
          },
          "metadata": {},
          "execution_count": 66
        }
      ]
    },
    {
      "cell_type": "code",
      "source": [
        "len(ceros)"
      ],
      "metadata": {
        "id": "0WNE3b4eVC9V",
        "colab": {
          "base_uri": "https://localhost:8080/"
        },
        "outputId": "213414cb-fef4-4f87-a083-c2ab01fa41db"
      },
      "execution_count": 67,
      "outputs": [
        {
          "output_type": "execute_result",
          "data": {
            "text/plain": [
              "10"
            ]
          },
          "metadata": {},
          "execution_count": 67
        }
      ]
    },
    {
      "cell_type": "code",
      "source": [
        "ceros.size"
      ],
      "metadata": {
        "id": "nitsKeByVGyV",
        "colab": {
          "base_uri": "https://localhost:8080/"
        },
        "outputId": "fa83fb51-d64a-4909-c4a1-750864ebedd9"
      },
      "execution_count": 68,
      "outputs": [
        {
          "output_type": "execute_result",
          "data": {
            "text/plain": [
              "20"
            ]
          },
          "metadata": {},
          "execution_count": 68
        }
      ]
    },
    {
      "cell_type": "markdown",
      "metadata": {
        "id": "dtsSUUSXxLTd"
      },
      "source": [
        "## Funciones universales\n",
        "\n",
        "Son funciones optimizadas que operan sobre el array. Difícilmente vamos a necesitar hacer algo que no esté ya implementado. Lista completa de funciones universales: [enlace](https://docs.scipy.org/doc/numpy-1.13.0/reference/ufuncs.html#math-operations)"
      ]
    },
    {
      "cell_type": "markdown",
      "metadata": {
        "id": "ULGS-Qy6xLTd"
      },
      "source": [
        "### Funciones para crear ndarrays\n",
        "\n",
        "Hay muchas formas de crear arreglos en Numpy, puede explorarlas todas en este [enlace](https://docs.scipy.org/doc/numpy-1.13.0/reference/routines.array-creation.html). Las más comunes son:\n",
        "\n",
        "| Función | Descripción |\n",
        "|:--------|:------------|\n",
        "| `empty` | Arreglo vacío |\n",
        "| `zeros` | Arreglo de ceros |\n",
        "| `ones`  | Arreglo de unos |\n",
        "| `full`  | Se especifica un valor para llenar todo el arreglo con él |\n",
        "| `identity` | Unos en la diagonal y cero en el resto |\n",
        "| `array` | Constructor genérico |\n",
        "| `fromfunction` | Según una función dada que retorna un valor para cada punto de la coordenada |\n",
        "| `loadtxt` | Carga los datos de un archivo |"
      ]
    },
    {
      "cell_type": "code",
      "execution_count": 69,
      "metadata": {
        "id": "3oqmmTcMxLTe",
        "tags": [],
        "colab": {
          "base_uri": "https://localhost:8080/"
        },
        "outputId": "bfe6f302-74df-4da7-bf4d-bd04dc21c239"
      },
      "outputs": [
        {
          "output_type": "execute_result",
          "data": {
            "text/plain": [
              "array([1., 1., 1.])"
            ]
          },
          "metadata": {},
          "execution_count": 69
        }
      ],
      "source": [
        "np.ones(3)"
      ]
    },
    {
      "cell_type": "code",
      "source": [
        "np.zeros(5)"
      ],
      "metadata": {
        "id": "2gu8-Hm2VVOy",
        "colab": {
          "base_uri": "https://localhost:8080/"
        },
        "outputId": "94a6f269-ce74-4dd3-b4dd-60a018fa5f38"
      },
      "execution_count": 70,
      "outputs": [
        {
          "output_type": "execute_result",
          "data": {
            "text/plain": [
              "array([0., 0., 0., 0., 0.])"
            ]
          },
          "metadata": {},
          "execution_count": 70
        }
      ]
    },
    {
      "cell_type": "code",
      "execution_count": 71,
      "metadata": {
        "id": "py63Pi48xLTh",
        "tags": [],
        "colab": {
          "base_uri": "https://localhost:8080/"
        },
        "outputId": "1a4eaee8-cfb3-45db-f7e4-d814dfbd59ec"
      },
      "outputs": [
        {
          "output_type": "execute_result",
          "data": {
            "text/plain": [
              "array([[10, 10, 10, 10, 10],\n",
              "       [10, 10, 10, 10, 10]])"
            ]
          },
          "metadata": {},
          "execution_count": 71
        }
      ],
      "source": [
        "np.full([2,5], fill_value=10)"
      ]
    },
    {
      "cell_type": "markdown",
      "metadata": {
        "id": "we6fyUhF4TU8"
      },
      "source": [
        "# Ejercicios"
      ]
    },
    {
      "cell_type": "markdown",
      "metadata": {
        "id": "SYvqbJHa4U5b"
      },
      "source": [
        "1.   Crear un ndarray de Numpy de 100 números enteros aleatorios con valores de -100 a +100.\n",
        "\n",
        "NOTA: El método recomendado para generar números aleatorios es mediante el uso de la clase Generator. Ver [Random Generator](https://numpy.org/doc/stable/reference/random/generator.html#numpy.random.Generator)"
      ]
    },
    {
      "cell_type": "code",
      "execution_count": 72,
      "metadata": {
        "id": "u5qG2KWP4pel",
        "tags": [],
        "colab": {
          "base_uri": "https://localhost:8080/"
        },
        "outputId": "fe49d671-486e-48a2-f5d9-c57b4e4042f6"
      },
      "outputs": [
        {
          "output_type": "execute_result",
          "data": {
            "text/plain": [
              "array([  23,  -99,   81,   60,  -36,  -39,  -54,   53,   73,   30,   96,\n",
              "        -66,  -82,   30,   83,   66,    9,   32,   81,  -60,  -37,  -16,\n",
              "        -77,  -45,   97,  -26,   23,   52,   38,  -69,   33, -100,  -70,\n",
              "         26,  -36,  -94,  -58,  -17,  -96,   81,   -1,  -51,   42,   48,\n",
              "         41,  -11,  -54,  -88,   -9,  -17,    7,    7,   12,  -26,  -81,\n",
              "        -49,   59,   32,   57,   92,  -22,  -90,  -62,   39,   24,   18,\n",
              "        -49,  -27,  -97,  -89,   64,   93,   21,   -8,   17,   41,  -78,\n",
              "        -88,   33,   -3,  -53,  -99,   52,   79,  -65,  -69,  -17,   64,\n",
              "         94,  -74,  -95,   81,   75,  -56,  -64,  -91,   10,   98,   67,\n",
              "          0])"
            ]
          },
          "metadata": {},
          "execution_count": 72
        }
      ],
      "source": [
        "# Método antiguo (legacy)\n",
        "arr = np.random.randint(-100, 101, size=100)\n",
        "arr"
      ]
    },
    {
      "cell_type": "code",
      "source": [
        "# Método nuevo (recomendado)\n",
        "# Crear una instancia de la clase Generator\n",
        "rng = np.random.default_rng()\n",
        "\n",
        "# Generar un ndarray de 100 números enteros aleatorios en el rango de -100 a +100\n",
        "arr = rng.integers(low=-100, high=100, size=100)\n",
        "\n",
        "print(arr)"
      ],
      "metadata": {
        "id": "3f1Ho6ojWiw6",
        "colab": {
          "base_uri": "https://localhost:8080/"
        },
        "outputId": "9b831409-eab2-442d-d7bc-0cb34d22397a"
      },
      "execution_count": 73,
      "outputs": [
        {
          "output_type": "stream",
          "name": "stdout",
          "text": [
            "[ 13 -56  89  19  72 -27  85  64  86  -9 -78 -51  57 -58 -56 -64  83  86\n",
            "  38 -14 -87 -17  13  78 -66 -50  56  46 -46  13  43   9  79  92  18 -88\n",
            " -45  16  45  86 -81  82  82  98  31 -11 -82  22  85  12 -88  99 -90 -21\n",
            " -86  68   0  78  34 -33   4  79 -93  13 -46  50  -6  34  32 -89 -54  84\n",
            " -11  22  89  -2 -82 -22  52 -91  17 -27  -8  81 -72 -70  60 -51 -92 -12\n",
            "  31 -76 -28 -90  54  81 -39  48 -41   6]\n"
          ]
        }
      ]
    },
    {
      "cell_type": "markdown",
      "metadata": {
        "id": "v1F35TCC4qAv"
      },
      "source": [
        "2.   Usando arrays de booleanos crear 3 arrays que contengan los positivos, los negativos y los mayores de 50 del array generado en el punto 1."
      ]
    },
    {
      "cell_type": "code",
      "execution_count": 74,
      "metadata": {
        "id": "yc_DUCQn4q2V",
        "tags": [],
        "colab": {
          "base_uri": "https://localhost:8080/"
        },
        "outputId": "ea8525a9-9a82-48b5-d4a8-ea21800c530b"
      },
      "outputs": [
        {
          "output_type": "execute_result",
          "data": {
            "text/plain": [
              "array([False, False,  True, False,  True, False,  True,  True,  True,\n",
              "       False, False, False,  True, False, False, False,  True,  True,\n",
              "       False, False, False, False, False,  True, False, False,  True,\n",
              "       False, False, False, False, False,  True,  True, False, False,\n",
              "       False, False, False,  True, False,  True,  True,  True, False,\n",
              "       False, False, False,  True, False, False,  True, False, False,\n",
              "       False,  True, False,  True, False, False, False,  True, False,\n",
              "       False, False, False, False, False, False, False, False,  True,\n",
              "       False, False,  True, False, False, False,  True, False, False,\n",
              "       False, False,  True, False, False,  True, False, False, False,\n",
              "       False, False, False, False,  True,  True, False, False, False,\n",
              "       False])"
            ]
          },
          "metadata": {},
          "execution_count": 74
        }
      ],
      "source": [
        "# Crear arrays booleanos para los números positivos, negativos y mayores de 50\n",
        "positivos = arr > 0\n",
        "negativos = arr < 0\n",
        "mayores_50 = arr > 50\n",
        "\n",
        "mayores_50"
      ]
    },
    {
      "cell_type": "code",
      "source": [
        "type(positivos)"
      ],
      "metadata": {
        "id": "i9hrlZW2XVSZ",
        "colab": {
          "base_uri": "https://localhost:8080/"
        },
        "outputId": "55060506-c985-4a1a-8389-6e9f01713562"
      },
      "execution_count": 75,
      "outputs": [
        {
          "output_type": "execute_result",
          "data": {
            "text/plain": [
              "numpy.ndarray"
            ]
          },
          "metadata": {},
          "execution_count": 75
        }
      ]
    },
    {
      "cell_type": "code",
      "source": [
        "positivos.dtype"
      ],
      "metadata": {
        "id": "RKwUWlNBXcZV",
        "colab": {
          "base_uri": "https://localhost:8080/"
        },
        "outputId": "9a2f7f98-b549-468d-f697-59f19c069351"
      },
      "execution_count": 76,
      "outputs": [
        {
          "output_type": "execute_result",
          "data": {
            "text/plain": [
              "dtype('bool')"
            ]
          },
          "metadata": {},
          "execution_count": 76
        }
      ]
    },
    {
      "cell_type": "code",
      "source": [
        "arr"
      ],
      "metadata": {
        "colab": {
          "base_uri": "https://localhost:8080/"
        },
        "id": "YsI6ww89xBx7",
        "outputId": "a9af3cf2-4ff8-4fbc-d53a-57d0e0416735"
      },
      "execution_count": 77,
      "outputs": [
        {
          "output_type": "execute_result",
          "data": {
            "text/plain": [
              "array([ 13, -56,  89,  19,  72, -27,  85,  64,  86,  -9, -78, -51,  57,\n",
              "       -58, -56, -64,  83,  86,  38, -14, -87, -17,  13,  78, -66, -50,\n",
              "        56,  46, -46,  13,  43,   9,  79,  92,  18, -88, -45,  16,  45,\n",
              "        86, -81,  82,  82,  98,  31, -11, -82,  22,  85,  12, -88,  99,\n",
              "       -90, -21, -86,  68,   0,  78,  34, -33,   4,  79, -93,  13, -46,\n",
              "        50,  -6,  34,  32, -89, -54,  84, -11,  22,  89,  -2, -82, -22,\n",
              "        52, -91,  17, -27,  -8,  81, -72, -70,  60, -51, -92, -12,  31,\n",
              "       -76, -28, -90,  54,  81, -39,  48, -41,   6])"
            ]
          },
          "metadata": {},
          "execution_count": 77
        }
      ]
    },
    {
      "cell_type": "code",
      "source": [
        "positivos"
      ],
      "metadata": {
        "colab": {
          "base_uri": "https://localhost:8080/"
        },
        "id": "Ittx267Zw8vz",
        "outputId": "99956c39-889d-46a2-cc65-1d1a5d4a8c8d"
      },
      "execution_count": 78,
      "outputs": [
        {
          "output_type": "execute_result",
          "data": {
            "text/plain": [
              "array([ True, False,  True,  True,  True, False,  True,  True,  True,\n",
              "       False, False, False,  True, False, False, False,  True,  True,\n",
              "        True, False, False, False,  True,  True, False, False,  True,\n",
              "        True, False,  True,  True,  True,  True,  True,  True, False,\n",
              "       False,  True,  True,  True, False,  True,  True,  True,  True,\n",
              "       False, False,  True,  True,  True, False,  True, False, False,\n",
              "       False,  True, False,  True,  True, False,  True,  True, False,\n",
              "        True, False,  True, False,  True,  True, False, False,  True,\n",
              "       False,  True,  True, False, False, False,  True, False,  True,\n",
              "       False, False,  True, False, False,  True, False, False, False,\n",
              "        True, False, False, False,  True,  True, False,  True, False,\n",
              "        True])"
            ]
          },
          "metadata": {},
          "execution_count": 78
        }
      ]
    },
    {
      "cell_type": "code",
      "source": [
        "arr_positivos = arr[positivos]\n",
        "arr_positivos"
      ],
      "metadata": {
        "id": "tu4y7U26FhuZ",
        "colab": {
          "base_uri": "https://localhost:8080/"
        },
        "outputId": "b7a65d9e-4ab2-493d-fd2b-ffb706f55a3c"
      },
      "execution_count": 79,
      "outputs": [
        {
          "output_type": "execute_result",
          "data": {
            "text/plain": [
              "array([13, 89, 19, 72, 85, 64, 86, 57, 83, 86, 38, 13, 78, 56, 46, 13, 43,\n",
              "        9, 79, 92, 18, 16, 45, 86, 82, 82, 98, 31, 22, 85, 12, 99, 68, 78,\n",
              "       34,  4, 79, 13, 50, 34, 32, 84, 22, 89, 52, 17, 81, 60, 31, 54, 81,\n",
              "       48,  6])"
            ]
          },
          "metadata": {},
          "execution_count": 79
        }
      ]
    },
    {
      "cell_type": "code",
      "source": [
        "# Utilizar los arrays booleanos para crear arrays filtrados con los números correspondientes\n",
        "arr_positivos = arr[positivos]\n",
        "arr_negativos = arr[negativos]\n",
        "arr_mayores_50 = arr[mayores_50]\n",
        "\n",
        "# Imprimir los arrays filtrados\n",
        "print(\"Array original:\")\n",
        "print(arr)\n",
        "\n",
        "print(\"Positivos:\")\n",
        "print(arr_positivos)\n",
        "\n",
        "print(\"Negativos:\")\n",
        "print(arr_negativos)\n",
        "\n",
        "print(\"Mayores de 50:\")\n",
        "print(arr_mayores_50)"
      ],
      "metadata": {
        "id": "AuPeq7mGW8Cg",
        "colab": {
          "base_uri": "https://localhost:8080/"
        },
        "outputId": "ef770a45-3052-43d9-c48e-1a8d73f491c3"
      },
      "execution_count": 80,
      "outputs": [
        {
          "output_type": "stream",
          "name": "stdout",
          "text": [
            "Array original:\n",
            "[ 13 -56  89  19  72 -27  85  64  86  -9 -78 -51  57 -58 -56 -64  83  86\n",
            "  38 -14 -87 -17  13  78 -66 -50  56  46 -46  13  43   9  79  92  18 -88\n",
            " -45  16  45  86 -81  82  82  98  31 -11 -82  22  85  12 -88  99 -90 -21\n",
            " -86  68   0  78  34 -33   4  79 -93  13 -46  50  -6  34  32 -89 -54  84\n",
            " -11  22  89  -2 -82 -22  52 -91  17 -27  -8  81 -72 -70  60 -51 -92 -12\n",
            "  31 -76 -28 -90  54  81 -39  48 -41   6]\n",
            "Positivos:\n",
            "[13 89 19 72 85 64 86 57 83 86 38 13 78 56 46 13 43  9 79 92 18 16 45 86\n",
            " 82 82 98 31 22 85 12 99 68 78 34  4 79 13 50 34 32 84 22 89 52 17 81 60\n",
            " 31 54 81 48  6]\n",
            "Negativos:\n",
            "[-56 -27  -9 -78 -51 -58 -56 -64 -14 -87 -17 -66 -50 -46 -88 -45 -81 -11\n",
            " -82 -88 -90 -21 -86 -33 -93 -46  -6 -89 -54 -11  -2 -82 -22 -91 -27  -8\n",
            " -72 -70 -51 -92 -12 -76 -28 -90 -39 -41]\n",
            "Mayores de 50:\n",
            "[89 72 85 64 86 57 83 86 78 56 79 92 86 82 82 98 85 99 68 78 79 84 89 52\n",
            " 81 60 54 81]\n"
          ]
        }
      ]
    },
    {
      "cell_type": "markdown",
      "metadata": {
        "id": "zg5a3cB54zgf"
      },
      "source": [
        "3.   Crear un array bidimensional de 5x5 con todos los valores cero. Usando el indexado de arrays, asignar 1 a todos los elementos de la última fila y 5 a todos los elementos de la primera columna. Finalmente, asignar el valor 100 a todos los elementos del subarray central 3x3 de la matriz de 5x5."
      ]
    },
    {
      "cell_type": "code",
      "source": [
        "# Crear un array bidimensional de 5x5 con valores cero\n",
        "arr = np.zeros((5, 5))\n",
        "arr"
      ],
      "metadata": {
        "colab": {
          "base_uri": "https://localhost:8080/"
        },
        "id": "2p0_RTC7xrQU",
        "outputId": "eae5a1eb-a25d-4cf4-9581-42dcdac159da"
      },
      "execution_count": 81,
      "outputs": [
        {
          "output_type": "execute_result",
          "data": {
            "text/plain": [
              "array([[0., 0., 0., 0., 0.],\n",
              "       [0., 0., 0., 0., 0.],\n",
              "       [0., 0., 0., 0., 0.],\n",
              "       [0., 0., 0., 0., 0.],\n",
              "       [0., 0., 0., 0., 0.]])"
            ]
          },
          "metadata": {},
          "execution_count": 81
        }
      ]
    },
    {
      "cell_type": "code",
      "source": [
        "# Asignar 1 a todos los elementos de la última fila\n",
        "arr[-1] = 1\n",
        "arr"
      ],
      "metadata": {
        "colab": {
          "base_uri": "https://localhost:8080/"
        },
        "id": "vAYgXKilxyXE",
        "outputId": "a1c300a6-bcd1-49c3-942c-2d621b143642"
      },
      "execution_count": 82,
      "outputs": [
        {
          "output_type": "execute_result",
          "data": {
            "text/plain": [
              "array([[0., 0., 0., 0., 0.],\n",
              "       [0., 0., 0., 0., 0.],\n",
              "       [0., 0., 0., 0., 0.],\n",
              "       [0., 0., 0., 0., 0.],\n",
              "       [1., 1., 1., 1., 1.]])"
            ]
          },
          "metadata": {},
          "execution_count": 82
        }
      ]
    },
    {
      "cell_type": "code",
      "source": [
        "# Asignar 5 a todos los elementos de la primera columna\n",
        "arr[:, 0] = 5\n",
        "arr"
      ],
      "metadata": {
        "colab": {
          "base_uri": "https://localhost:8080/"
        },
        "id": "fL-z_2uAx9Ga",
        "outputId": "8c47053f-4218-4a2c-85e0-0f4c1d6a35ba"
      },
      "execution_count": 83,
      "outputs": [
        {
          "output_type": "execute_result",
          "data": {
            "text/plain": [
              "array([[5., 0., 0., 0., 0.],\n",
              "       [5., 0., 0., 0., 0.],\n",
              "       [5., 0., 0., 0., 0.],\n",
              "       [5., 0., 0., 0., 0.],\n",
              "       [5., 1., 1., 1., 1.]])"
            ]
          },
          "metadata": {},
          "execution_count": 83
        }
      ]
    },
    {
      "cell_type": "code",
      "execution_count": 84,
      "metadata": {
        "id": "eNxFHLgI7aAH",
        "tags": [],
        "colab": {
          "base_uri": "https://localhost:8080/"
        },
        "outputId": "eb81e604-647b-4095-cbcc-e97612617bc6"
      },
      "outputs": [
        {
          "output_type": "stream",
          "name": "stdout",
          "text": [
            "[[  5.   0.   0.   0.   0.]\n",
            " [  5. 100. 100. 100.   0.]\n",
            " [  5. 100. 100. 100.   0.]\n",
            " [  5. 100. 100. 100.   0.]\n",
            " [  5.   1.   1.   1.   1.]]\n"
          ]
        }
      ],
      "source": [
        "# Asignar 100 a todos los elementos del subarray central 3x3\n",
        "arr[1:4, 1:4] = 100\n",
        "\n",
        "# Imprimir el array resultante\n",
        "print(arr)"
      ]
    },
    {
      "cell_type": "markdown",
      "metadata": {
        "id": "K3b5dKsn7jEO"
      },
      "source": [
        "4.   Crear una matriz de 10 x 3 con valores aleatorios entre cero y uno\n",
        "\n"
      ]
    },
    {
      "cell_type": "code",
      "execution_count": 85,
      "metadata": {
        "id": "bXR3mAkY7xJr",
        "tags": [],
        "colab": {
          "base_uri": "https://localhost:8080/"
        },
        "outputId": "60d1ba76-a7da-4f64-dc44-b88e0d39e10e"
      },
      "outputs": [
        {
          "output_type": "stream",
          "name": "stdout",
          "text": [
            "[[0.96519005 0.28592288 0.68870162]\n",
            " [0.22833417 0.1080428  0.36081608]\n",
            " [0.49806695 0.73692218 0.76456645]\n",
            " [0.18051975 0.23158169 0.33990683]\n",
            " [0.63719329 0.66289105 0.34981165]\n",
            " [0.82960701 0.36969689 0.42572885]\n",
            " [0.56290532 0.41533951 0.59406604]\n",
            " [0.74456159 0.56056928 0.14173792]\n",
            " [0.08956535 0.4843031  0.80074647]\n",
            " [0.54130685 0.39265524 0.87609651]]\n"
          ]
        }
      ],
      "source": [
        "# Crear una matriz de 10x3 con valores aleatorios entre cero y uno\n",
        "matriz = np.random.rand(10, 3)\n",
        "\n",
        "print(matriz)"
      ]
    },
    {
      "cell_type": "markdown",
      "metadata": {
        "id": "oMjbP0N07xhf"
      },
      "source": [
        "\n",
        "5.   Buscar el valor mínimo de la matriz creada en el punto 4."
      ]
    },
    {
      "cell_type": "code",
      "execution_count": 86,
      "metadata": {
        "id": "kMBMIAlr73Az",
        "tags": [],
        "colab": {
          "base_uri": "https://localhost:8080/"
        },
        "outputId": "beec39e2-6e29-44fa-fbad-21abbce75186"
      },
      "outputs": [
        {
          "output_type": "stream",
          "name": "stdout",
          "text": [
            "El valor mínimo de la matriz (np.amin) es: 0.08956535408314314\n",
            "El valor mínimo de la matriz (np.min) es: 0.08956535408314314\n"
          ]
        }
      ],
      "source": [
        "# Buscar el valor mínimo de la matriz\n",
        "minimo = np.amin(matriz)\n",
        "\n",
        "print(\"El valor mínimo de la matriz (np.amin) es:\", minimo)\n",
        "\n",
        "# Otra forma de hacer lo mismo para encontrar el valor mínimo de la matriz\n",
        "min_value = matriz.min()\n",
        "\n",
        "print(\"El valor mínimo de la matriz (np.min) es:\", min_value)"
      ]
    },
    {
      "cell_type": "markdown",
      "metadata": {
        "id": "XAW8IQgO73WL"
      },
      "source": [
        "6.   Buscar la posición (índice) del valor mínimo de la matriz"
      ]
    },
    {
      "cell_type": "code",
      "execution_count": 87,
      "metadata": {
        "id": "iaMPaBPw77QZ",
        "tags": [],
        "colab": {
          "base_uri": "https://localhost:8080/"
        },
        "outputId": "24582c12-883c-4545-c011-93d7b3dae784"
      },
      "outputs": [
        {
          "output_type": "stream",
          "name": "stdout",
          "text": [
            "El valor mínimo es 0.08956535408314314 y su posición es (8, 0)\n",
            "El índice plano del valor mínimo es: 24. El índice en forma de tupla es: (8, 0)\n"
          ]
        }
      ],
      "source": [
        "# Buscar la posición (índice) del valor mínimo de la matriz\n",
        "\n",
        "indice_minimo_flat = matriz.argmin()\n",
        "indice_minimo = np.unravel_index(indice_minimo_flat, matriz.shape)\n",
        "\n",
        "print(f\"El valor mínimo es {min_value} y su posición es {indice_minimo}\")\n",
        "\n",
        "print(f'El índice plano del valor mínimo es: {indice_minimo_flat}. El índice en forma de tupla es: {indice_minimo}')"
      ]
    }
  ],
  "metadata": {
    "anaconda-cloud": {},
    "colab": {
      "provenance": []
    },
    "kernelspec": {
      "display_name": "Python 3 (ipykernel)",
      "language": "python",
      "name": "python3"
    },
    "language_info": {
      "codemirror_mode": {
        "name": "ipython",
        "version": 3
      },
      "file_extension": ".py",
      "mimetype": "text/x-python",
      "name": "python",
      "nbconvert_exporter": "python",
      "pygments_lexer": "ipython3",
      "version": "3.9.13"
    }
  },
  "nbformat": 4,
  "nbformat_minor": 0
}