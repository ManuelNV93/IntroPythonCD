{
  "cells": [
    {
      "cell_type": "markdown",
      "metadata": {
        "id": "view-in-github"
      },
      "source": [
        "<a href=\"https://colab.research.google.com/github/Argentan/DMA_LAB2/blob/master/tutoriales/02_intro_python.ipynb\" target=\"_parent\"><img src=\"https://colab.research.google.com/assets/colab-badge.svg\" alt=\"Open In Colab\"/></a>"
      ]
    },
    {
      "cell_type": "markdown",
      "metadata": {
        "id": "e-KEplDxcwVo"
      },
      "source": [
        "# Breve introducción a Python\n",
        "\n",
        "Python es un lenguaje interpretado de tipos dinámicos. A diferencia de R, por ejemplo, es un lenguaje de uso general y su capacidad para las ciencias de datos no viene dada desde sus librerías internas sino por los módulos externos. Se puede usar en forma imperativa u orientada a objetos; teóricamente también dentro del paradigma de programación funcional, pero con ciertas limitaciones (existen límites para ejecución recursiva, por ejemplo).\n",
        "\n",
        "Python puro tiende a ser lento (para ejecutar, rápido para escribir), por tener tipos dinámicos y por el GIL. Sin embargo, el intérprete más comúnmente usado (CPytyhon) esta implementado en C y permite la integración de módulos externos de C, C++ y Fortran que, bien utilizados, permiten la aceleración de las partes claves de un programa. \n",
        "\n",
        "Desde lo estético, Python reemplaza las llaves por indentaciones, cosa que fuerza un código más legible. Por lo demás, existe toda una \"filosofía\" de lo que es \"pythonico\", en términos de prolijidad, funcionalidad y belleza del código."
      ]
    },
    {
      "cell_type": "markdown",
      "source": [
        "## import this\n",
        "\n",
        "\"import this\" es un módulo incorporado en Python que imprime el poema \"The Zen of Python\" (El Zen de Python) en la consola. El poema fue escrito por Tim Peters, un destacado desarrollador de software de Python, y es una colección de principios que los programadores de Python pueden seguir para escribir código legible y elegante.\n",
        "\n",
        "El poema contiene 19 líneas de código que resumen los principios de diseño y estilo de Python, como la legibilidad, la simplicidad y la explícitud. El uso de \"import this\" en Python es una forma divertida y educativa de recordar a los programadores la importancia de seguir buenas prácticas de programación al escribir código en Python."
      ],
      "metadata": {
        "id": "d-PIqcvH77KC"
      }
    },
    {
      "cell_type": "code",
      "execution_count": 1,
      "metadata": {
        "id": "mN0WP8aVcwVq",
        "jupyter": {
          "outputs_hidden": false
        },
        "colab": {
          "base_uri": "https://localhost:8080/"
        },
        "outputId": "5f5d2b6f-10ba-4d59-d288-f3db00fce3de"
      },
      "outputs": [
        {
          "output_type": "stream",
          "name": "stdout",
          "text": [
            "The Zen of Python, by Tim Peters\n",
            "\n",
            "Beautiful is better than ugly.\n",
            "Explicit is better than implicit.\n",
            "Simple is better than complex.\n",
            "Complex is better than complicated.\n",
            "Flat is better than nested.\n",
            "Sparse is better than dense.\n",
            "Readability counts.\n",
            "Special cases aren't special enough to break the rules.\n",
            "Although practicality beats purity.\n",
            "Errors should never pass silently.\n",
            "Unless explicitly silenced.\n",
            "In the face of ambiguity, refuse the temptation to guess.\n",
            "There should be one-- and preferably only one --obvious way to do it.\n",
            "Although that way may not be obvious at first unless you're Dutch.\n",
            "Now is better than never.\n",
            "Although never is often better than *right* now.\n",
            "If the implementation is hard to explain, it's a bad idea.\n",
            "If the implementation is easy to explain, it may be a good idea.\n",
            "Namespaces are one honking great idea -- let's do more of those!\n"
          ]
        }
      ],
      "source": [
        "import this"
      ]
    },
    {
      "cell_type": "markdown",
      "metadata": {
        "id": "g53olKCkcwVw"
      },
      "source": [
        "## Operaciones Básicas\n",
        "\n",
        "\n",
        "| Operador  | Operación                        | Ejemplo         |\n",
        "| --------- | -------------------------------- | --------------- |\n",
        "| **        | Potencia                         | `2 ** 3 = 8`    |\n",
        "| %         | Resto                            | `22 % 8 = 6`    |\n",
        "| //        | División de enteros              | `22 // 8 = 2`   |\n",
        "| /         | División normal                  | `22 / 8 = 2.75` |\n",
        "| *         | Multiplicación                   | `3 * 3 = 9`     |\n",
        "| -         | Resta                            | `5 - 2 = 3`     |\n",
        "| +         | Suma         | `2 + 2 = 4`     |"
      ]
    },
    {
      "cell_type": "code",
      "execution_count": 2,
      "metadata": {
        "id": "ms0eoeBhcwVx",
        "jupyter": {
          "outputs_hidden": false
        },
        "colab": {
          "base_uri": "https://localhost:8080/"
        },
        "outputId": "75e077d4-a799-496d-a120-01f98d1f0434"
      },
      "outputs": [
        {
          "output_type": "execute_result",
          "data": {
            "text/plain": [
              "2.75"
            ]
          },
          "metadata": {},
          "execution_count": 2
        }
      ],
      "source": [
        "22 / 8"
      ]
    },
    {
      "cell_type": "code",
      "execution_count": 3,
      "metadata": {
        "id": "7irUOkxzcwV1",
        "jupyter": {
          "outputs_hidden": false
        },
        "colab": {
          "base_uri": "https://localhost:8080/"
        },
        "outputId": "df313d42-c699-4e68-c1fd-d692518440d9"
      },
      "outputs": [
        {
          "output_type": "execute_result",
          "data": {
            "text/plain": [
              "2"
            ]
          },
          "metadata": {},
          "execution_count": 3
        }
      ],
      "source": [
        "22 // 8"
      ]
    },
    {
      "cell_type": "code",
      "source": [
        "22 % 8"
      ],
      "metadata": {
        "colab": {
          "base_uri": "https://localhost:8080/"
        },
        "id": "OFBH0anqIJRT",
        "outputId": "8065dc3f-80ee-43a6-f129-6cd5e1a8601b"
      },
      "execution_count": 4,
      "outputs": [
        {
          "output_type": "execute_result",
          "data": {
            "text/plain": [
              "6"
            ]
          },
          "metadata": {},
          "execution_count": 4
        }
      ]
    },
    {
      "cell_type": "markdown",
      "metadata": {
        "id": "jljwXZSCcwV4"
      },
      "source": [
        "## Variables\n",
        "\n",
        "Las variables se asignan con el signo igual =, y para definir el nombre solo se pueden usar letras, números y guion bajo (_); no se pueden usar espacios y tampoco pueden empezar con un número."
      ]
    },
    {
      "cell_type": "code",
      "execution_count": 5,
      "metadata": {
        "id": "HNsQEozZcwV5",
        "jupyter": {
          "outputs_hidden": false
        }
      },
      "outputs": [],
      "source": [
        "# 123var = 123\n",
        "# A123var"
      ]
    },
    {
      "cell_type": "code",
      "execution_count": 6,
      "metadata": {
        "id": "tqwMGxo_cwV8",
        "tags": []
      },
      "outputs": [],
      "source": [
        "var = 123"
      ]
    },
    {
      "cell_type": "code",
      "execution_count": 7,
      "metadata": {
        "id": "KRuyTzD2mcw-",
        "jupyter": {
          "outputs_hidden": false
        },
        "colab": {
          "base_uri": "https://localhost:8080/"
        },
        "outputId": "3127bc8f-8b0a-4a00-9d55-d04aed379b53"
      },
      "outputs": [
        {
          "output_type": "execute_result",
          "data": {
            "text/plain": [
              "int"
            ]
          },
          "metadata": {},
          "execution_count": 7
        }
      ],
      "source": [
        "type(var)"
      ]
    },
    {
      "cell_type": "code",
      "source": [
        "var_float = 3.1415\n",
        "var_float"
      ],
      "metadata": {
        "colab": {
          "base_uri": "https://localhost:8080/"
        },
        "id": "lSPC43PWI2Px",
        "outputId": "e6c93402-8dcf-4232-f11c-6069b8a46eee"
      },
      "execution_count": 8,
      "outputs": [
        {
          "output_type": "execute_result",
          "data": {
            "text/plain": [
              "3.1415"
            ]
          },
          "metadata": {},
          "execution_count": 8
        }
      ]
    },
    {
      "cell_type": "code",
      "source": [
        "type(var_float)"
      ],
      "metadata": {
        "colab": {
          "base_uri": "https://localhost:8080/"
        },
        "id": "MJrp0rXxI_L9",
        "outputId": "2958d13c-d87f-4639-c62f-f8eb2b8650da"
      },
      "execution_count": 9,
      "outputs": [
        {
          "output_type": "execute_result",
          "data": {
            "text/plain": [
              "float"
            ]
          },
          "metadata": {},
          "execution_count": 9
        }
      ]
    },
    {
      "cell_type": "markdown",
      "metadata": {
        "id": "8AVi0fqtcwWB"
      },
      "source": [
        "## Tipos básicos de datos\n",
        "\n",
        "\n",
        "| Tipo  | Ejemplo\n",
        "| --------- | --------------- |\n",
        "| Lógico    | True, False| \n",
        "| Entero    | 1, 2, 3| \n",
        "| Decimal o punto flotante         | 1.25, -120.25 | \n",
        "| Cadena o texto        | Hola, Adiós              | \n",
        "| Lista        | \\[1, 2, 3\\]              |\n",
        "| Diccionario        | {\"llave\": \"valor\"}              |"
      ]
    },
    {
      "cell_type": "code",
      "execution_count": 10,
      "metadata": {
        "id": "lbTfl0gScwWB",
        "tags": []
      },
      "outputs": [],
      "source": [
        "cadena = 'esto es una cadena de texto'\n",
        "\n",
        "entero = 10\n",
        "\n",
        "punto_flotante = 10.4\n",
        "\n",
        "punto_flotante_alternativa = 10.\n",
        "\n",
        "booleano = True  #False\n",
        "\n",
        "lista = [\"elemento1\", \"elemento2\", 1236, 10.2, 2., True, 'ultimo_elemento']\n",
        "\n",
        "tupla = (\"elemento1\", \"elemento2\", 1236, 10.2, 2., True, 'ultimo_elemento')\n",
        "\n",
        "diccionario = {\"llave1\": 1 , \"llave2\": 2}\n"
      ]
    },
    {
      "cell_type": "markdown",
      "metadata": {
        "id": "IaSioeQAjQZs"
      },
      "source": [
        "Vemos las variables usando el comando mágico \"whos\"\n"
      ]
    },
    {
      "cell_type": "code",
      "execution_count": 11,
      "metadata": {
        "id": "6sI7FNFxcwWF",
        "jupyter": {
          "outputs_hidden": false
        },
        "tags": [],
        "colab": {
          "base_uri": "https://localhost:8080/"
        },
        "outputId": "5366fda6-0a79-4b31-e411-b919e9e0feb0"
      },
      "outputs": [
        {
          "output_type": "stream",
          "name": "stdout",
          "text": [
            "Variable                     Type      Data/Info\n",
            "------------------------------------------------\n",
            "booleano                     bool      True\n",
            "cadena                       str       esto es una cadena de texto\n",
            "diccionario                  dict      n=2\n",
            "entero                       int       10\n",
            "lista                        list      n=7\n",
            "punto_flotante               float     10.4\n",
            "punto_flotante_alternativa   float     10.0\n",
            "this                         module    <module 'this' from '/usr/lib/python3.9/this.py'>\n",
            "tupla                        tuple     n=7\n",
            "var                          int       123\n",
            "var_float                    float     3.1415\n"
          ]
        }
      ],
      "source": [
        "%whos"
      ]
    },
    {
      "cell_type": "markdown",
      "source": [
        "### Ejercicios"
      ],
      "metadata": {
        "id": "vXqdycwzt0d9"
      }
    },
    {
      "cell_type": "markdown",
      "metadata": {
        "id": "WUOCDKpE5DZV"
      },
      "source": [
        "1. Asignar a un objeto llamado \"numero\" el resultado de: 100 / 4"
      ]
    },
    {
      "cell_type": "code",
      "execution_count": 12,
      "metadata": {
        "id": "Dp-SMIjH5ByA",
        "tags": [],
        "colab": {
          "base_uri": "https://localhost:8080/"
        },
        "outputId": "ce7e7a3d-247b-4d77-8e4c-849adfe0f83c"
      },
      "outputs": [
        {
          "output_type": "execute_result",
          "data": {
            "text/plain": [
              "25.0"
            ]
          },
          "metadata": {},
          "execution_count": 12
        }
      ],
      "source": [
        "numero = 100 / 4\n",
        "numero"
      ]
    },
    {
      "cell_type": "markdown",
      "metadata": {
        "id": "CwvaZdLy5LxJ"
      },
      "source": [
        "2. Ver el tipo de dato del objeto numero"
      ]
    },
    {
      "cell_type": "code",
      "execution_count": 13,
      "metadata": {
        "id": "ZgLehZki5ipM",
        "tags": [],
        "colab": {
          "base_uri": "https://localhost:8080/"
        },
        "outputId": "a264cdad-3be7-4190-f8db-a383cf58eb96"
      },
      "outputs": [
        {
          "output_type": "execute_result",
          "data": {
            "text/plain": [
              "float"
            ]
          },
          "metadata": {},
          "execution_count": 13
        }
      ],
      "source": [
        "type(numero)"
      ]
    },
    {
      "cell_type": "markdown",
      "source": [
        "3. Pedir al usuario un número entero y luego imprima si el número es par o impar.\n",
        "Pista: para pedir un número entero al usuario usar: `int(input(\"Num: \")`\n"
      ],
      "metadata": {
        "id": "0bulLVIdt4_H"
      }
    },
    {
      "cell_type": "code",
      "source": [
        "numero = int(input(\"Ingrese un número entero: \"))\n",
        "numero"
      ],
      "metadata": {
        "id": "6ptUyWo3t4VL",
        "colab": {
          "base_uri": "https://localhost:8080/"
        },
        "outputId": "59160a14-e70a-4dff-80b8-72e17ae28388"
      },
      "execution_count": 14,
      "outputs": [
        {
          "name": "stdout",
          "output_type": "stream",
          "text": [
            "Ingrese un número entero: 3\n"
          ]
        },
        {
          "output_type": "execute_result",
          "data": {
            "text/plain": [
              "3"
            ]
          },
          "metadata": {},
          "execution_count": 14
        }
      ]
    },
    {
      "cell_type": "markdown",
      "source": [
        "Este código Python solicita al usuario que ingrese un número entero y lo almacena en la variable \"numero\".\n",
        "\n",
        "La función \"input()\" se utiliza para solicitar al usuario que ingrese un valor en la consola, y la función \"int()\" se utiliza para convertir el valor ingresado en un número entero.\n",
        "\n",
        "El mensaje \"Ingrese un número entero: \" se muestra en la consola para indicarle al usuario qué tipo de entrada se espera."
      ],
      "metadata": {
        "id": "toJ0sk_m-2A2"
      }
    },
    {
      "cell_type": "code",
      "source": [
        "resto = numero % 2      # mod\n",
        "resto"
      ],
      "metadata": {
        "colab": {
          "base_uri": "https://localhost:8080/"
        },
        "id": "3SVqlyFBLGSQ",
        "outputId": "67f5211f-04af-417c-931b-69099612d6bf"
      },
      "execution_count": 15,
      "outputs": [
        {
          "output_type": "execute_result",
          "data": {
            "text/plain": [
              "1"
            ]
          },
          "metadata": {},
          "execution_count": 15
        }
      ]
    },
    {
      "cell_type": "code",
      "source": [
        "if resto == 0:\n",
        "  print('el numero es par')\n",
        "else:\n",
        "  print('el numero es impar')"
      ],
      "metadata": {
        "colab": {
          "base_uri": "https://localhost:8080/"
        },
        "id": "Ey6fCiZdLvFk",
        "outputId": "2b3bedd7-a375-4d12-ae04-59a051bde9c9"
      },
      "execution_count": 16,
      "outputs": [
        {
          "output_type": "stream",
          "name": "stdout",
          "text": [
            "el numero es impar\n"
          ]
        }
      ]
    },
    {
      "cell_type": "markdown",
      "source": [
        "4. Pedir al usuario su edad y luego determinar si es mayor de edad (18 años o más) o no."
      ],
      "metadata": {
        "id": "uZl3LmHSuFnd"
      }
    },
    {
      "cell_type": "code",
      "source": [
        "edad = int(input(\"Ingrese su edad: \"))"
      ],
      "metadata": {
        "id": "PoAb4460vsCs",
        "colab": {
          "base_uri": "https://localhost:8080/"
        },
        "outputId": "32d7d85e-eaba-44ed-c343-67496e9fdc03"
      },
      "execution_count": 17,
      "outputs": [
        {
          "name": "stdout",
          "output_type": "stream",
          "text": [
            "Ingrese su edad: 26\n"
          ]
        }
      ]
    },
    {
      "cell_type": "code",
      "source": [
        "if edad >= 18:\n",
        "   print('es mayor de edad')\n",
        "else:\n",
        "  print('no es mayor de edad')"
      ],
      "metadata": {
        "id": "N2ktfSAtMvUD",
        "colab": {
          "base_uri": "https://localhost:8080/"
        },
        "outputId": "b0defcd0-ccf5-4a68-8b79-89f67dc2b9a9"
      },
      "execution_count": 19,
      "outputs": [
        {
          "output_type": "stream",
          "name": "stdout",
          "text": [
            "es mayor de edad\n"
          ]
        }
      ]
    },
    {
      "cell_type": "markdown",
      "source": [
        "4. Calcular el promedio de tres números ingresados por el usuario."
      ],
      "metadata": {
        "id": "cUcKyNFUvtLv"
      }
    },
    {
      "cell_type": "code",
      "source": [
        "# Solicitamos al usuario ingresar los tres números y los almacenamos en variables separadas\n",
        "numero1 = float(input(\"Ingrese el primer número: \"))\n",
        "numero2 = float(input(\"Ingrese el segundo número: \"))\n",
        "numero3 = float(input(\"Ingrese el tercer número: \"))\n",
        "\n",
        "# Calculamos el promedio de los tres números\n",
        "promedio = (numero1 + numero2 + numero3) / 3\n",
        "\n",
        "# Imprimimos el resultado del promedio\n",
        "print(\"El promedio de los tres números es:\", promedio)"
      ],
      "metadata": {
        "id": "jUSKmjiOvwAD",
        "colab": {
          "base_uri": "https://localhost:8080/"
        },
        "outputId": "c17a9f01-bb70-469a-9502-6446f9dbb3d2"
      },
      "execution_count": 20,
      "outputs": [
        {
          "output_type": "stream",
          "name": "stdout",
          "text": [
            "Ingrese el primer número: 5\n",
            "Ingrese el segundo número: 6\n",
            "Ingrese el tercer número: 45\n",
            "El promedio de los tres números es: 18.666666666666668\n"
          ]
        }
      ]
    },
    {
      "cell_type": "markdown",
      "metadata": {
        "id": "bnhWjEf2cwWJ"
      },
      "source": [
        "### Operaciones con cadenas de texto\n",
        "\n",
        "Las cadenas se pueden sumar y multiplicar. Dependiendo el caso, multiplicar es razonable, pero sumar está desaconsejado. Se recomienda usar formateo de texto."
      ]
    },
    {
      "cell_type": "code",
      "execution_count": null,
      "metadata": {
        "id": "hIQaBeP9cwWJ",
        "jupyter": {
          "outputs_hidden": false
        },
        "colab": {
          "base_uri": "https://localhost:8080/",
          "height": 36
        },
        "outputId": "359194a2-8b01-4f3b-dcda-e1efb4b376e1"
      },
      "outputs": [
        {
          "output_type": "execute_result",
          "data": {
            "text/plain": [
              "'holamundo'"
            ],
            "application/vnd.google.colaboratory.intrinsic+json": {
              "type": "string"
            }
          },
          "metadata": {},
          "execution_count": 72
        }
      ],
      "source": [
        "palabra1 = \"hola\"\n",
        "palabra2 = \"mundo\"\n",
        "palabra3 = palabra1 + palabra2\n",
        "palabra3"
      ]
    },
    {
      "cell_type": "markdown",
      "metadata": {
        "id": "zj94Rkq_j8ZA"
      },
      "source": [
        "Usando formateo de texto:"
      ]
    },
    {
      "cell_type": "code",
      "execution_count": null,
      "metadata": {
        "id": "EYPO6jGOcwWM",
        "jupyter": {
          "outputs_hidden": false
        },
        "colab": {
          "base_uri": "https://localhost:8080/",
          "height": 36
        },
        "outputId": "8fcf2d90-e2ea-485a-9ff5-2f4f4a424e4e"
      },
      "outputs": [
        {
          "output_type": "execute_result",
          "data": {
            "text/plain": [
              "'hola mundo'"
            ],
            "application/vnd.google.colaboratory.intrinsic+json": {
              "type": "string"
            }
          },
          "metadata": {},
          "execution_count": 73
        }
      ],
      "source": [
        "f\"{palabra1} {palabra2}\""
      ]
    },
    {
      "cell_type": "markdown",
      "source": [
        "La expresión f\"{palabra1} {palabra2}\" es una forma de formatear cadenas (strings) en Python usando una f-string (formatted string literal).\n",
        "\n",
        "Las f-strings son una característica introducida en Python 3.6 que permiten incrustar valores de variables o expresiones en una cadena de texto de manera más sencilla y legible que las formas tradicionales de formateo de cadenas.\n",
        "\n",
        "En el ejemplo dado, la f-string está compuesta por dos variables llamadas palabra1 y palabra2. La sintaxis {variable} dentro de la f-string indica que Python debe tomar el valor de la variable y colocarlo en el lugar donde se encuentra la expresión {variable} dentro de la cadena. De esta manera, la f-string combina los valores de las dos variables en una sola cadena de texto, separadas por un espacio."
      ],
      "metadata": {
        "id": "IyMgR6NQAbtD"
      }
    },
    {
      "cell_type": "code",
      "execution_count": 22,
      "metadata": {
        "id": "e8XSiH9tcwWS",
        "jupyter": {
          "outputs_hidden": false
        },
        "colab": {
          "base_uri": "https://localhost:8080/",
          "height": 36
        },
        "outputId": "e264623a-c91a-4510-9789-1bb85550e9de"
      },
      "outputs": [
        {
          "output_type": "execute_result",
          "data": {
            "text/plain": [
              "'Separador de miles y decimales: 1,233,432.13, o porcentajes 16%'"
            ],
            "application/vnd.google.colaboratory.intrinsic+json": {
              "type": "string"
            }
          },
          "metadata": {},
          "execution_count": 22
        }
      ],
      "source": [
        "# Formateo de números: número de dígitos decimales y separadores de miles.\n",
        "\n",
        "num = 1233432.127\n",
        "por = 0.1568\n",
        "\n",
        "f\"Separador de miles y decimales: {num:,.2f}, o porcentajes {por:.0%}\""
      ]
    },
    {
      "cell_type": "markdown",
      "source": [
        "En este código se utiliza una f-string (formatted string literal) para crear una cadena de texto (string) con valores de variables insertados en ella de forma formatada.\n",
        "\n",
        "En el ejemplo, se están utilizando dos variables numéricas: num y por. En la f-string, se utilizan diferentes opciones de formateo para dar formato a estas variables dentro de la cadena de texto.\n",
        "\n",
        "`{num:,.2f}`: el formato ,.2f especifica que se deben usar dos decimales y que se deben separar los millares con comas: 1,233,432.13.\n",
        "\n",
        "`{por:.0%}`: el formato :.0% especifica que no se deben mostrar decimales y que el valor debe multiplicarse por 100 y mostrarse con un signo de porcentaje. En este caso 16%.\n",
        "\n",
        "En resumen, la f-string permite combinar valores de variables con texto y aplicar opciones de formateo para darles un formato específico dentro de la cadena de texto. Esto puede ser muy útil para crear mensajes personalizados, mostrar resultados numéricos con un formato específico o presentar datos de forma legible para el usuario."
      ],
      "metadata": {
        "id": "yRJ_8r_YA-2G"
      }
    },
    {
      "cell_type": "markdown",
      "metadata": {
        "id": "soNV1KDSlPnm"
      },
      "source": [
        "### Funciones básicas de las listas"
      ]
    },
    {
      "cell_type": "markdown",
      "metadata": {
        "id": "EL8UIRKLm33h"
      },
      "source": [
        "Los elementos de una lista se pueden acceder mediante su índice\n",
        "\n",
        "* Todos los índices empiezan en 0\n",
        "* Se usan números enteros\n",
        "* El índice máximo equivale a la cantidad de (elementos - 1)\n",
        "* Se accede al elemento con [*índice*]\n",
        "* Si el índice es negativo, se cuenta desde el final\n",
        "* Se determina la longitud con la función `len`"
      ]
    },
    {
      "cell_type": "code",
      "execution_count": 23,
      "metadata": {
        "id": "xSAUzLSilL3w",
        "jupyter": {
          "outputs_hidden": false
        },
        "colab": {
          "base_uri": "https://localhost:8080/"
        },
        "outputId": "3395438a-31da-4df8-9738-28ea7098b71a"
      },
      "outputs": [
        {
          "output_type": "execute_result",
          "data": {
            "text/plain": [
              "['elemento1', 'elemento2', 1236, 10.2, 2.0, True, 'ultimo_elemento']"
            ]
          },
          "metadata": {},
          "execution_count": 23
        }
      ],
      "source": [
        "lista"
      ]
    },
    {
      "cell_type": "code",
      "source": [
        "n = len(lista)\n",
        "n"
      ],
      "metadata": {
        "id": "5jVeowCt5aNy",
        "colab": {
          "base_uri": "https://localhost:8080/"
        },
        "outputId": "c8697cb7-8123-433b-da4b-ce7c073b0780"
      },
      "execution_count": 24,
      "outputs": [
        {
          "output_type": "execute_result",
          "data": {
            "text/plain": [
              "7"
            ]
          },
          "metadata": {},
          "execution_count": 24
        }
      ]
    },
    {
      "cell_type": "code",
      "execution_count": 25,
      "metadata": {
        "id": "c0ldNTJAcwWm",
        "jupyter": {
          "outputs_hidden": false
        },
        "tags": [],
        "colab": {
          "base_uri": "https://localhost:8080/",
          "height": 36
        },
        "outputId": "416a9566-8813-4d5c-c788-e36e76de359f"
      },
      "outputs": [
        {
          "output_type": "execute_result",
          "data": {
            "text/plain": [
              "'elemento1'"
            ],
            "application/vnd.google.colaboratory.intrinsic+json": {
              "type": "string"
            }
          },
          "metadata": {},
          "execution_count": 25
        }
      ],
      "source": [
        "lista[0]"
      ]
    },
    {
      "cell_type": "code",
      "source": [
        "lista[n-1]"
      ],
      "metadata": {
        "colab": {
          "base_uri": "https://localhost:8080/",
          "height": 36
        },
        "id": "QQeGrapgR6bj",
        "outputId": "61308f5b-d94b-41e4-98da-957266d2ecbb"
      },
      "execution_count": 26,
      "outputs": [
        {
          "output_type": "execute_result",
          "data": {
            "text/plain": [
              "'ultimo_elemento'"
            ],
            "application/vnd.google.colaboratory.intrinsic+json": {
              "type": "string"
            }
          },
          "metadata": {},
          "execution_count": 26
        }
      ]
    },
    {
      "cell_type": "code",
      "source": [
        "tupla"
      ],
      "metadata": {
        "id": "sFITbnEJyXLZ",
        "colab": {
          "base_uri": "https://localhost:8080/"
        },
        "outputId": "2f0b3b5a-ff76-4362-ed45-262921f9e3c7"
      },
      "execution_count": 27,
      "outputs": [
        {
          "output_type": "execute_result",
          "data": {
            "text/plain": [
              "('elemento1', 'elemento2', 1236, 10.2, 2.0, True, 'ultimo_elemento')"
            ]
          },
          "metadata": {},
          "execution_count": 27
        }
      ]
    },
    {
      "cell_type": "code",
      "execution_count": 28,
      "metadata": {
        "id": "v_lld55vcwWp",
        "jupyter": {
          "outputs_hidden": false
        },
        "colab": {
          "base_uri": "https://localhost:8080/",
          "height": 36
        },
        "outputId": "aa8c9612-e0cc-44eb-8c6e-deee537e9a92"
      },
      "outputs": [
        {
          "output_type": "execute_result",
          "data": {
            "text/plain": [
              "'elemento1'"
            ],
            "application/vnd.google.colaboratory.intrinsic+json": {
              "type": "string"
            }
          },
          "metadata": {},
          "execution_count": 28
        }
      ],
      "source": [
        "tupla[0]"
      ]
    },
    {
      "cell_type": "code",
      "execution_count": 29,
      "metadata": {
        "id": "vZ3ylubycwWs",
        "jupyter": {
          "outputs_hidden": false
        },
        "colab": {
          "base_uri": "https://localhost:8080/",
          "height": 36
        },
        "outputId": "d0692e5e-d92a-451e-96d6-74e9165fade7"
      },
      "outputs": [
        {
          "output_type": "execute_result",
          "data": {
            "text/plain": [
              "'ultimo_elemento'"
            ],
            "application/vnd.google.colaboratory.intrinsic+json": {
              "type": "string"
            }
          },
          "metadata": {},
          "execution_count": 29
        }
      ],
      "source": [
        "lista[-1]"
      ]
    },
    {
      "cell_type": "code",
      "source": [
        "lista[-2]"
      ],
      "metadata": {
        "colab": {
          "base_uri": "https://localhost:8080/"
        },
        "id": "NScPqRiNSVJF",
        "outputId": "e78e184b-3d20-4d45-c30d-3496f2ef6720"
      },
      "execution_count": 30,
      "outputs": [
        {
          "output_type": "execute_result",
          "data": {
            "text/plain": [
              "True"
            ]
          },
          "metadata": {},
          "execution_count": 30
        }
      ]
    },
    {
      "cell_type": "code",
      "source": [
        "lista[len(lista)-1]"
      ],
      "metadata": {
        "id": "dogya3TGlj22",
        "colab": {
          "base_uri": "https://localhost:8080/",
          "height": 36
        },
        "outputId": "0596be58-0657-4251-9dbc-b7c79859c0da"
      },
      "execution_count": 31,
      "outputs": [
        {
          "output_type": "execute_result",
          "data": {
            "text/plain": [
              "'ultimo_elemento'"
            ],
            "application/vnd.google.colaboratory.intrinsic+json": {
              "type": "string"
            }
          },
          "metadata": {},
          "execution_count": 31
        }
      ]
    },
    {
      "cell_type": "code",
      "execution_count": 34,
      "metadata": {
        "id": "wXXZnirYcwWy",
        "tags": [],
        "colab": {
          "base_uri": "https://localhost:8080/"
        },
        "outputId": "3388ce73-41fa-45c7-ae0f-187baf6b26ed"
      },
      "outputs": [
        {
          "output_type": "execute_result",
          "data": {
            "text/plain": [
              "['otro elemento', 'elemento2', 1236, 10.2, 2.0, True, 5]"
            ]
          },
          "metadata": {},
          "execution_count": 34
        }
      ],
      "source": [
        "lista[0] = \"otro elemento\"\n",
        "lista"
      ]
    },
    {
      "cell_type": "code",
      "execution_count": 35,
      "metadata": {
        "id": "5xqa9vXFcwW1",
        "tags": [],
        "colab": {
          "base_uri": "https://localhost:8080/",
          "height": 169
        },
        "outputId": "5ae7998c-cfbc-4863-c0fb-a1846c81e272"
      },
      "outputs": [
        {
          "output_type": "error",
          "ename": "TypeError",
          "evalue": "ignored",
          "traceback": [
            "\u001b[0;31m---------------------------------------------------------------------------\u001b[0m",
            "\u001b[0;31mTypeError\u001b[0m                                 Traceback (most recent call last)",
            "\u001b[0;32m<ipython-input-35-237f5813692c>\u001b[0m in \u001b[0;36m<module>\u001b[0;34m\u001b[0m\n\u001b[0;32m----> 1\u001b[0;31m \u001b[0mtupla\u001b[0m\u001b[0;34m[\u001b[0m\u001b[0;36m0\u001b[0m\u001b[0;34m]\u001b[0m \u001b[0;34m=\u001b[0m \u001b[0;34m\"otro elemento\"\u001b[0m\u001b[0;34m\u001b[0m\u001b[0;34m\u001b[0m\u001b[0m\n\u001b[0m",
            "\u001b[0;31mTypeError\u001b[0m: 'tuple' object does not support item assignment"
          ]
        }
      ],
      "source": [
        "tupla[0] = \"otro elemento\""
      ]
    },
    {
      "cell_type": "markdown",
      "metadata": {
        "tags": [],
        "id": "yI-eD12CkFYv"
      },
      "source": [
        "Se recibe este mensaje de error porque no se pueden cambiar los valores dentro de una tupla."
      ]
    },
    {
      "cell_type": "markdown",
      "metadata": {
        "id": "Kt5ujtaHbGU7"
      },
      "source": [
        "## Seleccionando rangos\n",
        "Se puede seleccionar más de un elemento de una lista usando '**:**'\n",
        "\n",
        "Para seleccionar los primeros 2 se hace **[:2]**"
      ]
    },
    {
      "cell_type": "markdown",
      "source": [
        "###Slicing (rebanado)\n",
        "\n",
        "Guido van Rossum:\n",
        "\n",
        "[...] Me dejé llevar por la elegancia de los intervalos entreabiertos. Especialmente la invariante de que cuando dos rebanadas son adyacentes, el índice final de la primera rebanada es el índice de inicio de la segunda rebanada: esto es demasiado hermoso para ignorarlo. Por ejemplo, suponga que divide una cadena en tres partes en los índices i y j; las partes serían a[:i], a[i:j] y a[j:].\n",
        "\n",
        "\n",
        "`a[start:stop]`  # desde start hasta stop-1\n",
        "\n",
        "`a[start:]`      # desde start hasta el final\n",
        "\n",
        "`a[:stop]`       # desde el comienzo hasta stop-1\n",
        "\n",
        "`a[:]`           # copia de todo\n",
        "\n",
        "`a[start:stop:step]` # desde start hasta stop, por pasos\n",
        "\n",
        "La otra característica es que start y stop pueden ser negativos, lo que significa que cuenta desde el final. Entonces:\n",
        "\n",
        "`a[-1]` # último elemento\n",
        "\n",
        "`a[-2:]` # últimos dos elementos\n",
        "\n",
        "`a[:-2]` # todo excepto los dos últimos elementos"
      ],
      "metadata": {
        "id": "_ovfAhFm0Rl5"
      }
    },
    {
      "cell_type": "code",
      "source": [
        "lista"
      ],
      "metadata": {
        "id": "dRE2-HFUy33C",
        "colab": {
          "base_uri": "https://localhost:8080/"
        },
        "outputId": "4adf6a4a-0e23-497e-d427-2bcd713ad3ab"
      },
      "execution_count": 36,
      "outputs": [
        {
          "output_type": "execute_result",
          "data": {
            "text/plain": [
              "['otro elemento', 'elemento2', 1236, 10.2, 2.0, True, 5]"
            ]
          },
          "metadata": {},
          "execution_count": 36
        }
      ]
    },
    {
      "cell_type": "code",
      "source": [
        "lista[-1]"
      ],
      "metadata": {
        "id": "B0RHH7031que",
        "colab": {
          "base_uri": "https://localhost:8080/"
        },
        "outputId": "2f5d1818-dff5-49fc-f91b-08f6c3712926"
      },
      "execution_count": 37,
      "outputs": [
        {
          "output_type": "execute_result",
          "data": {
            "text/plain": [
              "5"
            ]
          },
          "metadata": {},
          "execution_count": 37
        }
      ]
    },
    {
      "cell_type": "code",
      "source": [
        "lista[-2:]"
      ],
      "metadata": {
        "id": "l8Kcm9ca1uDM",
        "colab": {
          "base_uri": "https://localhost:8080/"
        },
        "outputId": "b272d826-a6b5-440b-bf65-415403e485a6"
      },
      "execution_count": 38,
      "outputs": [
        {
          "output_type": "execute_result",
          "data": {
            "text/plain": [
              "[True, 5]"
            ]
          },
          "metadata": {},
          "execution_count": 38
        }
      ]
    },
    {
      "cell_type": "code",
      "source": [
        "lista[:-2]"
      ],
      "metadata": {
        "id": "MtvQHJJT10wM",
        "colab": {
          "base_uri": "https://localhost:8080/"
        },
        "outputId": "9f132ca4-14ac-4173-ad3b-1ee833f72361"
      },
      "execution_count": 39,
      "outputs": [
        {
          "output_type": "execute_result",
          "data": {
            "text/plain": [
              "['otro elemento', 'elemento2', 1236, 10.2, 2.0]"
            ]
          },
          "metadata": {},
          "execution_count": 39
        }
      ]
    },
    {
      "cell_type": "code",
      "execution_count": 40,
      "metadata": {
        "id": "b0zVMSoBbGU8",
        "jupyter": {
          "outputs_hidden": false
        },
        "colab": {
          "base_uri": "https://localhost:8080/"
        },
        "outputId": "8b36614f-0fda-48c8-c55b-6bfdc2292ed5"
      },
      "outputs": [
        {
          "output_type": "execute_result",
          "data": {
            "text/plain": [
              "['otro elemento', 'elemento2']"
            ]
          },
          "metadata": {},
          "execution_count": 40
        }
      ],
      "source": [
        "lista[:2]"
      ]
    },
    {
      "cell_type": "markdown",
      "metadata": {
        "id": "7UFlt-jabGU_"
      },
      "source": [
        "Los últimos dos:"
      ]
    },
    {
      "cell_type": "code",
      "execution_count": 41,
      "metadata": {
        "id": "7EpjzgR2bGU_",
        "jupyter": {
          "outputs_hidden": false
        },
        "colab": {
          "base_uri": "https://localhost:8080/"
        },
        "outputId": "7c0f816b-5813-4402-f3a8-5310375bc197"
      },
      "outputs": [
        {
          "output_type": "execute_result",
          "data": {
            "text/plain": [
              "[True, 5]"
            ]
          },
          "metadata": {},
          "execution_count": 41
        }
      ],
      "source": [
        "lista[-2:]"
      ]
    },
    {
      "cell_type": "markdown",
      "metadata": {
        "id": "RKQRq8aEbGVD"
      },
      "source": [
        "Es lo mismo que seleccionar desde el 5to índice hasta el último índice"
      ]
    },
    {
      "cell_type": "code",
      "execution_count": 44,
      "metadata": {
        "id": "fevDPv2UbGVE",
        "jupyter": {
          "outputs_hidden": false
        },
        "colab": {
          "base_uri": "https://localhost:8080/"
        },
        "outputId": "d4e3d6a5-47f5-41e9-fcef-aa08069ca07a"
      },
      "outputs": [
        {
          "output_type": "execute_result",
          "data": {
            "text/plain": [
              "[True, 5]"
            ]
          },
          "metadata": {},
          "execution_count": 44
        }
      ],
      "source": [
        "lista[5:]"
      ]
    },
    {
      "cell_type": "markdown",
      "metadata": {
        "id": "GBvRbjv6bGVJ"
      },
      "source": [
        "Del segundo al cuarto (ojo que el segundo elemento es el índice 1)"
      ]
    },
    {
      "cell_type": "code",
      "execution_count": 45,
      "metadata": {
        "id": "2hrrBggVbGVK",
        "jupyter": {
          "outputs_hidden": false
        },
        "colab": {
          "base_uri": "https://localhost:8080/"
        },
        "outputId": "52dbc5a2-9aad-4c05-8b99-0cbeb7e24e0f"
      },
      "outputs": [
        {
          "output_type": "execute_result",
          "data": {
            "text/plain": [
              "['elemento2', 1236, 10.2]"
            ]
          },
          "metadata": {},
          "execution_count": 45
        }
      ],
      "source": [
        "lista[1:4]"
      ]
    },
    {
      "cell_type": "markdown",
      "source": [
        "De manera similar, `step` puede ser un número negativo:\n",
        "\n",
        "`a[::-1]` # todos los elementos, invertidos\n",
        "\n",
        "`a[1::-1]` # los dos primeros elementos, invertidos\n",
        "\n",
        "`a[:-3:-1]` # los dos últimos elementos, invertidos\n",
        "\n",
        "`a[-3::-1]` # todo excepto los dos últimos elementos, al revés"
      ],
      "metadata": {
        "id": "Ns7itohq2Hk5"
      }
    },
    {
      "cell_type": "code",
      "source": [
        "lista"
      ],
      "metadata": {
        "colab": {
          "base_uri": "https://localhost:8080/"
        },
        "id": "qu87sv-9WwQH",
        "outputId": "9887df0c-37c2-4df7-ca04-b9aed45dbcf5"
      },
      "execution_count": 46,
      "outputs": [
        {
          "output_type": "execute_result",
          "data": {
            "text/plain": [
              "['otro elemento', 'elemento2', 1236, 10.2, 2.0, True, 5]"
            ]
          },
          "metadata": {},
          "execution_count": 46
        }
      ]
    },
    {
      "cell_type": "code",
      "source": [
        "lista_invertida = lista[::-1]\n",
        "lista_invertida"
      ],
      "metadata": {
        "id": "zl9qVJfdy69y",
        "colab": {
          "base_uri": "https://localhost:8080/"
        },
        "outputId": "e591c392-8481-43f8-a4fe-7a609192fa5c"
      },
      "execution_count": 47,
      "outputs": [
        {
          "output_type": "execute_result",
          "data": {
            "text/plain": [
              "[5, True, 2.0, 10.2, 1236, 'elemento2', 'otro elemento']"
            ]
          },
          "metadata": {},
          "execution_count": 47
        }
      ]
    },
    {
      "cell_type": "code",
      "source": [
        "lista[1::-1]"
      ],
      "metadata": {
        "id": "Nq3qbocE2gnd",
        "colab": {
          "base_uri": "https://localhost:8080/"
        },
        "outputId": "da220b19-ccef-420c-9497-6c06f92f921d"
      },
      "execution_count": 48,
      "outputs": [
        {
          "output_type": "execute_result",
          "data": {
            "text/plain": [
              "['elemento2', 'otro elemento']"
            ]
          },
          "metadata": {},
          "execution_count": 48
        }
      ]
    },
    {
      "cell_type": "code",
      "source": [
        "lista[:-3:-1]"
      ],
      "metadata": {
        "id": "LfzTnro22m5c",
        "colab": {
          "base_uri": "https://localhost:8080/"
        },
        "outputId": "adebb07d-1367-4a19-de56-cbfed45ac618"
      },
      "execution_count": null,
      "outputs": [
        {
          "output_type": "execute_result",
          "data": {
            "text/plain": [
              "[5, True]"
            ]
          },
          "metadata": {},
          "execution_count": 122
        }
      ]
    },
    {
      "cell_type": "code",
      "source": [
        "lista[-3::-1]"
      ],
      "metadata": {
        "id": "OneTBvxZ2pAP",
        "colab": {
          "base_uri": "https://localhost:8080/"
        },
        "outputId": "363fe71f-2410-4d76-9735-c5d798ff5be0"
      },
      "execution_count": null,
      "outputs": [
        {
          "output_type": "execute_result",
          "data": {
            "text/plain": [
              "[2.0, 10.2, 1236, 'elemento2', 'otro elemento']"
            ]
          },
          "metadata": {},
          "execution_count": 118
        }
      ]
    },
    {
      "cell_type": "markdown",
      "metadata": {
        "id": "kGxP0Qz24-7S"
      },
      "source": [
        "## Ejercicios"
      ]
    },
    {
      "cell_type": "markdown",
      "metadata": {
        "id": "GmdMqgOXnq3t"
      },
      "source": [
        "#### Listas"
      ]
    },
    {
      "cell_type": "markdown",
      "metadata": {
        "id": "Mg5vnAn36CuH"
      },
      "source": [
        "1. Crear una lista llamada \"Letras\" que contenga 5 letras de la A a la E  (A, B, C, D, E)"
      ]
    },
    {
      "cell_type": "code",
      "execution_count": 58,
      "metadata": {
        "id": "N3gKq4Tg6Bzl",
        "tags": []
      },
      "outputs": [],
      "source": [
        "Letras = ['A', 'B', 'C', 'D', 'E']"
      ]
    },
    {
      "cell_type": "markdown",
      "source": [
        "2. Mostrar la longitud de la lista"
      ],
      "metadata": {
        "id": "tagH521G48uJ"
      }
    },
    {
      "cell_type": "code",
      "source": [
        "len(Letras)"
      ],
      "metadata": {
        "id": "GNcdIft049Cz",
        "colab": {
          "base_uri": "https://localhost:8080/"
        },
        "outputId": "d687ad73-21c0-4e38-c63b-9123d7d6791b"
      },
      "execution_count": 59,
      "outputs": [
        {
          "output_type": "execute_result",
          "data": {
            "text/plain": [
              "5"
            ]
          },
          "metadata": {},
          "execution_count": 59
        }
      ]
    },
    {
      "cell_type": "markdown",
      "metadata": {
        "id": "9UQAM2k_6cvK"
      },
      "source": [
        "2. Mostrar, usando el índice, el primer y el último elemento de la lista"
      ]
    },
    {
      "cell_type": "code",
      "execution_count": 60,
      "metadata": {
        "id": "MRI3kQkl63wf",
        "tags": [],
        "colab": {
          "base_uri": "https://localhost:8080/"
        },
        "outputId": "9fe1000c-53de-45f1-855c-6457efbacf7e"
      },
      "outputs": [
        {
          "output_type": "stream",
          "name": "stdout",
          "text": [
            "El primer elemento es: A\n",
            "El último elemento es: E\n"
          ]
        }
      ],
      "source": [
        "# Mostrar el primer elemento\n",
        "print(\"El primer elemento es:\", Letras[0])\n",
        "\n",
        "# Mostrar el último elemento\n",
        "print(\"El último elemento es:\", Letras[len(Letras)-1])"
      ]
    },
    {
      "cell_type": "markdown",
      "metadata": {
        "id": "bY6rTZCG62wu"
      },
      "source": [
        "3. Mostrar, usando el índice, los tres primeros elementos de la lista"
      ]
    },
    {
      "cell_type": "code",
      "execution_count": 61,
      "metadata": {
        "id": "a1eBD__q6kl_",
        "tags": [],
        "colab": {
          "base_uri": "https://localhost:8080/"
        },
        "outputId": "6e3256dd-62de-4293-d421-9ee654e37f92"
      },
      "outputs": [
        {
          "output_type": "execute_result",
          "data": {
            "text/plain": [
              "['A', 'B', 'C']"
            ]
          },
          "metadata": {},
          "execution_count": 61
        }
      ],
      "source": [
        "Letras[:3]"
      ]
    },
    {
      "cell_type": "markdown",
      "source": [
        "4. Mostrar Letras en orden inverso"
      ],
      "metadata": {
        "id": "Ca71x2Ov53-l"
      }
    },
    {
      "cell_type": "code",
      "source": [
        "Letras_inverso = Letras[::-1]\n",
        "Letras_inverso"
      ],
      "metadata": {
        "id": "FbzDCLSw54H0",
        "colab": {
          "base_uri": "https://localhost:8080/"
        },
        "outputId": "dea4ce97-ff56-42af-86a0-bb2f37b880b4"
      },
      "execution_count": 62,
      "outputs": [
        {
          "output_type": "execute_result",
          "data": {
            "text/plain": [
              "['E', 'D', 'C', 'B', 'A']"
            ]
          },
          "metadata": {},
          "execution_count": 62
        }
      ]
    },
    {
      "cell_type": "markdown",
      "metadata": {
        "id": "J0LrD8KXnK7n"
      },
      "source": [
        "### Agregando datos a una Lista"
      ]
    },
    {
      "cell_type": "markdown",
      "metadata": {
        "id": "XP6HE7SRnZ9c"
      },
      "source": [
        "Usando `append()` se agrega al final de la lista."
      ]
    },
    {
      "cell_type": "code",
      "execution_count": null,
      "metadata": {
        "id": "cfmKy0TOnbCc",
        "jupyter": {
          "outputs_hidden": false
        },
        "colab": {
          "base_uri": "https://localhost:8080/"
        },
        "outputId": "fc3f3ef6-d718-4408-8305-c155fb21e495"
      },
      "outputs": [
        {
          "output_type": "execute_result",
          "data": {
            "text/plain": [
              "['Pedro', 'Lucia', 'Juan', 'Maria', 'Manuel']"
            ]
          },
          "metadata": {},
          "execution_count": 134
        }
      ],
      "source": [
        "nombres = ['Pedro', 'Lucia', 'Juan', 'Maria']\n",
        "nombres.append('Manuel')\n",
        "nombres"
      ]
    },
    {
      "cell_type": "markdown",
      "metadata": {
        "id": "c91LfLI_nnh3"
      },
      "source": [
        "Usando `insert()`: le digo la posición donde insertarlo."
      ]
    },
    {
      "cell_type": "code",
      "execution_count": null,
      "metadata": {
        "id": "f6JKJIp0nnHQ",
        "jupyter": {
          "outputs_hidden": false
        },
        "colab": {
          "base_uri": "https://localhost:8080/"
        },
        "outputId": "2a7309df-3785-407e-fcb8-8d11338f08f0"
      },
      "outputs": [
        {
          "output_type": "execute_result",
          "data": {
            "text/plain": [
              "['Pedro', 'Pablo', 'Lucia', 'Juan', 'Maria']"
            ]
          },
          "metadata": {},
          "execution_count": 135
        }
      ],
      "source": [
        "nombres = ['Pedro', 'Lucia', 'Juan', 'Maria']\n",
        "nombres.insert(1, 'Pablo')\n",
        "nombres"
      ]
    },
    {
      "cell_type": "code",
      "source": [
        "nombres = ['Pedro', 'Lucia', 'Juan', 'Maria']\n",
        "nombres.insert(len(nombres), 'Mariana')\n",
        "nombres"
      ],
      "metadata": {
        "colab": {
          "base_uri": "https://localhost:8080/"
        },
        "id": "m-AbbD7naTRB",
        "outputId": "46e7bd86-b34e-49e2-93c1-b27013688450"
      },
      "execution_count": null,
      "outputs": [
        {
          "output_type": "execute_result",
          "data": {
            "text/plain": [
              "['Pedro', 'Lucia', 'Juan', 'Maria', 'Mariana']"
            ]
          },
          "metadata": {},
          "execution_count": 140
        }
      ]
    },
    {
      "cell_type": "markdown",
      "metadata": {
        "id": "MCdVSyExoCIg"
      },
      "source": [
        "### Eliminar valores de una lista y ordenar"
      ]
    },
    {
      "cell_type": "markdown",
      "metadata": {
        "id": "L24EcTTSoHSf"
      },
      "source": [
        "Para eliminar usar `remove()`"
      ]
    },
    {
      "cell_type": "code",
      "execution_count": null,
      "metadata": {
        "id": "YbL4PhvCoLZ_",
        "jupyter": {
          "outputs_hidden": false
        },
        "colab": {
          "base_uri": "https://localhost:8080/"
        },
        "outputId": "aefdfa3b-e819-4cce-bc50-0d7f69ad08c8"
      },
      "outputs": [
        {
          "output_type": "execute_result",
          "data": {
            "text/plain": [
              "['Pedro', 'Juan', 'Maria', 'Lucia']"
            ]
          },
          "metadata": {},
          "execution_count": 143
        }
      ],
      "source": [
        "nombres = ['Pedro', 'Lucia', 'Juan', 'Maria', 'Lucia']\n",
        "nombres.remove('Lucia')\n",
        "nombres"
      ]
    },
    {
      "cell_type": "markdown",
      "metadata": {
        "id": "oRKnSStEoQJm"
      },
      "source": [
        "Puedo ordenarlos usando `sort()`"
      ]
    },
    {
      "cell_type": "code",
      "execution_count": null,
      "metadata": {
        "id": "sUWH_0KWoSe6",
        "jupyter": {
          "outputs_hidden": false
        },
        "colab": {
          "base_uri": "https://localhost:8080/"
        },
        "outputId": "9668c53a-c6fc-420c-b9cf-db1ad3fbaf6c"
      },
      "outputs": [
        {
          "output_type": "execute_result",
          "data": {
            "text/plain": [
              "[-7, 1, 2, 3.14, 5]"
            ]
          },
          "metadata": {},
          "execution_count": 144
        }
      ],
      "source": [
        "numeros = [2, 5, 3.14, 1, -7]\n",
        "numeros.sort()\n",
        "numeros"
      ]
    },
    {
      "cell_type": "code",
      "execution_count": null,
      "metadata": {
        "id": "91gs5jKgoXs8",
        "jupyter": {
          "outputs_hidden": false
        },
        "colab": {
          "base_uri": "https://localhost:8080/"
        },
        "outputId": "a44b3fcb-a782-415d-84e6-d988571ce5a2"
      },
      "outputs": [
        {
          "output_type": "execute_result",
          "data": {
            "text/plain": [
              "['JUAN', 'Juan', 'Maria', 'Pedro', 'juan']"
            ]
          },
          "metadata": {},
          "execution_count": 150
        }
      ],
      "source": [
        "nombres = ['Pedro', 'JUAN', 'Juan', 'juan', 'Maria']\n",
        "nombres.sort()\n",
        "nombres"
      ]
    },
    {
      "cell_type": "markdown",
      "metadata": {
        "id": "K3RO3oVUoldd"
      },
      "source": [
        "Puedo invertir el orden de ordenamiento con `reverse=`"
      ]
    },
    {
      "cell_type": "code",
      "execution_count": null,
      "metadata": {
        "id": "QqJyKSZNog51",
        "jupyter": {
          "outputs_hidden": false
        },
        "colab": {
          "base_uri": "https://localhost:8080/"
        },
        "outputId": "3fbd99ac-4136-4a4e-8f54-3628f2d9de6a"
      },
      "outputs": [
        {
          "output_type": "execute_result",
          "data": {
            "text/plain": [
              "[5, 3.14, 2, 1, -7]"
            ]
          },
          "metadata": {},
          "execution_count": 147
        }
      ],
      "source": [
        "numeros.sort(reverse=True)\n",
        "numeros"
      ]
    },
    {
      "cell_type": "markdown",
      "source": [
        "### Ejercicios"
      ],
      "metadata": {
        "id": "VBskd1wM6tzj"
      }
    },
    {
      "cell_type": "markdown",
      "source": [
        "Dada una lista de números del 1 al 10, realizar lo que se pide.\n",
        "\n",
        "`numeros = [1, 2, 3, 4, 5, 6, 7, 8, 9, 10]`\n",
        "\n",
        "* Agregar el número 11 al final de la lista.\n",
        "* Eliminar el número 3 de la lista.\n",
        "* Agregar el nùmero 5.5 entre el 2 y el 4\n",
        "* Ordenar la lista en orden ascendente e imprimir\n",
        "* Ordenar la lista en orden descendente e imprimir"
      ],
      "metadata": {
        "id": "jPmVSzby7sDG"
      }
    },
    {
      "cell_type": "code",
      "source": [
        "numeros = [1, 2, 3, 4, 5, 6, 7, 8, 9, 10]"
      ],
      "metadata": {
        "id": "UjIHvQGR3Q2A"
      },
      "execution_count": 63,
      "outputs": []
    },
    {
      "cell_type": "code",
      "source": [
        "numeros.append(11)\n",
        "numeros"
      ],
      "metadata": {
        "colab": {
          "base_uri": "https://localhost:8080/"
        },
        "id": "gKxUjt90DPiQ",
        "outputId": "7990baf0-8da9-40a9-b384-91969d8545fe"
      },
      "execution_count": 64,
      "outputs": [
        {
          "output_type": "execute_result",
          "data": {
            "text/plain": [
              "[1, 2, 3, 4, 5, 6, 7, 8, 9, 10, 11]"
            ]
          },
          "metadata": {},
          "execution_count": 64
        }
      ]
    },
    {
      "cell_type": "code",
      "source": [
        "numeros.remove(3)\n",
        "numeros"
      ],
      "metadata": {
        "colab": {
          "base_uri": "https://localhost:8080/"
        },
        "id": "O-4i84W_DK3z",
        "outputId": "a141f44d-28a8-4da4-d976-dcbe172da024"
      },
      "execution_count": 65,
      "outputs": [
        {
          "output_type": "execute_result",
          "data": {
            "text/plain": [
              "[1, 2, 4, 5, 6, 7, 8, 9, 10, 11]"
            ]
          },
          "metadata": {},
          "execution_count": 65
        }
      ]
    },
    {
      "cell_type": "code",
      "source": [
        "numeros.insert(2, 5.5)\n",
        "numeros"
      ],
      "metadata": {
        "id": "_U4XNph88iNU",
        "colab": {
          "base_uri": "https://localhost:8080/"
        },
        "outputId": "6437f219-95d9-418d-d5f1-28eac5ba8f94"
      },
      "execution_count": 66,
      "outputs": [
        {
          "output_type": "execute_result",
          "data": {
            "text/plain": [
              "[1, 2, 5.5, 4, 5, 6, 7, 8, 9, 10, 11]"
            ]
          },
          "metadata": {},
          "execution_count": 66
        }
      ]
    },
    {
      "cell_type": "code",
      "source": [
        "numeros.sort()\n",
        "numeros"
      ],
      "metadata": {
        "id": "vEASfE4J9V0Q",
        "colab": {
          "base_uri": "https://localhost:8080/"
        },
        "outputId": "32cc2a46-2fe6-4050-8283-c3f7c1e721a8"
      },
      "execution_count": 67,
      "outputs": [
        {
          "output_type": "execute_result",
          "data": {
            "text/plain": [
              "[1, 2, 4, 5, 5.5, 6, 7, 8, 9, 10, 11]"
            ]
          },
          "metadata": {},
          "execution_count": 67
        }
      ]
    },
    {
      "cell_type": "code",
      "source": [
        "numeros.sort(reverse=True)\n",
        "numeros"
      ],
      "metadata": {
        "id": "bp-iU-5_8ycN",
        "colab": {
          "base_uri": "https://localhost:8080/"
        },
        "outputId": "7a7d1702-8dbc-4053-a6f3-189b2c87931c"
      },
      "execution_count": 68,
      "outputs": [
        {
          "output_type": "execute_result",
          "data": {
            "text/plain": [
              "[11, 10, 9, 8, 7, 6, 5.5, 5, 4, 2, 1]"
            ]
          },
          "metadata": {},
          "execution_count": 68
        }
      ]
    },
    {
      "cell_type": "markdown",
      "metadata": {
        "id": "OCX5An0YkEA9"
      },
      "source": [
        "## Diccionarios - Funciones básicas"
      ]
    },
    {
      "cell_type": "code",
      "execution_count": null,
      "metadata": {
        "id": "xb_fQcjOlKHB",
        "jupyter": {
          "outputs_hidden": false
        },
        "colab": {
          "base_uri": "https://localhost:8080/"
        },
        "outputId": "57d0c57a-124f-4e32-e1b5-0711501aeafc"
      },
      "outputs": [
        {
          "output_type": "execute_result",
          "data": {
            "text/plain": [
              "{'llave1': 1, 'llave2': 2}"
            ]
          },
          "metadata": {},
          "execution_count": 152
        }
      ],
      "source": [
        "diccionario"
      ]
    },
    {
      "cell_type": "code",
      "execution_count": null,
      "metadata": {
        "id": "VRW87CE-cwWZ",
        "jupyter": {
          "outputs_hidden": false
        },
        "colab": {
          "base_uri": "https://localhost:8080/"
        },
        "outputId": "3576143f-38cc-42d2-bebb-de8674a27be4"
      },
      "outputs": [
        {
          "output_type": "execute_result",
          "data": {
            "text/plain": [
              "dict_keys(['llave1', 'llave2'])"
            ]
          },
          "metadata": {},
          "execution_count": 153
        }
      ],
      "source": [
        "diccionario.keys()"
      ]
    },
    {
      "cell_type": "code",
      "execution_count": null,
      "metadata": {
        "id": "ogwK-KQYcwWc",
        "jupyter": {
          "outputs_hidden": false
        },
        "colab": {
          "base_uri": "https://localhost:8080/"
        },
        "outputId": "099db4a1-9827-4e5a-8fe3-0070f8969bf0"
      },
      "outputs": [
        {
          "output_type": "execute_result",
          "data": {
            "text/plain": [
              "dict_values([1, 2])"
            ]
          },
          "metadata": {},
          "execution_count": 154
        }
      ],
      "source": [
        "diccionario.values()"
      ]
    },
    {
      "cell_type": "code",
      "execution_count": null,
      "metadata": {
        "id": "8InIw4GbcwWf",
        "jupyter": {
          "outputs_hidden": false
        },
        "colab": {
          "base_uri": "https://localhost:8080/"
        },
        "outputId": "fddad78b-e843-425e-f5bc-5df05cce9ad5"
      },
      "outputs": [
        {
          "output_type": "execute_result",
          "data": {
            "text/plain": [
              "dict_items([('llave1', 1), ('llave2', 2)])"
            ]
          },
          "metadata": {},
          "execution_count": 155
        }
      ],
      "source": [
        "diccionario.items()"
      ]
    },
    {
      "cell_type": "code",
      "execution_count": null,
      "metadata": {
        "id": "3YuWQn5PcwWj",
        "jupyter": {
          "outputs_hidden": false
        },
        "tags": [],
        "colab": {
          "base_uri": "https://localhost:8080/"
        },
        "outputId": "7ece4c36-095f-4e6d-c03b-7571f5b618e3"
      },
      "outputs": [
        {
          "output_type": "execute_result",
          "data": {
            "text/plain": [
              "1"
            ]
          },
          "metadata": {},
          "execution_count": 156
        }
      ],
      "source": [
        "diccionario[\"llave1\"]"
      ]
    },
    {
      "cell_type": "markdown",
      "source": [
        "### Ejercicios"
      ],
      "metadata": {
        "id": "Z8SnKxcT-9yh"
      }
    },
    {
      "cell_type": "markdown",
      "source": [
        "1. Diccionario personas\n",
        "\n",
        "* Crear un diccionario vacío llamado `personas`.\n",
        "* Usando llaves `persona1`, `persona2`, etc., agregar dos personas al diccionario `personas` con los siguientes atributos: nombre, edad, ciudad.\n",
        "* Agregar una tercera persona al diccionario.\n",
        "* Imprimir la edad de la segunda persona.\n",
        "* Imprimir la ciudad de la primera persona.\n",
        "* Eliminar la tercera persona del diccionario.\n",
        "* Imprimir el número de elementos que hay en el diccionario.\n",
        "* Imprimir las llaves (claves) del diccionario\n",
        "* Imprimir los valores del diccionario "
      ],
      "metadata": {
        "id": "kj-cV1D9_Bls"
      }
    },
    {
      "cell_type": "code",
      "source": [
        "# Crear un diccionario vacío\n",
        "personas = {}"
      ],
      "metadata": {
        "id": "-SMnqL-z9YsA"
      },
      "execution_count": 78,
      "outputs": []
    },
    {
      "cell_type": "code",
      "source": [
        "personas[\"persona1\"] = {\"nombre\": \"Juan\", \"edad\": 25, \"ciudad\": \"CABA\"}\n",
        "personas[\"persona2\"] = {\"nombre\": \"Ana\", \"edad\": 30.2, \"ciudad\": \"Salta\"}"
      ],
      "metadata": {
        "id": "s9KaIG6g_0EU"
      },
      "execution_count": 79,
      "outputs": []
    },
    {
      "cell_type": "code",
      "source": [
        "personas"
      ],
      "metadata": {
        "colab": {
          "base_uri": "https://localhost:8080/"
        },
        "id": "PaAQoED1dBWZ",
        "outputId": "91dfa61a-017c-4efc-9c51-0f983f472be1"
      },
      "execution_count": 80,
      "outputs": [
        {
          "output_type": "execute_result",
          "data": {
            "text/plain": [
              "{'persona1': {'nombre': 'Juan', 'edad': 25, 'ciudad': 'CABA'},\n",
              " 'persona2': {'nombre': 'Ana', 'edad': 30.2, 'ciudad': 'Salta'}}"
            ]
          },
          "metadata": {},
          "execution_count": 80
        }
      ]
    },
    {
      "cell_type": "code",
      "source": [
        "# Agregar una tercera persona al diccionario.\n",
        "personas[\"persona3\"] = {\"nombre\": \"Pedro\", \"edad\": 40, \"ciudad\": \"Rosario\"}"
      ],
      "metadata": {
        "id": "vxee-HsYFD9M"
      },
      "execution_count": 81,
      "outputs": []
    },
    {
      "cell_type": "code",
      "source": [
        "# Imprimir la edad de la segunda persona.\n",
        "print(\"La edad de la segunda persona es:\", personas[\"persona2\"][\"edad\"])"
      ],
      "metadata": {
        "colab": {
          "base_uri": "https://localhost:8080/"
        },
        "id": "oQJe3YpLdC5J",
        "outputId": "9ad51635-1ff0-4a0a-ec51-3e68ef7960ed"
      },
      "execution_count": 82,
      "outputs": [
        {
          "output_type": "stream",
          "name": "stdout",
          "text": [
            "La edad de la segunda persona es: 30.2\n"
          ]
        }
      ]
    },
    {
      "cell_type": "code",
      "source": [
        "# Imprimir la ciudad de la primera persona.\n",
        "print(\"La ciudad de la primera persona es:\", personas[\"persona1\"][\"ciudad\"])"
      ],
      "metadata": {
        "colab": {
          "base_uri": "https://localhost:8080/"
        },
        "id": "Fi9il7umdkzb",
        "outputId": "f5662edc-dfd3-438c-fd01-e42978e5f45d"
      },
      "execution_count": 83,
      "outputs": [
        {
          "output_type": "stream",
          "name": "stdout",
          "text": [
            "La ciudad de la primera persona es: CABA\n"
          ]
        }
      ]
    },
    {
      "cell_type": "code",
      "source": [
        "# Eliminar la tercera persona del diccionario.\n",
        "del personas[\"persona3\"]"
      ],
      "metadata": {
        "id": "GGWZNy_BFhVb"
      },
      "execution_count": 84,
      "outputs": []
    },
    {
      "cell_type": "code",
      "source": [
        "# Imprimir el número de elementos que hay en el diccionario.\n",
        "print(\"El número de elementos en el diccionario es:\", len(personas))"
      ],
      "metadata": {
        "colab": {
          "base_uri": "https://localhost:8080/"
        },
        "id": "pnf2KHNGFxqN",
        "outputId": "3e1c7ebe-21d7-45f2-a317-55d0a7375b97"
      },
      "execution_count": 88,
      "outputs": [
        {
          "output_type": "stream",
          "name": "stdout",
          "text": [
            "El número de elementos en el diccionario es: 2\n"
          ]
        }
      ]
    },
    {
      "cell_type": "code",
      "source": [
        "# Imprimir las llaves (claves) del diccionario\n",
        "print(\"Las llaves del diccionario son:\", list(personas.keys()))"
      ],
      "metadata": {
        "colab": {
          "base_uri": "https://localhost:8080/"
        },
        "id": "aHV_-aazdyRs",
        "outputId": "9d18551f-bd80-4f65-a5fd-f4250600e416"
      },
      "execution_count": 87,
      "outputs": [
        {
          "output_type": "stream",
          "name": "stdout",
          "text": [
            "Las llaves del diccionario son: ['persona1', 'persona2']\n"
          ]
        }
      ]
    },
    {
      "cell_type": "code",
      "source": [
        "# Imprimir los valores del diccionario\n",
        "print(\"Los valores del diccionario son:\", list(personas.values()))"
      ],
      "metadata": {
        "colab": {
          "base_uri": "https://localhost:8080/"
        },
        "id": "zF4vE2_QeaaR",
        "outputId": "4a583724-6a1f-4a09-f748-cae0a6fa37fd"
      },
      "execution_count": 86,
      "outputs": [
        {
          "output_type": "stream",
          "name": "stdout",
          "text": [
            "Los valores del diccionario son: [{'nombre': 'Juan', 'edad': 25, 'ciudad': 'CABA'}, {'nombre': 'Ana', 'edad': 30.2, 'ciudad': 'Salta'}]\n"
          ]
        }
      ]
    }
  ],
  "metadata": {
    "anaconda-cloud": {},
    "colab": {
      "provenance": []
    },
    "kernelspec": {
      "display_name": "Python 3 (ipykernel)",
      "language": "python",
      "name": "python3"
    },
    "language_info": {
      "codemirror_mode": {
        "name": "ipython",
        "version": 3
      },
      "file_extension": ".py",
      "mimetype": "text/x-python",
      "name": "python",
      "nbconvert_exporter": "python",
      "pygments_lexer": "ipython3",
      "version": "3.9.13"
    }
  },
  "nbformat": 4,
  "nbformat_minor": 0
}