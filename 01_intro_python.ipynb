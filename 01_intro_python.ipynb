{
 "cells": [
  {
   "cell_type": "markdown",
   "metadata": {
    "id": "view-in-github"
   },
   "source": [
    "<a href=\"https://colab.research.google.com/github/Argentan/DMA_LAB2/blob/master/tutoriales/02_intro_python.ipynb\" target=\"_parent\"><img src=\"https://colab.research.google.com/assets/colab-badge.svg\" alt=\"Open In Colab\"/></a>"
   ]
  },
  {
   "cell_type": "markdown",
   "metadata": {
    "id": "XkLPXjhfC0F6"
   },
   "source": [
    "# Introducción a Python - 1\n",
    "## Contenidos\n",
    "\n",
    "- [Breve introducción a Python](#Breve-introducción-a-Python)\n",
    "  - [Operaciones básicas](#Operaciones-básicas)\n",
    "  - [Variables](#Variables)\n",
    "  - [Tipos de datos](#Tipos-de-datos)\n",
    "  - [Cadenas de texto](#Cadenas-de-texto)\n",
    "  - [Listas](#Listas)\n",
    "      - [Seleccionando rangos](#Seleccionando-rangos)\n",
    "      - [Slicing (rebanado)](#Slicing-(rebanado))\n",
    "      - [Agregando datos a una lista](#Agregando-datos-a-una-lista)\n",
    "      - [Eliminar valores de una lista y ordenar](#Eliminar-valores-de-una-lista-y-ordenar)\n",
    "  - [Diccionarios](#Diccionarios)"
   ]
  },
  {
   "cell_type": "markdown",
   "metadata": {
    "id": "e-KEplDxcwVo"
   },
   "source": [
    "# Python\n",
    "**Python** (pī′thŏn′) es un lenguaje de programación de propósito general y alto nivel. Su filosofía de diseño enfatiza la legibilidad del código con el uso de sangría significativa.\n",
    "\n",
    "Python se escribe dinámicamente y se recolecta basura. Admite múltiples paradigmas de programación, incluida la programación estructurada (particularmente procedimental), orientada a objetos y funcional. A menudo se describe como un lenguaje de \"baterías incluidas\" debido a su completa biblioteca estándar.\n",
    "\n",
    "## Breve introducción a Python\n",
    "\n",
    "Python es un lenguaje interpretado de tipos dinámicos. A diferencia de R, por ejemplo, es un lenguaje de uso general y su capacidad para las ciencias de datos no viene dada desde sus librerías internas sino por los módulos externos. Se puede usar en forma imperativa u orientada a objetos; teóricamente también dentro del paradigma de programación funcional, pero con ciertas limitaciones (existen límites para ejecución recursiva, por ejemplo).\n",
    "\n",
    "Python puro tiende a ser lento (para ejecutar, rápido para escribir), por tener tipos dinámicos y por el GIL. Sin embargo, el intérprete más comúnmente usado (CPytyhon) esta implementado en C y permite la integración de módulos externos de C, C++ y Fortran que, bien utilizados, permiten la aceleración de las partes claves de un programa.\n",
    "\n",
    "Desde lo estético, Python reemplaza las llaves por indentaciones, cosa que fuerza un código más legible. Por lo demás, existe toda una \"filosofía\" de lo que es \"pythonico\", en términos de prolijidad, funcionalidad y belleza del código."
   ]
  },
  {
   "cell_type": "markdown",
   "metadata": {
    "id": "d-PIqcvH77KC"
   },
   "source": [
    "## import this\n",
    "\n",
    "\"import this\" es un módulo incorporado en Python que imprime el poema \"The Zen of Python\" (El Zen de Python) en la consola. El poema fue escrito por Tim Peters, un destacado desarrollador de software de Python, y es una colección de principios que los programadores de Python pueden seguir para escribir código legible y elegante.\n",
    "\n",
    "El poema contiene 19 líneas de código que resumen los principios de diseño y estilo de Python, como la legibilidad, la simplicidad y la explícitud. El uso de \"import this\" en Python es una forma divertida y educativa de recordar a los programadores la importancia de seguir buenas prácticas de programación al escribir código en Python."
   ]
  },
  {
   "cell_type": "code",
   "execution_count": null,
   "metadata": {
    "id": "mN0WP8aVcwVq"
   },
   "outputs": [],
   "source": [
    "import this"
   ]
  },
  {
   "cell_type": "markdown",
   "metadata": {
    "id": "g53olKCkcwVw"
   },
   "source": [
    "## Operaciones básicas"
   ]
  },
  {
   "cell_type": "markdown",
   "metadata": {
    "id": "g53olKCkcwVw"
   },
   "source": [
    "| Operador  | Operación                        | Ejemplo         |\n",
    "| --------- | -------------------------------- | --------------- |\n",
    "| **        | Potencia                         | `2 ** 3 = 8`    |\n",
    "| %         | Resto                            | `22 % 8 = 6`    |\n",
    "| //        | División de enteros              | `22 // 8 = 2`   |\n",
    "| /         | División normal                  | `22 / 8 = 2.75` |\n",
    "| *         | Multiplicación                   | `3 * 3 = 9`     |\n",
    "| -         | Resta                            | `5 - 2 = 3`     |\n",
    "| +         | Suma         | `2 + 2 = 4`     |"
   ]
  },
  {
   "cell_type": "code",
   "execution_count": null,
   "metadata": {
    "id": "ms0eoeBhcwVx"
   },
   "outputs": [],
   "source": [
    "22 / 8"
   ]
  },
  {
   "cell_type": "code",
   "execution_count": null,
   "metadata": {
    "id": "7irUOkxzcwV1"
   },
   "outputs": [],
   "source": [
    "22 // 8"
   ]
  },
  {
   "cell_type": "code",
   "execution_count": null,
   "metadata": {
    "id": "OFBH0anqIJRT"
   },
   "outputs": [],
   "source": [
    "22 % 8"
   ]
  },
  {
   "cell_type": "markdown",
   "metadata": {
    "id": "jljwXZSCcwV4"
   },
   "source": [
    "## Variables\n",
    "\n",
    "Las variables se asignan con el signo igual =, y para definir el nombre solo se pueden usar letras, números y guion bajo (_); no se pueden usar espacios y tampoco pueden empezar con un número."
   ]
  },
  {
   "cell_type": "code",
   "execution_count": null,
   "metadata": {
    "id": "HNsQEozZcwV5"
   },
   "outputs": [],
   "source": [
    "# 123var = 123   ## esta asignación da error porque los nombres de variables no pueden comenzar con número"
   ]
  },
  {
   "cell_type": "code",
   "execution_count": null,
   "metadata": {
    "id": "tqwMGxo_cwV8"
   },
   "outputs": [],
   "source": [
    "var = 123"
   ]
  },
  {
   "cell_type": "code",
   "execution_count": null,
   "metadata": {
    "id": "KRuyTzD2mcw-"
   },
   "outputs": [],
   "source": [
    "type(var)"
   ]
  },
  {
   "cell_type": "code",
   "execution_count": null,
   "metadata": {
    "id": "lSPC43PWI2Px"
   },
   "outputs": [],
   "source": [
    "var_float = 3.1415\n",
    "var_float"
   ]
  },
  {
   "cell_type": "code",
   "execution_count": null,
   "metadata": {
    "id": "MJrp0rXxI_L9"
   },
   "outputs": [],
   "source": [
    "type(var_float)"
   ]
  },
  {
   "cell_type": "markdown",
   "metadata": {
    "id": "8AVi0fqtcwWB"
   },
   "source": [
    "## Tipos de datos"
   ]
  },
  {
   "cell_type": "markdown",
   "metadata": {
    "id": "8AVi0fqtcwWB"
   },
   "source": [
    "| Tipo  | Ejemplo\n",
    "| --------- | --------------- |\n",
    "| Lógico    | True, False|\n",
    "| Entero    | 1, 2, 3|\n",
    "| Decimal o punto flotante         | 1.25, -120.25 |\n",
    "| Cadena o texto        | Hola, Adiós              |\n",
    "| Lista        | \\[1, 2, 3\\]              |\n",
    "| Diccionario        | {\"llave\": \"valor\"}              |"
   ]
  },
  {
   "cell_type": "code",
   "execution_count": null,
   "metadata": {
    "id": "lbTfl0gScwWB"
   },
   "outputs": [],
   "source": [
    "booleano = True  #False\n",
    "\n",
    "cadena = 'esto es una cadena de texto'\n",
    "\n",
    "entero = 10\n",
    "\n",
    "punto_flotante = 3.1415\n",
    "\n",
    "punto_flotante_alternativa = 10.\n",
    "\n",
    "lista = [\"elemento1\", \"elemento2\", 1236, 10.2, 2., True, 'ultimo_elemento']\n",
    "\n",
    "tupla = (\"elemento1\", \"elemento2\", 1236, 10.2, 2., True, 'ultimo_elemento')\n",
    "\n",
    "diccionario = {\"llave1\": 1, \"llave2\": 2}\n",
    "\n",
    "edad = -200   # 0-32762"
   ]
  },
  {
   "cell_type": "markdown",
   "metadata": {
    "id": "IaSioeQAjQZs"
   },
   "source": [
    "Vemos las variables usando el comando mágico \"whos\".\n"
   ]
  },
  {
   "cell_type": "code",
   "execution_count": null,
   "metadata": {
    "id": "6sI7FNFxcwWF"
   },
   "outputs": [],
   "source": [
    "%whos\n"
   ]
  },
  {
   "cell_type": "markdown",
   "metadata": {
    "id": "SlltMF75lbH3"
   },
   "source": [
    "En IPython (el kernel de Jupyter), los \"magic commands\" (comandos mágicos) son comandos especiales que comienzan con uno o dos signos de porcentaje (% o %% respectivamente) y que proporcionan funcionalidades adicionales y convenientes para interactuar con el entorno de IPython. Estos comandos están diseñados para simplificar y agilizar diversas tareas durante la programación, análisis de datos y experimentación. Ver [una lista completa de magic commands](https://ipython.readthedocs.io/en/stable/interactive/magics.html)."
   ]
  },
  {
   "cell_type": "markdown",
   "metadata": {
    "id": "vXqdycwzt0d9"
   },
   "source": [
    "### Ejercicios"
   ]
  },
  {
   "cell_type": "markdown",
   "metadata": {
    "id": "WUOCDKpE5DZV"
   },
   "source": [
    "1. Asignar a un objeto llamado \"numero\" el resultado de: 100 / 4"
   ]
  },
  {
   "cell_type": "code",
   "execution_count": null,
   "metadata": {
    "id": "Dp-SMIjH5ByA"
   },
   "outputs": [],
   "source": [
    "numero = 100 / 4\n",
    "numero"
   ]
  },
  {
   "cell_type": "markdown",
   "metadata": {
    "id": "CwvaZdLy5LxJ"
   },
   "source": [
    "2. Ver el tipo de dato del objeto numero"
   ]
  },
  {
   "cell_type": "code",
   "execution_count": null,
   "metadata": {
    "id": "ZgLehZki5ipM"
   },
   "outputs": [],
   "source": [
    "type(numero)"
   ]
  },
  {
   "cell_type": "markdown",
   "metadata": {
    "id": "0bulLVIdt4_H"
   },
   "source": [
    "3. Pedir al usuario un número entero y luego imprima si el número es par o impar.\n",
    "Pista: para pedir un número entero al usuario usar: `int(input(\"Num: \")`\n"
   ]
  },
  {
   "cell_type": "code",
   "execution_count": null,
   "metadata": {
    "id": "G-lBN1c9CF-h"
   },
   "outputs": [],
   "source": [
    "var6 = input('Hola')\n",
    "var6"
   ]
  },
  {
   "cell_type": "code",
   "execution_count": null,
   "metadata": {
    "id": "2E8BMgLpCdYY"
   },
   "outputs": [],
   "source": [
    "var6"
   ]
  },
  {
   "cell_type": "markdown",
   "metadata": {
    "id": "6ptUyWo3t4VL"
   },
   "source": [
    "numero = int(input(\"Ingrese un número: \"))\n",
    "numero"
   ]
  },
  {
   "cell_type": "code",
   "execution_count": null,
   "metadata": {
    "id": "G-Dbh93qDISd"
   },
   "outputs": [],
   "source": [
    "numero"
   ]
  },
  {
   "cell_type": "markdown",
   "metadata": {
    "id": "toJ0sk_m-2A2"
   },
   "source": [
    "Este código Python solicita al usuario que ingrese un número entero y lo almacena en la variable \"numero\".\n",
    "\n",
    "La función \"input()\" se utiliza para solicitar al usuario que ingrese un valor en la consola, y la función \"int()\" se utiliza para convertir el valor ingresado en un número entero.\n",
    "\n",
    "El mensaje \"Ingrese un número entero: \" se muestra en la consola para indicarle al usuario qué tipo de entrada se espera."
   ]
  },
  {
   "cell_type": "code",
   "execution_count": null,
   "metadata": {
    "id": "3SVqlyFBLGSQ"
   },
   "outputs": [],
   "source": [
    "resto = numero % 2      # modulo\n",
    "resto"
   ]
  },
  {
   "cell_type": "code",
   "execution_count": null,
   "metadata": {
    "id": "Ey6fCiZdLvFk"
   },
   "outputs": [],
   "source": [
    "if resto == 0:\n",
    "  print('el numero es par')\n",
    "else:\n",
    "  print('el numero es impar')"
   ]
  },
  {
   "cell_type": "markdown",
   "metadata": {
    "id": "uZl3LmHSuFnd"
   },
   "source": [
    "4. Pedir al usuario su edad y luego determinar si es mayor de edad (18 años o más) o no."
   ]
  },
  {
   "cell_type": "code",
   "execution_count": null,
   "metadata": {
    "id": "PoAb4460vsCs"
   },
   "outputs": [],
   "source": [
    "edad = int(input(\"Ingrese su edad: \"))"
   ]
  },
  {
   "cell_type": "code",
   "execution_count": null,
   "metadata": {
    "id": "N2ktfSAtMvUD"
   },
   "outputs": [],
   "source": [
    "if edad >= 18:\n",
    "  print('es mayor de edad')\n",
    "else:\n",
    "  print('es menor de edad')"
   ]
  },
  {
   "cell_type": "markdown",
   "metadata": {
    "id": "cUcKyNFUvtLv"
   },
   "source": [
    "4. Calcular el promedio de tres números ingresados por el usuario."
   ]
  },
  {
   "cell_type": "code",
   "execution_count": null,
   "metadata": {
    "id": "jUSKmjiOvwAD"
   },
   "outputs": [],
   "source": [
    "# Solicitamos al usuario ingresar los tres números y los almacenamos en variables separadas\n",
    "numero1 = float(input(\"Ingrese el primer número: \"))\n",
    "numero2 = float(input(\"Ingrese el segundo número: \"))\n",
    "numero3 = float(input(\"Ingrese el tercer número: \"))\n",
    "\n",
    "# Calculamos el promedio de los tres números\n",
    "promedio = (numero1 + numero2 + numero3) / 3\n",
    "\n",
    "# Imprimimos el resultado del promedio\n",
    "print(\"El promedio de los tres números es:\", promedio)"
   ]
  },
  {
   "cell_type": "markdown",
   "metadata": {
    "id": "bnhWjEf2cwWJ"
   },
   "source": [
    "## Cadenas de texto"
   ]
  },
  {
   "cell_type": "markdown",
   "metadata": {
    "id": "bnhWjEf2cwWJ"
   },
   "source": [
    "Las cadenas se pueden sumar y multiplicar. Dependiendo el caso, multiplicar es razonable, pero sumar está desaconsejado. Se recomienda usar formateo de texto."
   ]
  },
  {
   "cell_type": "code",
   "execution_count": null,
   "metadata": {
    "id": "21RjPCgIGiXs"
   },
   "outputs": [],
   "source": [
    "num = 2 + 3\n",
    "num"
   ]
  },
  {
   "cell_type": "code",
   "execution_count": null,
   "metadata": {
    "id": "hIQaBeP9cwWJ"
   },
   "outputs": [],
   "source": [
    "palabra1 = \"hola\"\n",
    "palabra2 = \"mundo\"\n",
    "palabra3 = palabra1 + palabra2\n",
    "palabra3"
   ]
  },
  {
   "cell_type": "markdown",
   "metadata": {
    "id": "zj94Rkq_j8ZA"
   },
   "source": [
    "Usando formateo de texto:"
   ]
  },
  {
   "cell_type": "code",
   "execution_count": null,
   "metadata": {
    "id": "EYPO6jGOcwWM"
   },
   "outputs": [],
   "source": [
    "print(f'{palabra1} y {palabra2}')"
   ]
  },
  {
   "cell_type": "code",
   "execution_count": null,
   "metadata": {},
   "outputs": [],
   "source": [
    "print(palabra1, 'y', palabra2)"
   ]
  },
  {
   "cell_type": "markdown",
   "metadata": {
    "id": "IyMgR6NQAbtD"
   },
   "source": [
    "La expresión f\"{palabra1} {palabra2}\" es una forma de formatear cadenas (strings) en Python usando una f-string (formatted string literal).\n",
    "\n",
    "Las f-strings son una característica introducida en Python 3.6 que permiten incrustar valores de variables o expresiones en una cadena de texto de manera más sencilla y legible que las formas tradicionales de formateo de cadenas.\n",
    "\n",
    "En el ejemplo dado, la f-string está compuesta por dos variables llamadas `palabra1` y `palabra2`. La sintaxis {variable} dentro de la f-string indica que Python debe tomar el valor de la variable y colocarlo en el lugar donde se encuentra la expresión {variable} dentro de la cadena. De esta manera, la f-string combina los valores de las dos variables en una sola cadena de texto, separadas por un espacio."
   ]
  },
  {
   "cell_type": "code",
   "execution_count": null,
   "metadata": {
    "id": "e8XSiH9tcwWS"
   },
   "outputs": [],
   "source": [
    "# Formateo de números: número de dígitos decimales y separadores de miles.\n",
    "\n",
    "numero = 1233432.127\n",
    "porcentaje = 0.1568\n",
    "\n",
    "f\"Separador de miles y decimales: {numero:,.2f}, o porcentajes {porcentaje:.0%}\""
   ]
  },
  {
   "cell_type": "markdown",
   "metadata": {
    "id": "yRJ_8r_YA-2G"
   },
   "source": [
    "En este código se utiliza una f-string (formatted string literal) para crear una cadena de texto (string) con valores de variables insertados en ella de forma formatada.\n",
    "\n",
    "En el ejemplo, se están utilizando dos variables numéricas: `numero` y `porcentaje`. En la f-string, se utilizan diferentes opciones de formateo para dar formato a estas variables dentro de la cadena de texto.\n",
    "\n",
    "`{num:,.2f}`: el formato ,.2f especifica que se deben usar dos decimales y que se deben separar los millares con comas: 1,233,432.13.\n",
    "\n",
    "`{por:.0%}`: el formato :.0% especifica que no se deben mostrar decimales y que el valor debe multiplicarse por 100 y mostrarse con un signo de porcentaje. En este caso 16%.\n",
    "\n",
    "En resumen, la f-string permite combinar valores de variables con texto y aplicar opciones de formateo para darles un formato específico dentro de la cadena de texto. Esto puede ser muy útil para crear mensajes personalizados, mostrar resultados numéricos con un formato específico o presentar datos de forma legible para el usuario."
   ]
  },
  {
   "cell_type": "markdown",
   "metadata": {
    "id": "soNV1KDSlPnm"
   },
   "source": [
    "## Listas"
   ]
  },
  {
   "cell_type": "markdown",
   "metadata": {
    "id": "EL8UIRKLm33h"
   },
   "source": [
    "Los elementos de una lista se pueden acceder mediante su índice\n",
    "\n",
    "* Todos los índices empiezan en 0\n",
    "* Se usan números enteros para los índices\n",
    "* El índice máximo equivale a la cantidad de (elementos - 1)\n",
    "* Se accede al elemento con [*índice*]\n",
    "* Si el índice es negativo, se cuenta desde el final\n",
    "* Se determina la longitud con la función `len`"
   ]
  },
  {
   "cell_type": "code",
   "execution_count": null,
   "metadata": {
    "id": "xSAUzLSilL3w"
   },
   "outputs": [],
   "source": [
    "lista"
   ]
  },
  {
   "cell_type": "code",
   "execution_count": null,
   "metadata": {
    "id": "5jVeowCt5aNy"
   },
   "outputs": [],
   "source": [
    "n = len(lista)\n",
    "n"
   ]
  },
  {
   "cell_type": "code",
   "execution_count": null,
   "metadata": {
    "id": "c0ldNTJAcwWm"
   },
   "outputs": [],
   "source": [
    "lista[0]"
   ]
  },
  {
   "cell_type": "code",
   "execution_count": null,
   "metadata": {
    "id": "QQeGrapgR6bj"
   },
   "outputs": [],
   "source": [
    "lista[-1]"
   ]
  },
  {
   "cell_type": "code",
   "execution_count": null,
   "metadata": {
    "id": "sFITbnEJyXLZ"
   },
   "outputs": [],
   "source": [
    "tupla"
   ]
  },
  {
   "cell_type": "code",
   "execution_count": null,
   "metadata": {
    "id": "v_lld55vcwWp"
   },
   "outputs": [],
   "source": [
    "tupla[0]"
   ]
  },
  {
   "cell_type": "code",
   "execution_count": null,
   "metadata": {
    "id": "vZ3ylubycwWs"
   },
   "outputs": [],
   "source": [
    "lista[-1]"
   ]
  },
  {
   "cell_type": "code",
   "execution_count": null,
   "metadata": {
    "id": "NScPqRiNSVJF"
   },
   "outputs": [],
   "source": [
    "lista[-2]"
   ]
  },
  {
   "cell_type": "code",
   "execution_count": null,
   "metadata": {
    "id": "dogya3TGlj22"
   },
   "outputs": [],
   "source": [
    "lista[len(lista)-1]"
   ]
  },
  {
   "cell_type": "code",
   "execution_count": null,
   "metadata": {
    "id": "wXXZnirYcwWy"
   },
   "outputs": [],
   "source": [
    "lista[0] = \"elem1\"\n",
    "lista"
   ]
  },
  {
   "cell_type": "code",
   "execution_count": null,
   "metadata": {
    "id": "qENCG0FbJ_WD"
   },
   "outputs": [],
   "source": [
    "lista[-1] = \"pablo\"\n",
    "lista"
   ]
  },
  {
   "cell_type": "code",
   "execution_count": null,
   "metadata": {
    "id": "5xqa9vXFcwW1"
   },
   "outputs": [],
   "source": [
    "# tupla[0] = \"otro elemento\""
   ]
  },
  {
   "cell_type": "markdown",
   "metadata": {
    "id": "yI-eD12CkFYv"
   },
   "source": [
    "Se recibe este mensaje de error porque no se pueden cambiar los valores dentro de una tupla."
   ]
  },
  {
   "cell_type": "markdown",
   "metadata": {
    "id": "Kt5ujtaHbGU7"
   },
   "source": [
    "## Seleccionando rangos"
   ]
  },
  {
   "cell_type": "markdown",
   "metadata": {
    "id": "Kt5ujtaHbGU7"
   },
   "source": [
    "Se puede seleccionar más de un elemento de una lista usando '**:**'\n",
    "\n",
    "Para seleccionar los primeros 2 se hace **[:2]**"
   ]
  },
  {
   "cell_type": "markdown",
   "metadata": {
    "id": "_ovfAhFm0Rl5"
   },
   "source": [
    "### Slicing (rebanado)"
   ]
  },
  {
   "cell_type": "markdown",
   "metadata": {
    "id": "_ovfAhFm0Rl5"
   },
   "source": [
    "Guido van Rossum (inventor de Python):\n",
    "\n",
    "[...] Me dejé llevar por la elegancia de los intervalos entreabiertos. Especialmente la invariante de que cuando dos rebanadas son adyacentes, el índice final de la primera rebanada es el índice de inicio de la segunda rebanada: esto es demasiado hermoso para ignorarlo. Por ejemplo, suponga que divide una cadena en tres partes en los índices i y j; las partes serían a[:i], a[i:j] y a[j:].\n",
    "\n",
    "\n",
    "`a[start:stop]`  # desde start hasta stop-1\n",
    "\n",
    "`a[start:]`      # desde start hasta el final\n",
    "\n",
    "`a[:stop]`       # desde el comienzo hasta stop-1\n",
    "\n",
    "`a[:]`           # copia de todo\n",
    "\n",
    "`a[start:stop:step]` # desde start hasta stop, por pasos\n",
    "\n",
    "La otra característica es que start y stop pueden ser negativos, lo que significa que cuenta desde el final. Entonces:\n",
    "\n",
    "`a[-1]` # último elemento\n",
    "\n",
    "`a[-2:]` # últimos dos elementos\n",
    "\n",
    "`a[:-2]` # todo excepto los dos últimos elementos"
   ]
  },
  {
   "cell_type": "code",
   "execution_count": null,
   "metadata": {
    "id": "dRE2-HFUy33C"
   },
   "outputs": [],
   "source": [
    "lista"
   ]
  },
  {
   "cell_type": "code",
   "execution_count": null,
   "metadata": {
    "id": "xNEvJ7NNKjaA"
   },
   "outputs": [],
   "source": [
    "lista[0:3]"
   ]
  },
  {
   "cell_type": "code",
   "execution_count": null,
   "metadata": {},
   "outputs": [],
   "source": [
    "lista[0:]"
   ]
  },
  {
   "cell_type": "code",
   "execution_count": null,
   "metadata": {},
   "outputs": [],
   "source": [
    "lista[:5]"
   ]
  },
  {
   "cell_type": "code",
   "execution_count": null,
   "metadata": {
    "id": "B0RHH7031que"
   },
   "outputs": [],
   "source": [
    "lista[-1]"
   ]
  },
  {
   "cell_type": "code",
   "execution_count": null,
   "metadata": {
    "id": "l8Kcm9ca1uDM"
   },
   "outputs": [],
   "source": [
    "lista[-2:]"
   ]
  },
  {
   "cell_type": "code",
   "execution_count": null,
   "metadata": {
    "id": "MtvQHJJT10wM"
   },
   "outputs": [],
   "source": [
    "lista[:-2]"
   ]
  },
  {
   "cell_type": "code",
   "execution_count": null,
   "metadata": {
    "id": "b0zVMSoBbGU8"
   },
   "outputs": [],
   "source": [
    "lista[:2]"
   ]
  },
  {
   "cell_type": "markdown",
   "metadata": {
    "id": "7UFlt-jabGU_"
   },
   "source": [
    "Los últimos dos:"
   ]
  },
  {
   "cell_type": "code",
   "execution_count": null,
   "metadata": {
    "id": "7EpjzgR2bGU_"
   },
   "outputs": [],
   "source": [
    "lista[-2:]"
   ]
  },
  {
   "cell_type": "markdown",
   "metadata": {
    "id": "RKQRq8aEbGVD"
   },
   "source": [
    "Es lo mismo que seleccionar desde el 5to índice hasta el último índice"
   ]
  },
  {
   "cell_type": "code",
   "execution_count": null,
   "metadata": {
    "id": "fevDPv2UbGVE"
   },
   "outputs": [],
   "source": [
    "lista[5:]"
   ]
  },
  {
   "cell_type": "markdown",
   "metadata": {
    "id": "GBvRbjv6bGVJ"
   },
   "source": [
    "Del segundo al cuarto (ojo que el segundo elemento es el índice 1)"
   ]
  },
  {
   "cell_type": "code",
   "execution_count": null,
   "metadata": {
    "id": "2hrrBggVbGVK"
   },
   "outputs": [],
   "source": [
    "lista[1:4]"
   ]
  },
  {
   "cell_type": "markdown",
   "metadata": {
    "id": "Ns7itohq2Hk5"
   },
   "source": [
    "De manera similar, `step` puede ser un número negativo:\n",
    "\n",
    "`a[::-1]` # todos los elementos, invertidos\n",
    "\n",
    "`a[1::-1]` # los dos primeros elementos, invertidos\n",
    "\n",
    "`a[:-3:-1]` # los dos últimos elementos, invertidos\n",
    "\n",
    "`a[-3::-1]` # todo excepto los dos últimos elementos, al revés"
   ]
  },
  {
   "cell_type": "code",
   "execution_count": null,
   "metadata": {
    "id": "qu87sv-9WwQH"
   },
   "outputs": [],
   "source": [
    "lista"
   ]
  },
  {
   "cell_type": "code",
   "execution_count": null,
   "metadata": {},
   "outputs": [],
   "source": [
    "lista[0:5]"
   ]
  },
  {
   "cell_type": "code",
   "execution_count": null,
   "metadata": {
    "id": "zl9qVJfdy69y"
   },
   "outputs": [],
   "source": [
    "lista_invertida = lista[::-1]\n",
    "lista_invertida"
   ]
  },
  {
   "cell_type": "code",
   "execution_count": null,
   "metadata": {
    "id": "Nq3qbocE2gnd"
   },
   "outputs": [],
   "source": [
    "lista[1::-1]"
   ]
  },
  {
   "cell_type": "code",
   "execution_count": null,
   "metadata": {
    "id": "LfzTnro22m5c"
   },
   "outputs": [],
   "source": [
    "lista[:-3:-1]"
   ]
  },
  {
   "cell_type": "code",
   "execution_count": null,
   "metadata": {
    "id": "OneTBvxZ2pAP"
   },
   "outputs": [],
   "source": [
    "lista[-3::-1]"
   ]
  },
  {
   "cell_type": "markdown",
   "metadata": {
    "id": "kGxP0Qz24-7S"
   },
   "source": [
    "### Ejercicios"
   ]
  },
  {
   "cell_type": "markdown",
   "metadata": {
    "id": "Mg5vnAn36CuH"
   },
   "source": [
    "1. Crear una lista llamada \"Letras\" que contenga 5 letras de la A a la E  (A, B, C, D, E)"
   ]
  },
  {
   "cell_type": "code",
   "execution_count": null,
   "metadata": {
    "id": "N3gKq4Tg6Bzl"
   },
   "outputs": [],
   "source": [
    "Letras = ['A', 'B', 'C', 'D', 'E']"
   ]
  },
  {
   "cell_type": "markdown",
   "metadata": {
    "id": "tagH521G48uJ"
   },
   "source": [
    "2. Mostrar la longitud de la lista"
   ]
  },
  {
   "cell_type": "code",
   "execution_count": null,
   "metadata": {
    "id": "GNcdIft049Cz"
   },
   "outputs": [],
   "source": [
    "len(Letras)"
   ]
  },
  {
   "cell_type": "markdown",
   "metadata": {
    "id": "9UQAM2k_6cvK"
   },
   "source": [
    "2. Mostrar, usando el índice, el primer y el último elemento de la lista"
   ]
  },
  {
   "cell_type": "code",
   "execution_count": null,
   "metadata": {
    "id": "03hSaJwFNEu7"
   },
   "outputs": [],
   "source": [
    "Letras[0]"
   ]
  },
  {
   "cell_type": "code",
   "execution_count": null,
   "metadata": {
    "id": "nc9H3txoNPoE"
   },
   "outputs": [],
   "source": [
    "Letras[4]"
   ]
  },
  {
   "cell_type": "code",
   "execution_count": null,
   "metadata": {
    "id": "MRI3kQkl63wf"
   },
   "outputs": [],
   "source": [
    "# Mostrar el primer elemento\n",
    "print(\"El primer elemento es:\", Letras[0])\n",
    "\n",
    "# Mostrar el último elemento\n",
    "print(\"El último elemento es:\", Letras[-1])"
   ]
  },
  {
   "cell_type": "markdown",
   "metadata": {
    "id": "bY6rTZCG62wu"
   },
   "source": [
    "3. Mostrar, usando el índice, los tres primeros elementos de la lista"
   ]
  },
  {
   "cell_type": "code",
   "execution_count": null,
   "metadata": {
    "id": "8Ed_5KlcNhZ3"
   },
   "outputs": [],
   "source": [
    "Letras[0:3]"
   ]
  },
  {
   "cell_type": "code",
   "execution_count": null,
   "metadata": {
    "id": "a1eBD__q6kl_"
   },
   "outputs": [],
   "source": [
    "Letras[:3]"
   ]
  },
  {
   "cell_type": "markdown",
   "metadata": {
    "id": "Ca71x2Ov53-l"
   },
   "source": [
    "4. Mostrar Letras en orden inverso"
   ]
  },
  {
   "cell_type": "code",
   "execution_count": null,
   "metadata": {
    "id": "Gr-CJPyLNwo2"
   },
   "outputs": [],
   "source": [
    "Letras[::-1]"
   ]
  },
  {
   "cell_type": "code",
   "execution_count": null,
   "metadata": {
    "id": "FbzDCLSw54H0"
   },
   "outputs": [],
   "source": [
    "Letras_inverso = Letras[::-1]\n",
    "Letras_inverso"
   ]
  },
  {
   "cell_type": "markdown",
   "metadata": {
    "id": "J0LrD8KXnK7n"
   },
   "source": [
    "### Agregando datos a una lista"
   ]
  },
  {
   "cell_type": "markdown",
   "metadata": {
    "id": "XP6HE7SRnZ9c"
   },
   "source": [
    "Usando `append()` se agrega al final de la lista."
   ]
  },
  {
   "cell_type": "code",
   "execution_count": null,
   "metadata": {
    "colab": {
     "base_uri": "https://localhost:8080/"
    },
    "id": "cfmKy0TOnbCc",
    "outputId": "ba91701d-41d3-4954-e40f-91a81a275d61"
   },
   "outputs": [],
   "source": [
    "nombres = ['Pedro', 'Lucia', 'Juan', 'Maria']\n",
    "nombres.append('Manuel')\n",
    "nombres"
   ]
  },
  {
   "cell_type": "code",
   "execution_count": null,
   "metadata": {
    "colab": {
     "base_uri": "https://localhost:8080/"
    },
    "id": "NW1fkQinN9BM",
    "outputId": "c525d150-180a-4a6f-b7c6-62998e9a84f4"
   },
   "outputs": [],
   "source": [
    "nombres[3] = \"Pepe\"\n",
    "nombres"
   ]
  },
  {
   "cell_type": "markdown",
   "metadata": {
    "id": "c91LfLI_nnh3"
   },
   "source": [
    "Usando `insert()`: le digo la posición donde insertarlo."
   ]
  },
  {
   "cell_type": "code",
   "execution_count": null,
   "metadata": {
    "colab": {
     "base_uri": "https://localhost:8080/"
    },
    "id": "f6JKJIp0nnHQ",
    "outputId": "b62c2510-6a80-4566-fc78-bc4d047a5a33"
   },
   "outputs": [],
   "source": [
    "nombres = ['Pedro', 'Lucia', 'Juan', 'Maria']\n",
    "nombres.insert(1, 41258)\n",
    "nombres.insert(2, [2, 3])\n",
    "nombres"
   ]
  },
  {
   "cell_type": "code",
   "execution_count": null,
   "metadata": {
    "colab": {
     "base_uri": "https://localhost:8080/"
    },
    "id": "m-AbbD7naTRB",
    "outputId": "ce099b56-d5a1-4cb2-d656-1fdc3a18d262"
   },
   "outputs": [],
   "source": [
    "nombres = ['Pedro', 'Lucia', 'Juan', 'Maria']\n",
    "nombres.insert(len(nombres), 'Mariana')\n",
    "nombres"
   ]
  },
  {
   "cell_type": "markdown",
   "metadata": {
    "id": "MCdVSyExoCIg"
   },
   "source": [
    "### Eliminar valores de una lista y ordenar"
   ]
  },
  {
   "cell_type": "markdown",
   "metadata": {
    "id": "L24EcTTSoHSf"
   },
   "source": [
    "Para eliminar usar `remove()`"
   ]
  },
  {
   "cell_type": "code",
   "execution_count": null,
   "metadata": {
    "colab": {
     "base_uri": "https://localhost:8080/"
    },
    "id": "YbL4PhvCoLZ_",
    "outputId": "cdeb07ec-dadd-413c-8b9f-b351277c1f8d"
   },
   "outputs": [],
   "source": [
    "nombres = ['pedro', 'lucia', 'juan', 'maria', 'lucia']\n",
    "nombres.remove('lucia')\n",
    "nombres"
   ]
  },
  {
   "cell_type": "code",
   "execution_count": null,
   "metadata": {
    "colab": {
     "base_uri": "https://localhost:8080/"
    },
    "id": "HMgLvXDdPPeI",
    "outputId": "60703601-06a1-48c3-9608-37043e4a3b70"
   },
   "outputs": [],
   "source": [
    "nombres.sort()\n",
    "nombres"
   ]
  },
  {
   "cell_type": "markdown",
   "metadata": {
    "id": "oRKnSStEoQJm"
   },
   "source": [
    "Puedo ordenarlos usando `sort()`"
   ]
  },
  {
   "cell_type": "code",
   "execution_count": null,
   "metadata": {
    "colab": {
     "base_uri": "https://localhost:8080/"
    },
    "id": "sUWH_0KWoSe6",
    "outputId": "71e349d8-6319-4201-a728-4e689ebece48"
   },
   "outputs": [],
   "source": [
    "numeros = [2, 5, 3.14, 1, -7]\n",
    "numeros.sort()\n",
    "numeros"
   ]
  },
  {
   "cell_type": "code",
   "execution_count": null,
   "metadata": {
    "colab": {
     "base_uri": "https://localhost:8080/"
    },
    "id": "91gs5jKgoXs8",
    "outputId": "4034d786-9091-4269-8057-1a542134c9ae"
   },
   "outputs": [],
   "source": [
    "nombres = ['Pedro', 'JUAN', 'Juan', 'juan', 'Maria']\n",
    "nombres.sort()\n",
    "nombres"
   ]
  },
  {
   "cell_type": "markdown",
   "metadata": {
    "id": "K3RO3oVUoldd"
   },
   "source": [
    "Puedo invertir el orden de ordenamiento con `reverse=`"
   ]
  },
  {
   "cell_type": "code",
   "execution_count": null,
   "metadata": {
    "colab": {
     "base_uri": "https://localhost:8080/"
    },
    "id": "QqJyKSZNog51",
    "outputId": "4413a828-f635-4cdd-91e1-4c876be11f4c"
   },
   "outputs": [],
   "source": [
    "numeros.sort(reverse=True)\n",
    "numeros"
   ]
  },
  {
   "cell_type": "markdown",
   "metadata": {
    "id": "VBskd1wM6tzj"
   },
   "source": [
    "### Ejercicios"
   ]
  },
  {
   "cell_type": "markdown",
   "metadata": {
    "id": "jPmVSzby7sDG"
   },
   "source": [
    "Dada una lista de números del 1 al 10, realizar lo que se pide.\n",
    "\n",
    "`numeros = [1, 2, 3, 4, 5, 6, 7, 8, 9, 10]`\n",
    "\n",
    "* Agregar el número 11 al final de la lista.\n",
    "* Eliminar el número 3 de la lista.\n",
    "* Agregar el número 5.5 entre el 2 y el 4\n",
    "* Ordenar la lista en orden ascendente e imprimir\n",
    "* Ordenar la lista en orden descendente e imprimir"
   ]
  },
  {
   "cell_type": "code",
   "execution_count": null,
   "metadata": {
    "id": "UjIHvQGR3Q2A"
   },
   "outputs": [],
   "source": [
    "numeros = [1, 2, 3, 4, 5, 6, 7, 8, 9, 10]"
   ]
  },
  {
   "cell_type": "code",
   "execution_count": null,
   "metadata": {
    "colab": {
     "base_uri": "https://localhost:8080/"
    },
    "id": "gKxUjt90DPiQ",
    "outputId": "2078c787-7446-451a-b6a2-064181d338c9"
   },
   "outputs": [],
   "source": [
    "numeros.append(11)\n",
    "numeros"
   ]
  },
  {
   "cell_type": "code",
   "execution_count": null,
   "metadata": {
    "colab": {
     "base_uri": "https://localhost:8080/"
    },
    "id": "O-4i84W_DK3z",
    "outputId": "e38ecd41-e68d-4c0e-feb3-5391ca6a2bd5"
   },
   "outputs": [],
   "source": [
    "numeros.remove(3)\n",
    "numeros"
   ]
  },
  {
   "cell_type": "code",
   "execution_count": null,
   "metadata": {
    "colab": {
     "base_uri": "https://localhost:8080/"
    },
    "id": "_U4XNph88iNU",
    "outputId": "e20ba1d7-13d1-4070-89aa-75369336c801"
   },
   "outputs": [],
   "source": [
    "numeros.insert(2, 5.5)\n",
    "numeros"
   ]
  },
  {
   "cell_type": "code",
   "execution_count": null,
   "metadata": {
    "colab": {
     "base_uri": "https://localhost:8080/"
    },
    "id": "vEASfE4J9V0Q",
    "outputId": "272a9e90-33b3-4edf-c157-8bf258d505f2"
   },
   "outputs": [],
   "source": [
    "numeros.sort()\n",
    "numeros"
   ]
  },
  {
   "cell_type": "code",
   "execution_count": null,
   "metadata": {
    "colab": {
     "base_uri": "https://localhost:8080/"
    },
    "id": "bp-iU-5_8ycN",
    "outputId": "9627f534-8aa6-44cf-9e32-7a56280e1943"
   },
   "outputs": [],
   "source": [
    "numeros.sort(reverse=True)\n",
    "numeros"
   ]
  },
  {
   "cell_type": "markdown",
   "metadata": {
    "id": "OCX5An0YkEA9"
   },
   "source": [
    "## Diccionarios"
   ]
  },
  {
   "cell_type": "code",
   "execution_count": null,
   "metadata": {
    "colab": {
     "base_uri": "https://localhost:8080/"
    },
    "id": "xb_fQcjOlKHB",
    "outputId": "7b44ed28-2bd6-41bc-8859-1b787844bca0"
   },
   "outputs": [],
   "source": [
    "diccionario"
   ]
  },
  {
   "cell_type": "code",
   "execution_count": null,
   "metadata": {
    "colab": {
     "base_uri": "https://localhost:8080/"
    },
    "id": "VRW87CE-cwWZ",
    "outputId": "f4a39615-6a38-4c0c-a613-b2a4b4d05503"
   },
   "outputs": [],
   "source": [
    "diccionario.keys()"
   ]
  },
  {
   "cell_type": "code",
   "execution_count": null,
   "metadata": {
    "colab": {
     "base_uri": "https://localhost:8080/"
    },
    "id": "ogwK-KQYcwWc",
    "outputId": "6d479c46-ab73-4334-d7ca-845f3580271f"
   },
   "outputs": [],
   "source": [
    "diccionario.values()"
   ]
  },
  {
   "cell_type": "code",
   "execution_count": null,
   "metadata": {
    "colab": {
     "base_uri": "https://localhost:8080/"
    },
    "id": "8InIw4GbcwWf",
    "outputId": "b075b3fe-a6a6-4bf2-84bd-6994f34597f3"
   },
   "outputs": [],
   "source": [
    "diccionario.items()"
   ]
  },
  {
   "cell_type": "code",
   "execution_count": null,
   "metadata": {
    "colab": {
     "base_uri": "https://localhost:8080/"
    },
    "id": "3YuWQn5PcwWj",
    "outputId": "7eb284fe-24b8-4316-8070-d1aea54ce165"
   },
   "outputs": [],
   "source": [
    "diccionario[\"llave1\"]"
   ]
  },
  {
   "cell_type": "markdown",
   "metadata": {
    "id": "Z8SnKxcT-9yh"
   },
   "source": [
    "### Ejercicios"
   ]
  },
  {
   "cell_type": "markdown",
   "metadata": {
    "id": "kj-cV1D9_Bls"
   },
   "source": [
    "1. Diccionario personas\n",
    "\n",
    "* Crear un diccionario vacío llamado `personas`.\n",
    "* Usando llaves `persona1`, `persona2`, etc., agregar dos personas al diccionario `personas` con los siguientes atributos: nombre, edad, ciudad.\n",
    "* Agregar una tercera persona al diccionario.\n",
    "* Imprimir la edad de la segunda persona.\n",
    "* Imprimir la ciudad de la primera persona.\n",
    "* Eliminar la tercera persona del diccionario.\n",
    "* Imprimir el número de elementos que hay en el diccionario.\n",
    "* Imprimir las llaves (claves) del diccionario\n",
    "* Imprimir los valores del diccionario"
   ]
  },
  {
   "cell_type": "code",
   "execution_count": null,
   "metadata": {
    "colab": {
     "base_uri": "https://localhost:8080/"
    },
    "id": "-SMnqL-z9YsA",
    "outputId": "653280bb-7999-4cac-c87c-639ac23b9a4f"
   },
   "outputs": [],
   "source": [
    "# Crear un diccionario vacío\n",
    "personas = {}"
   ]
  },
  {
   "cell_type": "code",
   "execution_count": null,
   "metadata": {
    "id": "s9KaIG6g_0EU"
   },
   "outputs": [],
   "source": [
    "personas[\"persona1\"] = {\"nombre\": \"Juan\", \"edad\": 25, \"ciudad\": \"CABA\"}\n",
    "personas[\"persona2\"] = {\"nombre\": \"Ana\", \"edad\": 30.2, \"ciudad\": \"Salta\"}"
   ]
  },
  {
   "cell_type": "code",
   "execution_count": null,
   "metadata": {
    "colab": {
     "base_uri": "https://localhost:8080/"
    },
    "id": "PaAQoED1dBWZ",
    "outputId": "bbd93ec1-ba8c-4d91-d51f-77c2c8ee331c"
   },
   "outputs": [],
   "source": [
    "personas"
   ]
  },
  {
   "cell_type": "code",
   "execution_count": null,
   "metadata": {
    "id": "vxee-HsYFD9M"
   },
   "outputs": [],
   "source": [
    "# Agregar una tercera persona al diccionario.\n",
    "personas[\"persona3\"] = {\"nombre\": \"Pedro\", \"edad\": 40, \"ciudad\": \"Rosario\"}"
   ]
  },
  {
   "cell_type": "code",
   "execution_count": null,
   "metadata": {
    "colab": {
     "base_uri": "https://localhost:8080/"
    },
    "id": "oQJe3YpLdC5J",
    "outputId": "dda92a6a-17c8-4c85-a69a-c0aeaef7ccd0"
   },
   "outputs": [],
   "source": [
    "# Imprimir la edad de la segunda persona.\n",
    "print(\"La edad de la segunda persona es:\", personas[\"persona2\"][\"edad\"])"
   ]
  },
  {
   "cell_type": "code",
   "execution_count": null,
   "metadata": {
    "colab": {
     "base_uri": "https://localhost:8080/"
    },
    "id": "Fi9il7umdkzb",
    "outputId": "9679046f-43cc-47c1-d7cc-eb41bfe8b30b"
   },
   "outputs": [],
   "source": [
    "# Imprimir la ciudad de la primera persona.\n",
    "print(\"La ciudad de la primera persona es:\", personas[\"persona1\"][\"ciudad\"])"
   ]
  },
  {
   "cell_type": "code",
   "execution_count": null,
   "metadata": {
    "colab": {
     "background_save": true
    },
    "id": "GGWZNy_BFhVb"
   },
   "outputs": [],
   "source": [
    "# Eliminar la tercera persona del diccionario.\n",
    "del personas[\"persona3\"]"
   ]
  },
  {
   "cell_type": "code",
   "execution_count": null,
   "metadata": {
    "id": "pnf2KHNGFxqN"
   },
   "outputs": [],
   "source": [
    "# Imprimir el número de elementos que hay en el diccionario.\n",
    "print(\"El número de elementos en el diccionario es:\", len(personas))"
   ]
  },
  {
   "cell_type": "code",
   "execution_count": null,
   "metadata": {
    "id": "aHV_-aazdyRs"
   },
   "outputs": [],
   "source": [
    "# Imprimir las llaves (claves) del diccionario\n",
    "print(\"Las llaves del diccionario son:\", list(personas.keys()))"
   ]
  },
  {
   "cell_type": "code",
   "execution_count": null,
   "metadata": {
    "id": "zF4vE2_QeaaR"
   },
   "outputs": [],
   "source": [
    "# Imprimir los valores del diccionario\n",
    "print(\"Los valores del diccionario son:\", list(personas.values()))"
   ]
  },
  {
   "cell_type": "code",
   "execution_count": null,
   "metadata": {},
   "outputs": [],
   "source": [
    "for persona_key, persona_data in personas.items():\n",
    "    print(f\"{persona_key}:\")\n",
    "    for key, value in persona_data.items():\n",
    "        print(f\"     {key}: {value}\")\n",
    "    print()  # Agrega una línea en blanco entre cada persona"
   ]
  },
  {
   "cell_type": "code",
   "execution_count": null,
   "metadata": {},
   "outputs": [],
   "source": []
  }
 ],
 "metadata": {
  "anaconda-cloud": {},
  "colab": {
   "provenance": []
  },
  "kernelspec": {
   "display_name": "Python 3 (ipykernel)",
   "language": "python",
   "name": "python3"
  },
  "language_info": {
   "codemirror_mode": {
    "name": "ipython",
    "version": 3
   },
   "file_extension": ".py",
   "mimetype": "text/x-python",
   "name": "python",
   "nbconvert_exporter": "python",
   "pygments_lexer": "ipython3",
   "version": "3.9.19"
  }
 },
 "nbformat": 4,
 "nbformat_minor": 4
}
