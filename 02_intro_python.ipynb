{
 "cells": [
  {
   "cell_type": "markdown",
   "metadata": {
    "id": "view-in-github"
   },
   "source": [
    "<a href=\"https://colab.research.google.com/github/Argentan/DMA_LAB2/blob/master/tutoriales/02_intro_python2.ipynb\" target=\"_parent\"><img src=\"https://colab.research.google.com/assets/colab-badge.svg\" alt=\"Open In Colab\"/></a>"
   ]
  },
  {
   "cell_type": "markdown",
   "metadata": {
    "id": "qIIyGxdIDc4h"
   },
   "source": [
    "# Introducción a Python - 2\n",
    "\n",
    "## Contenidos\n",
    "\n",
    "- [Importación de librerías (bibliotecas)](#Importación-de-librerías-(bibliotecas))\n",
    "- [Estructuras de control](#Estructuras-de-control)\n",
    "  - [Comparadores lógicos](#Comparadores-logicos)\n",
    "    - [El operador \"not in\"](#El-operador-not-in)\n",
    "    - [Asignación con operador aritmético](#Asignación-con-operador-aritmético)\n",
    "  - [Condicionales](#Condicionales)\n",
    "- [Función `range`](#Función-range)\n",
    "- [Loops (ciclos)](#Loops-(ciclos))\n",
    "    - [Loops usando for](#Loops-usando-for)\n",
    "    - [Loops usando while](#Loops-usando-while)\n",
    "    - [Loop de múltiples listas usando zip()](#Loop-de-múltiples-listas-usando-zip)\n",
    "- [List Comprehension](#List-Comprehension)\n",
    "    - [Sintaxis](#Sintaxis)\n",
    "    - [List Comprehension vs. For Loops](#List-Comprehension-vs-for-loops)\n",
    "- [Referencia y copia de objetos](#Referencia-y-copia-de-objetos)\n",
    "- [Dictionary Comprehension](#Dictionary-Comprehension)\n",
    "\n"
   ]
  },
  {
   "cell_type": "markdown",
   "metadata": {
    "id": "YkVfvT77robC"
   },
   "source": [
    "# Importación de librerías (bibliotecas)"
   ]
  },
  {
   "cell_type": "markdown",
   "metadata": {
    "id": "pho7VAuLI3_d"
   },
   "source": [
    "Importar una librería entera."
   ]
  },
  {
   "cell_type": "code",
   "execution_count": null,
   "metadata": {
    "id": "mpw2IhwPruyL"
   },
   "outputs": [],
   "source": [
    "import random as rm"
   ]
  },
  {
   "cell_type": "markdown",
   "metadata": {
    "id": "HfzxYBZvsJ7D"
   },
   "source": [
    "Se puede asignar un nombre corto para facilitar la llamada de funciones."
   ]
  },
  {
   "cell_type": "code",
   "execution_count": null,
   "metadata": {
    "id": "gXbMrrVVr4g2"
   },
   "outputs": [],
   "source": [
    "import pandas as pd"
   ]
  },
  {
   "cell_type": "markdown",
   "metadata": {
    "id": "OrtcQ04ZryEn"
   },
   "source": [
    "Importar solo una función de una librería."
   ]
  },
  {
   "cell_type": "code",
   "execution_count": null,
   "metadata": {
    "id": "hxTJMxLLrxd1"
   },
   "outputs": [],
   "source": [
    "from random import sample, shuffle"
   ]
  },
  {
   "cell_type": "markdown",
   "metadata": {
    "id": "-ajBtMAmsQFI"
   },
   "source": [
    "Si no tengo instalada una librería puedo hacerlo de varias maneras. La más simple usando **pip**.\n",
    "\n",
    "El \"**!**\" lo usamos en Jupyter Notebooks para indicarle que es un comando de consola."
   ]
  },
  {
   "cell_type": "code",
   "execution_count": null,
   "metadata": {
    "id": "vdf46sJhsZVn"
   },
   "outputs": [],
   "source": [
    "#!pip install seaborn\n",
    "import seaborn"
   ]
  },
  {
   "cell_type": "markdown",
   "metadata": {
    "id": "I7gQIKXts7ac"
   },
   "source": [
    "Otra alternativa es usar **`apt-get`**, por ejemplo, para esta instalar una librería que nos ayuda a leer archivos 7zip"
   ]
  },
  {
   "cell_type": "code",
   "execution_count": null,
   "metadata": {
    "id": "jx1uHYyws60d"
   },
   "outputs": [],
   "source": [
    "# https://pypi.python.org/pypi/libarchive\n",
    "#!apt-get -qq install -y libarchive-dev && pip install -U libarchive"
   ]
  },
  {
   "cell_type": "markdown",
   "metadata": {
    "id": "IUB_QFchtUG6"
   },
   "source": [
    "También puedo ver la versión de la librería usando **`pip show`**."
   ]
  },
  {
   "cell_type": "code",
   "execution_count": null,
   "metadata": {
    "id": "iJpq94LZtSp7"
   },
   "outputs": [],
   "source": [
    "#!pip show tensorflow"
   ]
  },
  {
   "cell_type": "markdown",
   "metadata": {
    "id": "34XIJdvrtvIZ"
   },
   "source": [
    "También se puede indicar una versión específica de la librería."
   ]
  },
  {
   "cell_type": "code",
   "execution_count": null,
   "metadata": {
    "id": "Tj98BGEDtsi-"
   },
   "outputs": [],
   "source": [
    "#!pip install tensorflow==1.2"
   ]
  },
  {
   "cell_type": "markdown",
   "metadata": {
    "id": "ffISObP9J6Iq"
   },
   "source": [
    "# Estructuras de control"
   ]
  },
  {
   "cell_type": "markdown",
   "metadata": {
    "id": "5Gcv4LytpJa6",
    "tags": []
   },
   "source": [
    "## Comparadores lógicos"
   ]
  },
  {
   "cell_type": "markdown",
   "metadata": {
    "id": "5Gcv4LytpJa6",
    "tags": []
   },
   "source": [
    "| Operador | Acción |\n",
    "| -------- | ------ |\n",
    "| ==       | igual  |\n",
    "| > =       | mayor o igual |\n",
    "| >        | mayor estricto |\n",
    "| < =      | menor o igual |\n",
    "| <     | menor estricto |\n",
    "| ! = | desigual|\n",
    "| or | o |\n",
    "| and | y |"
   ]
  },
  {
   "cell_type": "code",
   "execution_count": null,
   "metadata": {
    "colab": {
     "base_uri": "https://localhost:8080/"
    },
    "executionInfo": {
     "elapsed": 10,
     "status": "ok",
     "timestamp": 1710536071699,
     "user": {
      "displayName": "Pablo Galiana",
      "userId": "09231117108242953150"
     },
     "user_tz": 180
    },
    "id": "vAQhz4JBpJa8",
    "outputId": "e8b58cb6-d8a1-4394-a4bf-d10b8ae48ce5"
   },
   "outputs": [],
   "source": [
    "1 == 1"
   ]
  },
  {
   "cell_type": "code",
   "execution_count": null,
   "metadata": {
    "colab": {
     "base_uri": "https://localhost:8080/"
    },
    "executionInfo": {
     "elapsed": 8,
     "status": "ok",
     "timestamp": 1710536071699,
     "user": {
      "displayName": "Pablo Galiana",
      "userId": "09231117108242953150"
     },
     "user_tz": 180
    },
    "id": "VOliCyFXpJbD",
    "outputId": "cfc31187-2e47-4e3e-ee61-237dd29b3d75"
   },
   "outputs": [],
   "source": [
    "1 == 2"
   ]
  },
  {
   "cell_type": "code",
   "execution_count": null,
   "metadata": {
    "colab": {
     "base_uri": "https://localhost:8080/"
    },
    "executionInfo": {
     "elapsed": 7,
     "status": "ok",
     "timestamp": 1710536071699,
     "user": {
      "displayName": "Pablo Galiana",
      "userId": "09231117108242953150"
     },
     "user_tz": 180
    },
    "id": "Kyntul6YpJbH",
    "outputId": "cb4a1603-d060-4787-effa-c5b84230055c"
   },
   "outputs": [],
   "source": [
    "1 == 1.0"
   ]
  },
  {
   "cell_type": "code",
   "execution_count": null,
   "metadata": {
    "colab": {
     "base_uri": "https://localhost:8080/"
    },
    "executionInfo": {
     "elapsed": 6,
     "status": "ok",
     "timestamp": 1710536071700,
     "user": {
      "displayName": "Pablo Galiana",
      "userId": "09231117108242953150"
     },
     "user_tz": 180
    },
    "id": "qRuWkBNMpJbL",
    "outputId": "4f41c3a6-3116-4c02-e3d9-95bdfc6d0c12"
   },
   "outputs": [],
   "source": [
    "\"hola\" == \"hola\""
   ]
  },
  {
   "cell_type": "code",
   "execution_count": null,
   "metadata": {
    "colab": {
     "base_uri": "https://localhost:8080/"
    },
    "executionInfo": {
     "elapsed": 819,
     "status": "ok",
     "timestamp": 1710536072514,
     "user": {
      "displayName": "Pablo Galiana",
      "userId": "09231117108242953150"
     },
     "user_tz": 180
    },
    "id": "gPRDGwcOpJbP",
    "outputId": "a4670f04-cbc0-4903-e8b3-17192095f6ac"
   },
   "outputs": [],
   "source": [
    "\"hola\" == \"Hola\""
   ]
  },
  {
   "cell_type": "code",
   "execution_count": null,
   "metadata": {
    "colab": {
     "base_uri": "https://localhost:8080/"
    },
    "executionInfo": {
     "elapsed": 35,
     "status": "ok",
     "timestamp": 1710536072514,
     "user": {
      "displayName": "Pablo Galiana",
      "userId": "09231117108242953150"
     },
     "user_tz": 180
    },
    "id": "8zsLgypvpJbT",
    "outputId": "025c0314-53f6-4ec7-8fd3-000967ce77fc"
   },
   "outputs": [],
   "source": [
    "\"hola\" != \"Hola\""
   ]
  },
  {
   "cell_type": "code",
   "execution_count": null,
   "metadata": {
    "colab": {
     "base_uri": "https://localhost:8080/"
    },
    "executionInfo": {
     "elapsed": 36,
     "status": "ok",
     "timestamp": 1710536072515,
     "user": {
      "displayName": "Pablo Galiana",
      "userId": "09231117108242953150"
     },
     "user_tz": 180
    },
    "id": "z78cEc50pJbW",
    "outputId": "5814876a-7c0d-404d-d35f-5a00181d042c"
   },
   "outputs": [],
   "source": [
    "(1 == 1) and (2 == 2)"
   ]
  },
  {
   "cell_type": "code",
   "execution_count": null,
   "metadata": {
    "colab": {
     "base_uri": "https://localhost:8080/"
    },
    "executionInfo": {
     "elapsed": 34,
     "status": "ok",
     "timestamp": 1710536072515,
     "user": {
      "displayName": "Pablo Galiana",
      "userId": "09231117108242953150"
     },
     "user_tz": 180
    },
    "id": "aTCRHJnDpJbd",
    "outputId": "e4d44168-afd4-47d2-8134-e7e855f66206"
   },
   "outputs": [],
   "source": [
    "(1 == 1) and (2 != 2)"
   ]
  },
  {
   "cell_type": "code",
   "execution_count": null,
   "metadata": {
    "colab": {
     "base_uri": "https://localhost:8080/"
    },
    "executionInfo": {
     "elapsed": 33,
     "status": "ok",
     "timestamp": 1710536072515,
     "user": {
      "displayName": "Pablo Galiana",
      "userId": "09231117108242953150"
     },
     "user_tz": 180
    },
    "id": "HTZEJDB9pJbh",
    "outputId": "85b10506-04b7-4da2-82c0-8146adc7f3bc"
   },
   "outputs": [],
   "source": [
    "(1 == 1) or (2 != 2)"
   ]
  },
  {
   "cell_type": "code",
   "execution_count": null,
   "metadata": {
    "colab": {
     "base_uri": "https://localhost:8080/"
    },
    "executionInfo": {
     "elapsed": 32,
     "status": "ok",
     "timestamp": 1710536072515,
     "user": {
      "displayName": "Pablo Galiana",
      "userId": "09231117108242953150"
     },
     "user_tz": 180
    },
    "id": "n7tRy4G9i7tu",
    "outputId": "d3bda02f-6af3-4645-d2f0-802196a203b8"
   },
   "outputs": [],
   "source": [
    "(1 != 1) or (2 != 2)"
   ]
  },
  {
   "cell_type": "code",
   "execution_count": null,
   "metadata": {
    "colab": {
     "base_uri": "https://localhost:8080/"
    },
    "executionInfo": {
     "elapsed": 31,
     "status": "ok",
     "timestamp": 1710536072515,
     "user": {
      "displayName": "Pablo Galiana",
      "userId": "09231117108242953150"
     },
     "user_tz": 180
    },
    "id": "eKQySLbMpJbn",
    "outputId": "229d7ba8-3000-4c11-ec1e-c6438e776a4b"
   },
   "outputs": [],
   "source": [
    "not (     (1 != 1) or (2 != 2)       )"
   ]
  },
  {
   "cell_type": "code",
   "execution_count": null,
   "metadata": {
    "colab": {
     "base_uri": "https://localhost:8080/"
    },
    "executionInfo": {
     "elapsed": 29,
     "status": "ok",
     "timestamp": 1710536072515,
     "user": {
      "displayName": "Pablo Galiana",
      "userId": "09231117108242953150"
     },
     "user_tz": 180
    },
    "id": "rzUaqIqFpJbr",
    "outputId": "0fdc2a80-ab43-4814-be28-d871a0f25a1b"
   },
   "outputs": [],
   "source": [
    "not (1 == 1) or (2 == 2)"
   ]
  },
  {
   "cell_type": "markdown",
   "metadata": {
    "id": "TNPw6SwzkQjw",
    "toc-hr-collapsed": true
   },
   "source": [
    "### Operadores \"in\" y \"not in\""
   ]
  },
  {
   "cell_type": "code",
   "execution_count": null,
   "metadata": {
    "colab": {
     "base_uri": "https://localhost:8080/"
    },
    "executionInfo": {
     "elapsed": 28,
     "status": "ok",
     "timestamp": 1710536072515,
     "user": {
      "displayName": "Pablo Galiana",
      "userId": "09231117108242953150"
     },
     "user_tz": 180
    },
    "id": "bPvwLj0gkY1M",
    "outputId": "879a4964-18e3-4618-c5f5-3ee1306aa56d"
   },
   "outputs": [],
   "source": [
    "'Juan' in ['Pedro', 'Lucia', 'Juan', 'Maria']"
   ]
  },
  {
   "cell_type": "code",
   "execution_count": null,
   "metadata": {
    "colab": {
     "base_uri": "https://localhost:8080/"
    },
    "executionInfo": {
     "elapsed": 27,
     "status": "ok",
     "timestamp": 1710536072515,
     "user": {
      "displayName": "Pablo Galiana",
      "userId": "09231117108242953150"
     },
     "user_tz": 180
    },
    "id": "W5Z6UR6ekew2",
    "outputId": "12c51c24-7dc7-4fdc-9f57-85d13b6b7e1b"
   },
   "outputs": [],
   "source": [
    "'Juan' not in ['Pedro', 'Lucia', 'Juan', 'Maria']"
   ]
  },
  {
   "cell_type": "code",
   "execution_count": null,
   "metadata": {
    "colab": {
     "base_uri": "https://localhost:8080/"
    },
    "executionInfo": {
     "elapsed": 27,
     "status": "ok",
     "timestamp": 1710536072516,
     "user": {
      "displayName": "Pablo Galiana",
      "userId": "09231117108242953150"
     },
     "user_tz": 180
    },
    "id": "Qtojp_Inkgwp",
    "outputId": "ba014454-8e87-4b1d-b002-5aba20f27a33"
   },
   "outputs": [],
   "source": [
    "'Julieta' not in ['Pedro', 'Lucia', 'Juan', 'Maria']"
   ]
  },
  {
   "cell_type": "markdown",
   "metadata": {
    "id": "cL1D1T45kyib"
   },
   "source": [
    "### Asignación con operador aritmético"
   ]
  },
  {
   "cell_type": "markdown",
   "metadata": {
    "id": "cL1D1T45kyib"
   },
   "source": [
    "| Operador | Equivalente |\n",
    "| -------- | ----------- |\n",
    "| `a += 1` | `a = a + 1` |\n",
    "| `a -= 1` | `a = a - 1` |\n",
    "| `a *= 1` | `a = a * 1` |\n",
    "| `a /= 1` | `a = a / 1` |\n",
    "| `a %= 1` | `a = a % 1` |"
   ]
  },
  {
   "cell_type": "code",
   "execution_count": null,
   "metadata": {
    "colab": {
     "base_uri": "https://localhost:8080/",
     "height": 35
    },
    "executionInfo": {
     "elapsed": 25,
     "status": "ok",
     "timestamp": 1710536072516,
     "user": {
      "displayName": "Pablo Galiana",
      "userId": "09231117108242953150"
     },
     "user_tz": 180
    },
    "id": "VuMrXVdLks4n",
    "outputId": "859671ea-7154-4dbb-92fd-69d2b4c62622"
   },
   "outputs": [],
   "source": [
    "a = 'Hello'\n",
    "a += ' world!'\n",
    "a"
   ]
  },
  {
   "cell_type": "code",
   "execution_count": null,
   "metadata": {
    "colab": {
     "base_uri": "https://localhost:8080/"
    },
    "executionInfo": {
     "elapsed": 23,
     "status": "ok",
     "timestamp": 1710536072516,
     "user": {
      "displayName": "Pablo Galiana",
      "userId": "09231117108242953150"
     },
     "user_tz": 180
    },
    "id": "6gsCqDEtmiSS",
    "outputId": "11f45fab-a7a1-4270-9572-be853f4b7845"
   },
   "outputs": [],
   "source": [
    "a = 2\n",
    "print(a)\n",
    "\n",
    "a *= 2\n",
    "print(a)\n",
    "\n",
    "a *= 2\n",
    "print(a)"
   ]
  },
  {
   "cell_type": "markdown",
   "metadata": {
    "id": "82xO1hGUpJbu"
   },
   "source": [
    "## Condicionales"
   ]
  },
  {
   "cell_type": "code",
   "execution_count": null,
   "metadata": {
    "id": "6NKcH11tpJbv",
    "tags": []
   },
   "outputs": [],
   "source": [
    "persona = \"Pablo\"\n",
    "if (persona == \"Juan\"):\n",
    "    print(\"Juan encontrado\")"
   ]
  },
  {
   "cell_type": "code",
   "execution_count": null,
   "metadata": {
    "colab": {
     "base_uri": "https://localhost:8080/"
    },
    "executionInfo": {
     "elapsed": 21,
     "status": "ok",
     "timestamp": 1710536072516,
     "user": {
      "displayName": "Pablo Galiana",
      "userId": "09231117108242953150"
     },
     "user_tz": 180
    },
    "id": "axy543RwpJby",
    "outputId": "b70cd032-5e38-496e-efe1-f85e48fc6fb9",
    "tags": []
   },
   "outputs": [],
   "source": [
    "if (persona == \"Pedro\"):\n",
    "    print(\"Pedro encontrado\")\n",
    "else:\n",
    "    print(\"Pedro no encontrado\")"
   ]
  },
  {
   "cell_type": "code",
   "execution_count": null,
   "metadata": {
    "colab": {
     "base_uri": "https://localhost:8080/"
    },
    "executionInfo": {
     "elapsed": 19,
     "status": "ok",
     "timestamp": 1710536072516,
     "user": {
      "displayName": "Pablo Galiana",
      "userId": "09231117108242953150"
     },
     "user_tz": 180
    },
    "id": "yzU1Iu5ipJb1",
    "outputId": "dced6040-2720-414a-98b5-58306cb6f1d0",
    "tags": []
   },
   "outputs": [],
   "source": [
    "if (persona == \"Pedro\"):\n",
    "    print(\"encontrado Pedro\")\n",
    "elif (persona == \"Juan\"):\n",
    "    print(\"encontrado Juan\")\n",
    "elif (persona == \"Pablo\"):\n",
    "    print(\"encontrado Pablo\")\n",
    "else:\n",
    "    print(\"ninguno encontrado\")"
   ]
  },
  {
   "cell_type": "markdown",
   "metadata": {
    "id": "wqUEP8Ae2OQZ"
   },
   "source": [
    "## Función `range`"
   ]
  },
  {
   "cell_type": "markdown",
   "metadata": {
    "id": "wqUEP8Ae2OQZ"
   },
   "source": [
    "`range(stop) -> range object`\n",
    "\n",
    "`range(start, stop[, step]) -> range object`\n",
    "\n",
    "Devuelve un objeto que produce una secuencia de enteros desde start(inclusive)\n",
    "hasta stop (exclusivo) de acuerdo a step.\n",
    "\n",
    "`range(i, j) produce i, i+1, i+2, ..., j-1`\n",
    "\n",
    "start por defecto es 0 y se omite stop!\n",
    "\n",
    "`range(4) produce 0, 1, 2, 3`\n",
    "\n",
    "Cuando se especifica `step`, especifica el incremento (o decremento)."
   ]
  },
  {
   "cell_type": "code",
   "execution_count": null,
   "metadata": {
    "colab": {
     "base_uri": "https://localhost:8080/"
    },
    "executionInfo": {
     "elapsed": 18,
     "status": "ok",
     "timestamp": 1710536072516,
     "user": {
      "displayName": "Pablo Galiana",
      "userId": "09231117108242953150"
     },
     "user_tz": 180
    },
    "id": "OQMzhgRj2WIm",
    "outputId": "47de414f-f888-45c9-c11c-ade39f28a2de"
   },
   "outputs": [],
   "source": [
    "rango = range(5)    # stop=5\n",
    "type(rango)"
   ]
  },
  {
   "cell_type": "code",
   "execution_count": null,
   "metadata": {
    "colab": {
     "base_uri": "https://localhost:8080/"
    },
    "executionInfo": {
     "elapsed": 16,
     "status": "ok",
     "timestamp": 1710536072516,
     "user": {
      "displayName": "Pablo Galiana",
      "userId": "09231117108242953150"
     },
     "user_tz": 180
    },
    "id": "t4kMy4pGLfSQ",
    "outputId": "0be4e005-0738-451f-d21a-d65ea3456ed7"
   },
   "outputs": [],
   "source": [
    "rango"
   ]
  },
  {
   "cell_type": "code",
   "execution_count": null,
   "metadata": {
    "colab": {
     "base_uri": "https://localhost:8080/"
    },
    "executionInfo": {
     "elapsed": 15,
     "status": "ok",
     "timestamp": 1710536072516,
     "user": {
      "displayName": "Pablo Galiana",
      "userId": "09231117108242953150"
     },
     "user_tz": 180
    },
    "id": "pIRqM7mX2Z9n",
    "outputId": "01a6105b-129d-4aff-81ff-0e8364c998f3"
   },
   "outputs": [],
   "source": [
    "range(0, 5)      # start = 0 ,  stop = 5"
   ]
  },
  {
   "cell_type": "code",
   "execution_count": null,
   "metadata": {
    "colab": {
     "base_uri": "https://localhost:8080/"
    },
    "executionInfo": {
     "elapsed": 14,
     "status": "ok",
     "timestamp": 1710536072517,
     "user": {
      "displayName": "Pablo Galiana",
      "userId": "09231117108242953150"
     },
     "user_tz": 180
    },
    "id": "rIlt_fkv3aZN",
    "outputId": "1c678ebd-a345-4a11-886a-68b5439cf190"
   },
   "outputs": [],
   "source": [
    "# Crear una lista de números 1 al 10 EN SALTOS DE A DOS\n",
    "lista = list(range(1, 11, 2))\n",
    "lista"
   ]
  },
  {
   "cell_type": "markdown",
   "metadata": {
    "id": "DbCgt-XKpJb4"
   },
   "source": [
    "## Loops (ciclos)"
   ]
  },
  {
   "cell_type": "markdown",
   "metadata": {
    "id": "2xD8Q7YOQFZi",
    "tags": []
   },
   "source": [
    "### Loops usando `for`"
   ]
  },
  {
   "cell_type": "code",
   "execution_count": null,
   "metadata": {
    "colab": {
     "base_uri": "https://localhost:8080/"
    },
    "executionInfo": {
     "elapsed": 13,
     "status": "ok",
     "timestamp": 1710536072517,
     "user": {
      "displayName": "Pablo Galiana",
      "userId": "09231117108242953150"
     },
     "user_tz": 180
    },
    "id": "BSXUM02KpJb5",
    "outputId": "08e7bb19-fd27-49d9-e36a-199c7cfa1888",
    "tags": []
   },
   "outputs": [],
   "source": [
    "for a in [1, 2, 3]:\n",
    "  print(a)"
   ]
  },
  {
   "cell_type": "code",
   "execution_count": null,
   "metadata": {
    "colab": {
     "base_uri": "https://localhost:8080/"
    },
    "executionInfo": {
     "elapsed": 12,
     "status": "ok",
     "timestamp": 1710536072517,
     "user": {
      "displayName": "Pablo Galiana",
      "userId": "09231117108242953150"
     },
     "user_tz": 180
    },
    "id": "LKZGumv6pJb-",
    "outputId": "27dab282-ee29-4ab7-a28a-d0ba0e81b53d",
    "tags": []
   },
   "outputs": [],
   "source": [
    "lista = [1, 2, 3]\n",
    "\n",
    "for a in lista:\n",
    "    print(a)"
   ]
  },
  {
   "cell_type": "code",
   "execution_count": null,
   "metadata": {
    "colab": {
     "base_uri": "https://localhost:8080/"
    },
    "executionInfo": {
     "elapsed": 11,
     "status": "ok",
     "timestamp": 1710536072517,
     "user": {
      "displayName": "Pablo Galiana",
      "userId": "09231117108242953150"
     },
     "user_tz": 180
    },
    "id": "mODIDXvlpJcB",
    "outputId": "8710d544-72b7-4c22-d232-14860fcaea83",
    "tags": []
   },
   "outputs": [],
   "source": [
    "diccionario = {\"k1\": 1, \"k2\": 2, \"k3\": 3}\n",
    "\n",
    "for a in diccionario:\n",
    "    print(a)"
   ]
  },
  {
   "cell_type": "code",
   "execution_count": null,
   "metadata": {
    "colab": {
     "base_uri": "https://localhost:8080/"
    },
    "executionInfo": {
     "elapsed": 10,
     "status": "ok",
     "timestamp": 1710536072517,
     "user": {
      "displayName": "Pablo Galiana",
      "userId": "09231117108242953150"
     },
     "user_tz": 180
    },
    "id": "0t1F7Tmho6s3",
    "outputId": "262662ef-6aac-4512-ac0f-ac57c20811ef"
   },
   "outputs": [],
   "source": [
    "for a in diccionario.keys():\n",
    "    print(a)"
   ]
  },
  {
   "cell_type": "code",
   "execution_count": null,
   "metadata": {
    "colab": {
     "base_uri": "https://localhost:8080/"
    },
    "executionInfo": {
     "elapsed": 765,
     "status": "ok",
     "timestamp": 1710536073274,
     "user": {
      "displayName": "Pablo Galiana",
      "userId": "09231117108242953150"
     },
     "user_tz": 180
    },
    "id": "uCzPgxAuortK",
    "outputId": "d8a258d8-f599-4a3e-976f-7269d127555b"
   },
   "outputs": [],
   "source": [
    "for a in diccionario.values():\n",
    "    print(a)"
   ]
  },
  {
   "cell_type": "code",
   "execution_count": null,
   "metadata": {
    "colab": {
     "base_uri": "https://localhost:8080/"
    },
    "executionInfo": {
     "elapsed": 12,
     "status": "ok",
     "timestamp": 1710536073274,
     "user": {
      "displayName": "Pablo Galiana",
      "userId": "09231117108242953150"
     },
     "user_tz": 180
    },
    "id": "1VUE26c1pJcE",
    "outputId": "e362b4f7-7d23-4760-e99b-e5857f8253cd",
    "tags": []
   },
   "outputs": [],
   "source": [
    "diccionario = {\"k1\": 1, \"k2\": 2, \"k3\": 3}\n",
    "for a in diccionario:\n",
    "    print(a, '=', diccionario[a])"
   ]
  },
  {
   "cell_type": "code",
   "execution_count": null,
   "metadata": {
    "colab": {
     "base_uri": "https://localhost:8080/"
    },
    "executionInfo": {
     "elapsed": 11,
     "status": "ok",
     "timestamp": 1710536073275,
     "user": {
      "displayName": "Pablo Galiana",
      "userId": "09231117108242953150"
     },
     "user_tz": 180
    },
    "id": "EK0A_9jzpJcL",
    "outputId": "8d22b382-c816-4469-be94-a00f5b56721e"
   },
   "outputs": [],
   "source": [
    "diccionario.items()"
   ]
  },
  {
   "cell_type": "code",
   "execution_count": null,
   "metadata": {
    "colab": {
     "base_uri": "https://localhost:8080/"
    },
    "executionInfo": {
     "elapsed": 10,
     "status": "ok",
     "timestamp": 1710536073275,
     "user": {
      "displayName": "Pablo Galiana",
      "userId": "09231117108242953150"
     },
     "user_tz": 180
    },
    "id": "L7Jmh98OpJcH",
    "outputId": "b5a4f4db-c967-464c-efe1-64540b936396",
    "tags": []
   },
   "outputs": [],
   "source": [
    "diccionario = {\"k1\": 1, \"k2\": 2, \"k3\": 3}\n",
    "\n",
    "for k, v in diccionario.items():\n",
    "    print (f\"Esto es una cadena y el valor de k es igual a {k}, y el valor de v es igual a {v}\")"
   ]
  },
  {
   "cell_type": "code",
   "execution_count": null,
   "metadata": {
    "colab": {
     "base_uri": "https://localhost:8080/"
    },
    "executionInfo": {
     "elapsed": 9,
     "status": "ok",
     "timestamp": 1710536073275,
     "user": {
      "displayName": "Pablo Galiana",
      "userId": "09231117108242953150"
     },
     "user_tz": 180
    },
    "id": "sFPIuNBjpJcO",
    "outputId": "652b80da-af4b-43cc-f60d-0bea3401abce"
   },
   "outputs": [],
   "source": [
    "v1, v2 = 1, 2\n",
    "print(v1)\n",
    "print(v2)"
   ]
  },
  {
   "cell_type": "code",
   "execution_count": null,
   "metadata": {
    "colab": {
     "base_uri": "https://localhost:8080/"
    },
    "executionInfo": {
     "elapsed": 8,
     "status": "ok",
     "timestamp": 1710536073275,
     "user": {
      "displayName": "Pablo Galiana",
      "userId": "09231117108242953150"
     },
     "user_tz": 180
    },
    "id": "0xacMxg4a3Fn",
    "outputId": "10b1d98c-9510-498f-8f5f-7d2ea725f4b2"
   },
   "outputs": [],
   "source": [
    "len(lista)"
   ]
  },
  {
   "cell_type": "code",
   "execution_count": null,
   "metadata": {
    "colab": {
     "base_uri": "https://localhost:8080/"
    },
    "executionInfo": {
     "elapsed": 7,
     "status": "ok",
     "timestamp": 1710536073275,
     "user": {
      "displayName": "Pablo Galiana",
      "userId": "09231117108242953150"
     },
     "user_tz": 180
    },
    "id": "kw2C5fW9qzLs",
    "outputId": "38f3abbf-92c1-4ae5-c4cf-99bbdb09c1c1"
   },
   "outputs": [],
   "source": [
    "range(len(lista))"
   ]
  },
  {
   "cell_type": "code",
   "execution_count": null,
   "metadata": {
    "colab": {
     "base_uri": "https://localhost:8080/"
    },
    "executionInfo": {
     "elapsed": 7,
     "status": "ok",
     "timestamp": 1710536073275,
     "user": {
      "displayName": "Pablo Galiana",
      "userId": "09231117108242953150"
     },
     "user_tz": 180
    },
    "id": "LK6yuZkSpJcS",
    "outputId": "e233f1cc-fd71-4f6a-aae7-dcf661dc9b20",
    "tags": []
   },
   "outputs": [],
   "source": [
    "lista = [\"a\", \"b\", \"c\"]\n",
    "\n",
    "for i in range(len(lista)):\n",
    "    print(f\"El indice {i} tiene un valor {lista[i]}\")"
   ]
  },
  {
   "cell_type": "code",
   "execution_count": null,
   "metadata": {
    "colab": {
     "base_uri": "https://localhost:8080/"
    },
    "executionInfo": {
     "elapsed": 6,
     "status": "ok",
     "timestamp": 1710536073275,
     "user": {
      "displayName": "Pablo Galiana",
      "userId": "09231117108242953150"
     },
     "user_tz": 180
    },
    "id": "MQDWRLt7cVA5",
    "outputId": "b971ec65-3d78-420e-8a9c-6114dfbab021"
   },
   "outputs": [],
   "source": [
    "lista"
   ]
  },
  {
   "cell_type": "code",
   "execution_count": null,
   "metadata": {
    "colab": {
     "base_uri": "https://localhost:8080/"
    },
    "executionInfo": {
     "elapsed": 5,
     "status": "ok",
     "timestamp": 1710536073275,
     "user": {
      "displayName": "Pablo Galiana",
      "userId": "09231117108242953150"
     },
     "user_tz": 180
    },
    "id": "ay_M9kW5pJcV",
    "outputId": "a7ef18b5-e753-414d-e072-f87cfa969e09",
    "tags": []
   },
   "outputs": [],
   "source": [
    "for indice, elemento in enumerate(lista):\n",
    "    print(f\"el indice {indice} tiene un valor {elemento}\")"
   ]
  },
  {
   "cell_type": "markdown",
   "metadata": {
    "id": "5VQeBfG8t-Mc"
   },
   "source": [
    "### Loops usando `while`"
   ]
  },
  {
   "cell_type": "code",
   "execution_count": null,
   "metadata": {
    "id": "EC9ZihppQloi"
   },
   "outputs": [],
   "source": [
    "from random import random"
   ]
  },
  {
   "cell_type": "code",
   "execution_count": null,
   "metadata": {
    "colab": {
     "base_uri": "https://localhost:8080/"
    },
    "executionInfo": {
     "elapsed": 4,
     "status": "ok",
     "timestamp": 1710536567454,
     "user": {
      "displayName": "Pablo Galiana",
      "userId": "09231117108242953150"
     },
     "user_tz": 180
    },
    "id": "eu8BPp7qpJcY",
    "outputId": "ee6021b3-e6e1-4019-9e18-f58d7db78ea1",
    "tags": []
   },
   "outputs": [],
   "source": [
    "cent = 0\n",
    "print(cent)"
   ]
  },
  {
   "cell_type": "code",
   "execution_count": null,
   "metadata": {
    "colab": {
     "base_uri": "https://localhost:8080/"
    },
    "executionInfo": {
     "elapsed": 3,
     "status": "ok",
     "timestamp": 1710536569178,
     "user": {
      "displayName": "Pablo Galiana",
      "userId": "09231117108242953150"
     },
     "user_tz": 180
    },
    "id": "BB3MvOtNPXmE",
    "outputId": "e8f0e44b-eab3-4522-9058-e9337e30cf26"
   },
   "outputs": [],
   "source": [
    "while cent < 0.7:\n",
    "    cent = random()\n",
    "    print(\"nuevo cent:\", cent)"
   ]
  },
  {
   "cell_type": "markdown",
   "metadata": {
    "id": "Uvgbm2L8jfH6"
   },
   "source": [
    "### Loop de múltiples listas usando `zip()`\n"
   ]
  },
  {
   "cell_type": "code",
   "execution_count": null,
   "metadata": {
    "colab": {
     "base_uri": "https://localhost:8080/"
    },
    "executionInfo": {
     "elapsed": 250,
     "status": "ok",
     "timestamp": 1710374376246,
     "user": {
      "displayName": "Pablo Galiana",
      "userId": "09231117108242953150"
     },
     "user_tz": 180
    },
    "id": "oWZnX8DsjoOn",
    "outputId": "89220493-f605-4bf2-93aa-af0ca1efed8d"
   },
   "outputs": [],
   "source": [
    "names = ['Pedro', 'Lucia', 'Juan', 'María', 'José']\n",
    "ages = [8, 9, 3, 5, 6]\n",
    "\n",
    "for n, a in zip(names, ages):\n",
    "  print(f'La edad de {n} es {a}')"
   ]
  },
  {
   "cell_type": "code",
   "execution_count": null,
   "metadata": {
    "colab": {
     "base_uri": "https://localhost:8080/"
    },
    "executionInfo": {
     "elapsed": 271,
     "status": "ok",
     "timestamp": 1710536823138,
     "user": {
      "displayName": "Pablo Galiana",
      "userId": "09231117108242953150"
     },
     "user_tz": 180
    },
    "id": "7giRGDME1Ifr",
    "outputId": "b38818d4-459d-46fe-8f4c-7281821909ef"
   },
   "outputs": [],
   "source": [
    "list(zip('abcdefghijk', range(11), range(11)))"
   ]
  },
  {
   "cell_type": "markdown",
   "metadata": {
    "id": "b-xOwr7nHb0c"
   },
   "source": [
    "La función `zip()` en Python toma como entrada una o más secuencias (por ejemplo, listas o tuplas) y devuelve una secuencia de tuplas donde cada tupla contiene un elemento de cada una de las secuencias originales.\n",
    "\n",
    "En el ejemplo `list(zip('abcdefg', range(10), range(10)))`, se están usando tres secuencias como argumentos de zip(). La primera secuencia es la cadena de caracteres 'abcdefg', la segunda y tercera secuencias son dos rangos (range) de números enteros que van del 0 al 9.\n",
    "\n",
    "La función `zip()` crea una secuencia de tuplas que combina elementos de las tres secuencias de entrada.\n",
    "\n",
    "La función `list()` convierte esta secuencia de tuplas en una lista de tuplas."
   ]
  },
  {
   "cell_type": "markdown",
   "metadata": {
    "id": "QV2CUu59naIr"
   },
   "source": [
    "## List Comprehension\n",
    "\n",
    "Una lista por comprensión es una construcción sintáctica disponible en algunos lenguajes de programación para crear una lista basada en listas existentes. Sigue la forma de la notación matemática de creación de conjuntos (comprensión de conjuntos), por ejemplo:\n",
    "\n",
    "$ S = \\{2 x | x \\in \\mathbb{N}, x^2 > 3 \\} $\n",
    "\n",
    "En teoría de conjuntos, la notación anterior se lee como \"$S$ es el conjunto de todos los números $2x$, tal que $x$ es un número natural y $x^2$ es mayor que 3\"."
   ]
  },
  {
   "cell_type": "markdown",
   "metadata": {
    "id": "6y-1CgcKqmzT"
   },
   "source": [
    "### Sintaxis\n",
    "\n",
    "newlist = [\\<expression\\> for \\<item\\> in \\<iterable\\> if \\<condition\\> == True]"
   ]
  },
  {
   "cell_type": "code",
   "execution_count": null,
   "metadata": {
    "colab": {
     "base_uri": "https://localhost:8080/"
    },
    "executionInfo": {
     "elapsed": 302,
     "status": "ok",
     "timestamp": 1710536953546,
     "user": {
      "displayName": "Pablo Galiana",
      "userId": "09231117108242953150"
     },
     "user_tz": 180
    },
    "id": "3U5tO_ezqe_9",
    "outputId": "e3e2df45-83d9-411d-c6dc-4ef02e4a2b88"
   },
   "outputs": [],
   "source": [
    "fruits = [\"apple\", \"banana\", \"cherry\", \"kiwi\", \"mango\"]\n",
    "fruits"
   ]
  },
  {
   "cell_type": "code",
   "execution_count": null,
   "metadata": {
    "colab": {
     "base_uri": "https://localhost:8080/"
    },
    "executionInfo": {
     "elapsed": 290,
     "status": "ok",
     "timestamp": 1710537011168,
     "user": {
      "displayName": "Pablo Galiana",
      "userId": "09231117108242953150"
     },
     "user_tz": 180
    },
    "id": "fvhlHl-JgJYE",
    "outputId": "c27a177f-a629-4105-c607-e0f1fb2c4499"
   },
   "outputs": [],
   "source": [
    "newlist = [f for f in fruits if \"a\" in f]\n",
    "\n",
    "print(newlist)"
   ]
  },
  {
   "cell_type": "markdown",
   "metadata": {
    "id": "6q6kBxHlnaIr"
   },
   "source": [
    "Ejemplos en Python.\n",
    "\n",
    "S = {x² : x in {0 ... 9}}"
   ]
  },
  {
   "cell_type": "code",
   "execution_count": null,
   "metadata": {
    "colab": {
     "base_uri": "https://localhost:8080/"
    },
    "executionInfo": {
     "elapsed": 275,
     "status": "ok",
     "timestamp": 1710537120068,
     "user": {
      "displayName": "Pablo Galiana",
      "userId": "09231117108242953150"
     },
     "user_tz": 180
    },
    "id": "Dg3ulmiYnaIs",
    "outputId": "f678d063-2d0b-4c78-a0e6-f5a5b96da7bb",
    "tags": []
   },
   "outputs": [],
   "source": [
    "S = [x**2 for x in range(10)]\n",
    "S"
   ]
  },
  {
   "cell_type": "markdown",
   "metadata": {
    "id": "H9EopRfB1uSZ"
   },
   "source": [
    "V = (1, 2, 4, 8, ..., 2¹²)"
   ]
  },
  {
   "cell_type": "code",
   "execution_count": null,
   "metadata": {
    "colab": {
     "base_uri": "https://localhost:8080/"
    },
    "executionInfo": {
     "elapsed": 289,
     "status": "ok",
     "timestamp": 1710537187642,
     "user": {
      "displayName": "Pablo Galiana",
      "userId": "09231117108242953150"
     },
     "user_tz": 180
    },
    "id": "3huFWNELnaIs",
    "outputId": "b9002cd8-f6cc-4b8e-e9cd-a67ae1d02a77"
   },
   "outputs": [],
   "source": [
    "V = [2**i for i in range(13)]\n",
    "V"
   ]
  },
  {
   "cell_type": "markdown",
   "metadata": {
    "id": "C9Horlqa1wxE"
   },
   "source": [
    "M = {x | x in S and x even}"
   ]
  },
  {
   "cell_type": "code",
   "execution_count": null,
   "metadata": {
    "colab": {
     "base_uri": "https://localhost:8080/"
    },
    "executionInfo": {
     "elapsed": 270,
     "status": "ok",
     "timestamp": 1710537252237,
     "user": {
      "displayName": "Pablo Galiana",
      "userId": "09231117108242953150"
     },
     "user_tz": 180
    },
    "id": "_THTxvp1naIs",
    "outputId": "09a4c9a7-c77c-4e37-cab1-0a3190951e9b"
   },
   "outputs": [],
   "source": [
    "M = [x for x in S if (x%2==0)]\n",
    "M"
   ]
  },
  {
   "cell_type": "code",
   "execution_count": null,
   "metadata": {
    "colab": {
     "base_uri": "https://localhost:8080/"
    },
    "executionInfo": {
     "elapsed": 285,
     "status": "ok",
     "timestamp": 1710537303140,
     "user": {
      "displayName": "Pablo Galiana",
      "userId": "09231117108242953150"
     },
     "user_tz": 180
    },
    "id": "C9HHPjf9ihI3",
    "outputId": "1f99b89f-d9b9-4cc3-c0ae-7e80070d3cc8"
   },
   "outputs": [],
   "source": [
    "# generado por ChatGPT\n",
    "squares = [i**2 for i in range(10)]\n",
    "even_squares = [x for x in squares if x % 2 == 0]\n",
    "print(even_squares)"
   ]
  },
  {
   "cell_type": "markdown",
   "metadata": {
    "id": "eMg9uTvF102K"
   },
   "source": [
    "Dos tipos de List Comprehension (regular y paralela)"
   ]
  },
  {
   "cell_type": "code",
   "execution_count": null,
   "metadata": {
    "colab": {
     "base_uri": "https://localhost:8080/"
    },
    "executionInfo": {
     "elapsed": 288,
     "status": "ok",
     "timestamp": 1710537399495,
     "user": {
      "displayName": "Pablo Galiana",
      "userId": "09231117108242953150"
     },
     "user_tz": 180
    },
    "id": "cvdtJjAenaIs",
    "outputId": "1b1227a5-97aa-440e-c903-bdcf60c61edc"
   },
   "outputs": [],
   "source": [
    "# regular list comprehension\n",
    "a = [(x, y) for x in range(1, 8) for y in range(3, 6)]\n",
    "a"
   ]
  },
  {
   "cell_type": "code",
   "execution_count": null,
   "metadata": {
    "colab": {
     "base_uri": "https://localhost:8080/"
    },
    "executionInfo": {
     "elapsed": 284,
     "status": "ok",
     "timestamp": 1710537479678,
     "user": {
      "displayName": "Pablo Galiana",
      "userId": "09231117108242953150"
     },
     "user_tz": 180
    },
    "id": "JZWPA8oNnaIs",
    "outputId": "e53afdc6-cae4-4a34-95c0-9e5366a10993"
   },
   "outputs": [],
   "source": [
    "# parallel/zipped list comprehension\n",
    "b = [x for x in zip(range(1, 7), range(3, 25))]\n",
    "b"
   ]
  },
  {
   "cell_type": "markdown",
   "metadata": {
    "id": "qMjTuQxspJcd"
   },
   "source": [
    "### List Comprehension vs. For Loops"
   ]
  },
  {
   "cell_type": "code",
   "execution_count": null,
   "metadata": {
    "colab": {
     "base_uri": "https://localhost:8080/"
    },
    "executionInfo": {
     "elapsed": 2556,
     "status": "ok",
     "timestamp": 1710537506461,
     "user": {
      "displayName": "Pablo Galiana",
      "userId": "09231117108242953150"
     },
     "user_tz": 180
    },
    "id": "06gFgkR6pJcd",
    "outputId": "05742b21-df99-4863-ef59-6ed362bcf216",
    "tags": []
   },
   "outputs": [],
   "source": [
    "%%timeit\n",
    "lista1 = []\n",
    "\n",
    "for a in range(10000):\n",
    "    b = a / 2 + 10\n",
    "    lista1.append(b)"
   ]
  },
  {
   "cell_type": "code",
   "execution_count": null,
   "metadata": {
    "colab": {
     "base_uri": "https://localhost:8080/"
    },
    "executionInfo": {
     "elapsed": 11039,
     "status": "ok",
     "timestamp": 1710537579881,
     "user": {
      "displayName": "Pablo Galiana",
      "userId": "09231117108242953150"
     },
     "user_tz": 180
    },
    "id": "4n0Nls8GpJcg",
    "outputId": "6280d9ac-3900-4b3b-ac39-7c1df2e756ea",
    "tags": []
   },
   "outputs": [],
   "source": [
    "%%timeit\n",
    "lista2 = [a / 2 + 10 for a in range(10000)]"
   ]
  },
  {
   "cell_type": "markdown",
   "metadata": {
    "id": "PJChvhCrR4rX"
   },
   "source": [
    "## Referencia y copia de objetos"
   ]
  },
  {
   "cell_type": "code",
   "execution_count": null,
   "metadata": {
    "id": "rhY65hfcpJcj"
   },
   "outputs": [],
   "source": [
    "# Creación de lista y llenado usando append\n",
    "lista1 = []\n",
    "for a in range(10):\n",
    "    b = a / 2 + 10\n",
    "    lista1.append(b)"
   ]
  },
  {
   "cell_type": "code",
   "execution_count": null,
   "metadata": {
    "id": "q_MUUmYNReHE"
   },
   "outputs": [],
   "source": [
    "# Creación de lista y llenado usando \"list conprehension\"\n",
    "lista2 = [a / 2 + 10 for a in range(10)]"
   ]
  },
  {
   "cell_type": "code",
   "execution_count": null,
   "metadata": {
    "colab": {
     "base_uri": "https://localhost:8080/"
    },
    "executionInfo": {
     "elapsed": 268,
     "status": "ok",
     "timestamp": 1710537657667,
     "user": {
      "displayName": "Pablo Galiana",
      "userId": "09231117108242953150"
     },
     "user_tz": 180
    },
    "id": "xUoa1Zw1Rj90",
    "outputId": "c13c90ed-48a5-4b00-901f-f469070a4517"
   },
   "outputs": [],
   "source": [
    "print(lista1)\n",
    "print(lista2)"
   ]
  },
  {
   "cell_type": "code",
   "execution_count": null,
   "metadata": {
    "colab": {
     "base_uri": "https://localhost:8080/"
    },
    "executionInfo": {
     "elapsed": 294,
     "status": "ok",
     "timestamp": 1710537668369,
     "user": {
      "displayName": "Pablo Galiana",
      "userId": "09231117108242953150"
     },
     "user_tz": 180
    },
    "id": "H4RwHTuapJcm",
    "outputId": "ac3095de-3f04-488b-c9cf-18942d807bc7",
    "tags": []
   },
   "outputs": [],
   "source": [
    "print(lista1 is lista2)\n",
    "print(lista1 == lista2)\n",
    "1 == 2"
   ]
  },
  {
   "cell_type": "code",
   "execution_count": null,
   "metadata": {
    "colab": {
     "base_uri": "https://localhost:8080/"
    },
    "executionInfo": {
     "elapsed": 304,
     "status": "ok",
     "timestamp": 1710537756355,
     "user": {
      "displayName": "Pablo Galiana",
      "userId": "09231117108242953150"
     },
     "user_tz": 180
    },
    "id": "iKXDS36VWgtT",
    "outputId": "d71ebcab-d8d9-4b6d-ced7-7ab39404e26b"
   },
   "outputs": [],
   "source": [
    "lista2"
   ]
  },
  {
   "cell_type": "code",
   "execution_count": null,
   "metadata": {
    "id": "1li6uhggWido"
   },
   "outputs": [],
   "source": [
    "#lista3"
   ]
  },
  {
   "cell_type": "code",
   "execution_count": null,
   "metadata": {
    "colab": {
     "base_uri": "https://localhost:8080/"
    },
    "executionInfo": {
     "elapsed": 302,
     "status": "ok",
     "timestamp": 1710537774834,
     "user": {
      "displayName": "Pablo Galiana",
      "userId": "09231117108242953150"
     },
     "user_tz": 180
    },
    "id": "kgZsiqpipJco",
    "outputId": "3a09abad-c272-442d-cb17-04f13e0d3047"
   },
   "outputs": [],
   "source": [
    "lista3 = lista2\n",
    "lista3 is lista2"
   ]
  },
  {
   "cell_type": "markdown",
   "metadata": {
    "id": "3hpIu8EuSBnT"
   },
   "source": [
    "Qué sucede si modifico un elemento de la lista2 y veo la lista3 ?"
   ]
  },
  {
   "cell_type": "code",
   "execution_count": null,
   "metadata": {
    "colab": {
     "base_uri": "https://localhost:8080/"
    },
    "executionInfo": {
     "elapsed": 314,
     "status": "ok",
     "timestamp": 1710537856387,
     "user": {
      "displayName": "Pablo Galiana",
      "userId": "09231117108242953150"
     },
     "user_tz": 180
    },
    "id": "Cve_LeoIpJcr",
    "outputId": "acdd4170-3ca0-4d22-ceb8-49b52db8058c"
   },
   "outputs": [],
   "source": [
    "lista2[0] = \"nuevo_elemento\"\n",
    "\n",
    "print(lista2)\n",
    "print(lista3)"
   ]
  },
  {
   "cell_type": "code",
   "execution_count": null,
   "metadata": {
    "id": "aEfhhOLspJcx"
   },
   "outputs": [],
   "source": [
    "lista4 = lista1.copy()\n"
   ]
  },
  {
   "cell_type": "code",
   "execution_count": null,
   "metadata": {
    "colab": {
     "base_uri": "https://localhost:8080/"
    },
    "executionInfo": {
     "elapsed": 3,
     "status": "ok",
     "timestamp": 1710537937436,
     "user": {
      "displayName": "Pablo Galiana",
      "userId": "09231117108242953150"
     },
     "user_tz": 180
    },
    "id": "ZnEcvspNlz-8",
    "outputId": "081d3c6f-a054-49aa-9abb-3625fddbc9f0"
   },
   "outputs": [],
   "source": [
    "lista4 is lista1"
   ]
  },
  {
   "cell_type": "code",
   "execution_count": null,
   "metadata": {
    "colab": {
     "base_uri": "https://localhost:8080/"
    },
    "executionInfo": {
     "elapsed": 326,
     "status": "ok",
     "timestamp": 1710537949985,
     "user": {
      "displayName": "Pablo Galiana",
      "userId": "09231117108242953150"
     },
     "user_tz": 180
    },
    "id": "jEYkRwJImZo-",
    "outputId": "9395b128-6afe-4a3d-d5a6-cebf02e5fabe"
   },
   "outputs": [],
   "source": [
    "lista1[0] = \"nuevo2\"\n",
    "lista4"
   ]
  },
  {
   "cell_type": "code",
   "execution_count": null,
   "metadata": {
    "colab": {
     "base_uri": "https://localhost:8080/"
    },
    "executionInfo": {
     "elapsed": 304,
     "status": "ok",
     "timestamp": 1710537966260,
     "user": {
      "displayName": "Pablo Galiana",
      "userId": "09231117108242953150"
     },
     "user_tz": 180
    },
    "id": "NEIbKdhmmcIo",
    "outputId": "3450a48b-974e-4eb8-f209-cef9fcadeaae"
   },
   "outputs": [],
   "source": [
    "lista1"
   ]
  },
  {
   "cell_type": "code",
   "execution_count": null,
   "metadata": {
    "id": "-9u5CNWLmUC_"
   },
   "outputs": [],
   "source": [
    "lista3 = lista2"
   ]
  },
  {
   "cell_type": "code",
   "execution_count": null,
   "metadata": {
    "id": "ibIy-AEPm__-"
   },
   "outputs": [],
   "source": [
    "original_list = [1, 2, 3]\n",
    "shallow_copy = original_list.copy()\n",
    "\n",
    "# Modificamos el elemento en la posición 0 de la lista original\n",
    "original_list[0] = 0\n",
    "\n",
    "print(original_list)   # [0, 2, 3]\n",
    "print(shallow_copy)    # [1, 2, 3]"
   ]
  },
  {
   "cell_type": "code",
   "execution_count": null,
   "metadata": {
    "id": "kLRZW3AYnBxa"
   },
   "outputs": [],
   "source": [
    "shallow_copy[0] = 9"
   ]
  },
  {
   "cell_type": "code",
   "execution_count": null,
   "metadata": {
    "id": "NLP5bTkjnIg0"
   },
   "outputs": [],
   "source": [
    "print(original_list)\n",
    "print(shallow_copy)"
   ]
  },
  {
   "cell_type": "code",
   "execution_count": null,
   "metadata": {
    "id": "xr8KxoWnpSJW"
   },
   "outputs": [],
   "source": [
    "import copy\n",
    "\n",
    "old_list = [[1, 2, 3],\n",
    "            [4, 5, 6],\n",
    "            [7, 8, 'a']]\n",
    "\n",
    "# realizar una copia superficial (shallow copy)\n",
    "new_list = copy.copy(old_list)\n",
    "\n",
    "new_list[2][2] = 9\n",
    "\n",
    "print('Old List:', old_list)\n",
    "print('ID of Old List:', id(old_list))\n",
    "\n",
    "print('New List:', new_list)\n",
    "print('ID of New List:', id(new_list))"
   ]
  },
  {
   "cell_type": "code",
   "execution_count": null,
   "metadata": {
    "id": "ZCdlnd4qpWam"
   },
   "outputs": [],
   "source": [
    "old_list = [[1, 1, 1], [2, 2, 2], [3, 3, 3]]\n",
    "\n",
    "# realizar una copia profunda (deep copy)\n",
    "new_list = copy.deepcopy(old_list)\n",
    "\n",
    "old_list[1][0] = 'BB'\n",
    "\n",
    "print(\"Old list:\", old_list)\n",
    "print(\"New list:\", new_list)"
   ]
  },
  {
   "cell_type": "markdown",
   "metadata": {
    "id": "_79LRuBbpJc2"
   },
   "source": [
    "## Ejercicios\n",
    "\n",
    "1. Usando 'list comprehension', crear una lista con valores del 100 al 500 a intervalos de 50\n"
   ]
  },
  {
   "cell_type": "code",
   "execution_count": null,
   "metadata": {
    "colab": {
     "base_uri": "https://localhost:8080/"
    },
    "executionInfo": {
     "elapsed": 273,
     "status": "ok",
     "timestamp": 1710538040134,
     "user": {
      "displayName": "Pablo Galiana",
      "userId": "09231117108242953150"
     },
     "user_tz": 180
    },
    "id": "_pOTloYBnaIw",
    "jupyter": {
     "source_hidden": true
    },
    "outputId": "fc00835f-1d93-4d9b-fda9-a9c1878fddd7",
    "tags": []
   },
   "outputs": [],
   "source": [
    "lista_valores = [x for x in range(100, 501, 50)]\n",
    "lista_valores"
   ]
  },
  {
   "cell_type": "markdown",
   "metadata": {
    "id": "9XxijtrpTej6"
   },
   "source": [
    "\n",
    "2. Convertir esa lista en un diccionario donde los valores sean los elementos de la lista y las claves (keys) el texto 'pago_{i}' donde i es el indice del pago, ej. pago_1 = 100. Recordar que los índices empiezan en 0."
   ]
  },
  {
   "cell_type": "code",
   "execution_count": null,
   "metadata": {
    "colab": {
     "base_uri": "https://localhost:8080/"
    },
    "executionInfo": {
     "elapsed": 5,
     "status": "ok",
     "timestamp": 1710538213950,
     "user": {
      "displayName": "Pablo Galiana",
      "userId": "09231117108242953150"
     },
     "user_tz": 180
    },
    "id": "beu2dyEvnaIw",
    "jupyter": {
     "source_hidden": true
    },
    "outputId": "a40d8a06-7466-48ca-fc20-cc3a98bb4403",
    "tags": []
   },
   "outputs": [],
   "source": [
    "dict_valores = {f\"pago_{i+1}\": valor for i, valor in enumerate(lista_valores)}\n",
    "dict_valores"
   ]
  },
  {
   "cell_type": "markdown",
   "metadata": {
    "id": "F28rZweXTrSw"
   },
   "source": [
    "3. Sacar el valor actual (VA) de la lista considerándola una lista de pagos a intervalos regulares con una tasa de interés del 100%. El valor actual es la suma de los valores individuales descontados por el interés: cada pago se descuenta dividiéndolo por (1 + tasa)^índice, por ej. 150 / ((1 + 1) ** 2). Recordar que los índices empiezan en 0."
   ]
  },
  {
   "cell_type": "markdown",
   "metadata": {
    "id": "DCKEAxBbsxhP"
   },
   "source": [
    "$VA [100, 150, 200] = \\dfrac{100}{(1+1)^1}+\\dfrac{150}{(1+1)^2}+\\dfrac{200}{(1+1)^3}$"
   ]
  },
  {
   "cell_type": "code",
   "execution_count": null,
   "metadata": {
    "colab": {
     "base_uri": "https://localhost:8080/"
    },
    "executionInfo": {
     "elapsed": 284,
     "status": "ok",
     "timestamp": 1710538316953,
     "user": {
      "displayName": "Pablo Galiana",
      "userId": "09231117108242953150"
     },
     "user_tz": 180
    },
    "id": "uuyGLvvNjTE4",
    "jupyter": {
     "source_hidden": true
    },
    "outputId": "539d6fe5-602d-4dd0-9a90-14c22d1db139",
    "tags": []
   },
   "outputs": [],
   "source": [
    "VA = [pago / (1 + 1)**i+1 for i, pago in enumerate(lista_valores)]\n",
    "VA"
   ]
  },
  {
   "cell_type": "code",
   "execution_count": null,
   "metadata": {
    "colab": {
     "base_uri": "https://localhost:8080/"
    },
    "executionInfo": {
     "elapsed": 272,
     "status": "ok",
     "timestamp": 1710538360210,
     "user": {
      "displayName": "Pablo Galiana",
      "userId": "09231117108242953150"
     },
     "user_tz": 180
    },
    "id": "ncQuAwC_Y_et",
    "outputId": "b1565c71-7fbe-421b-ade8-7f28c8bc34bf"
   },
   "outputs": [],
   "source": [
    "suma = sum(VA)\n",
    "suma"
   ]
  },
  {
   "cell_type": "markdown",
   "metadata": {
    "id": "G3S9WwhApJcz"
   },
   "source": [
    "## Dictionary Comprehension"
   ]
  },
  {
   "cell_type": "markdown",
   "metadata": {
    "id": "T4HpK4QASn3B"
   },
   "source": [
    "Puedo crear diccionarios usando Dictionary Comprehension de la siguiente forma:\n",
    "\n",
    "`dictionary = {key: value for vars in iterable}`"
   ]
  },
  {
   "cell_type": "code",
   "execution_count": null,
   "metadata": {
    "colab": {
     "base_uri": "https://localhost:8080/"
    },
    "executionInfo": {
     "elapsed": 276,
     "status": "ok",
     "timestamp": 1710538377509,
     "user": {
      "displayName": "Pablo Galiana",
      "userId": "09231117108242953150"
     },
     "user_tz": 180
    },
    "id": "tuhs3FJZpJc0",
    "outputId": "0f74984e-4b61-4783-f8c5-88ff77e58153"
   },
   "outputs": [],
   "source": [
    "dic_comp ={k: v for k, v in [(\"k1\", 1), (\"k2\", 2), (\"k3\", 3)]}\n",
    "dic_comp"
   ]
  },
  {
   "cell_type": "markdown",
   "metadata": {
    "id": "TZHb1kYVSxlz"
   },
   "source": [
    "Con un for loop:"
   ]
  },
  {
   "cell_type": "code",
   "execution_count": null,
   "metadata": {
    "colab": {
     "base_uri": "https://localhost:8080/"
    },
    "executionInfo": {
     "elapsed": 312,
     "status": "ok",
     "timestamp": 1710538419610,
     "user": {
      "displayName": "Pablo Galiana",
      "userId": "09231117108242953150"
     },
     "user_tz": 180
    },
    "id": "n6yJ4X3zSmzX",
    "outputId": "41175e52-5ff4-4323-a4dc-a79b24f4c4d3"
   },
   "outputs": [],
   "source": [
    "cuadrado = dict()\n",
    "for num in range(1, 11):\n",
    "    cuadrado[num] = num*num\n",
    "print(cuadrado)"
   ]
  },
  {
   "cell_type": "markdown",
   "metadata": {
    "id": "BV4hb4pxS53R"
   },
   "source": [
    "Usando Dictionary Comprehension"
   ]
  },
  {
   "cell_type": "code",
   "execution_count": null,
   "metadata": {
    "colab": {
     "base_uri": "https://localhost:8080/"
    },
    "executionInfo": {
     "elapsed": 286,
     "status": "ok",
     "timestamp": 1710538455376,
     "user": {
      "displayName": "Pablo Galiana",
      "userId": "09231117108242953150"
     },
     "user_tz": 180
    },
    "id": "s-yJOur-S3aT",
    "outputId": "402f9041-6c71-4b79-9049-a16e209d0748"
   },
   "outputs": [],
   "source": [
    "cuadrado = {num: num*num for num in range(1, 11)}\n",
    "print(cuadrado)"
   ]
  },
  {
   "cell_type": "markdown",
   "metadata": {
    "id": "nl-tuhaD6S1f"
   },
   "source": [
    "### Ejercicios"
   ]
  },
  {
   "cell_type": "markdown",
   "metadata": {
    "id": "RIa3kZsS6VSW"
   },
   "source": [
    "1. Dado un diccionario de nombres y edades, crea un nuevo diccionario con los nombres como claves y las edades divididas en 2 como valores."
   ]
  },
  {
   "cell_type": "code",
   "execution_count": null,
   "metadata": {
    "colab": {
     "base_uri": "https://localhost:8080/"
    },
    "executionInfo": {
     "elapsed": 319,
     "status": "ok",
     "timestamp": 1710538534849,
     "user": {
      "displayName": "Pablo Galiana",
      "userId": "09231117108242953150"
     },
     "user_tz": 180
    },
    "id": "1LYkwftu6b2p",
    "outputId": "279754a9-e580-4ea0-876c-a539466a94b3"
   },
   "outputs": [],
   "source": [
    "personas = {'Juan': 40, 'María': 30, 'Pedro': 25, 'Lucía': 20}\n",
    "\n",
    "personas_edades_div_2 = {nombre : edad / 2 for nombre, edad in personas.items()}\n",
    "personas_edades_div_2"
   ]
  },
  {
   "cell_type": "markdown",
   "metadata": {
    "id": "8yD1-Szq6feS"
   },
   "source": [
    "2. Dado un diccionario de números, crea un nuevo diccionario con las claves y valores invertidos."
   ]
  },
  {
   "cell_type": "code",
   "execution_count": null,
   "metadata": {
    "colab": {
     "base_uri": "https://localhost:8080/"
    },
    "executionInfo": {
     "elapsed": 398,
     "status": "ok",
     "timestamp": 1710538602786,
     "user": {
      "displayName": "Pablo Galiana",
      "userId": "09231117108242953150"
     },
     "user_tz": 180
    },
    "id": "jxzdWh3W6nGJ",
    "outputId": "3fea3e87-e140-4126-d8f1-0105d031ab9b"
   },
   "outputs": [],
   "source": [
    "# Diccionario original\n",
    "numeros = {1: 'uno', 2: 'dos', 3: 'tres', 4: 'cuatro'}\n",
    "nuevo_diccionario = {valor: clave for clave, valor in diccionario.items()}\n",
    "print(nuevo_diccionario)\n"
   ]
  },
  {
   "cell_type": "markdown",
   "metadata": {
    "id": "QwKcJVDV6q5F"
   },
   "source": [
    "3. Filtrar un diccionario para incluir solo las entradas cuyos valores son números pares:"
   ]
  },
  {
   "cell_type": "code",
   "execution_count": null,
   "metadata": {
    "colab": {
     "base_uri": "https://localhost:8080/"
    },
    "executionInfo": {
     "elapsed": 8,
     "status": "ok",
     "timestamp": 1710538687151,
     "user": {
      "displayName": "Pablo Galiana",
      "userId": "09231117108242953150"
     },
     "user_tz": 180
    },
    "id": "92hoWLSj7ASu",
    "outputId": "ea111480-a37d-47e9-eb49-05c9d03b7b4d"
   },
   "outputs": [],
   "source": [
    "numeros = {'uno': 1, 'dos': 2, 'tres': 3, 'cuatro': 4, 'cinco': 5, 'seis': 6}\n",
    "\n",
    "numeros_pares = {k: v for k, v in numeros.items() if v % 2 == 0}\n",
    "numeros_pares"
   ]
  },
  {
   "cell_type": "markdown",
   "metadata": {
    "id": "WCujSYFJ8lTI"
   },
   "source": [
    "4. Usando Dictionary Comprehension crear un diccionario con claves entre 1 y 10, y valores en un rango entre 100 y 500, en pasos de 20. Pista: usar `zip()`"
   ]
  },
  {
   "cell_type": "code",
   "execution_count": null,
   "metadata": {
    "colab": {
     "base_uri": "https://localhost:8080/"
    },
    "executionInfo": {
     "elapsed": 6,
     "status": "ok",
     "timestamp": 1710538912848,
     "user": {
      "displayName": "Pablo Galiana",
      "userId": "09231117108242953150"
     },
     "user_tz": 180
    },
    "id": "Ove3qfuL8m6P",
    "outputId": "40cd80a5-0a61-4922-b1e8-54aed60a3f1e"
   },
   "outputs": [],
   "source": [
    "diccionario = {clave: valor for clave, valor in zip(range(1, 11), range(100, 500, 20))}\n",
    "\n",
    "print(diccionario)"
   ]
  },
  {
   "cell_type": "code",
   "execution_count": null,
   "metadata": {
    "id": "1hwmvpkLLYlw"
   },
   "outputs": [],
   "source": [
    "# otro modo de crear el diccionario usando un bucle for\n",
    "diccionario = {}\n",
    "for i in range(1, 11):\n",
    "    diccionario[i] = 80 + i * 20"
   ]
  },
  {
   "cell_type": "code",
   "execution_count": null,
   "metadata": {
    "colab": {
     "base_uri": "https://localhost:8080/"
    },
    "executionInfo": {
     "elapsed": 272,
     "status": "ok",
     "timestamp": 1710538943126,
     "user": {
      "displayName": "Pablo Galiana",
      "userId": "09231117108242953150"
     },
     "user_tz": 180
    },
    "id": "_rw1DkZFMQeV",
    "outputId": "5960f669-4cc8-4e1a-f2c5-04f6dddddc36"
   },
   "outputs": [],
   "source": [
    "diccionario"
   ]
  },
  {
   "cell_type": "code",
   "execution_count": null,
   "metadata": {
    "id": "rA6MWrkmMSS1"
   },
   "outputs": [],
   "source": []
  }
 ],
 "metadata": {
  "colab": {
   "provenance": []
  },
  "kernelspec": {
   "display_name": "Python 3 (ipykernel)",
   "language": "python",
   "name": "python3"
  },
  "language_info": {
   "codemirror_mode": {
    "name": "ipython",
    "version": 3
   },
   "file_extension": ".py",
   "mimetype": "text/x-python",
   "name": "python",
   "nbconvert_exporter": "python",
   "pygments_lexer": "ipython3",
   "version": "3.9.19"
  }
 },
 "nbformat": 4,
 "nbformat_minor": 4
}
