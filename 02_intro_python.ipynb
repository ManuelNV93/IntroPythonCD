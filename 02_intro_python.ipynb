{
  "cells": [
    {
      "cell_type": "markdown",
      "metadata": {
        "id": "view-in-github"
      },
      "source": [
        "<a href=\"https://colab.research.google.com/github/Argentan/DMA_LAB2/blob/master/tutoriales/02_intro_python2.ipynb\" target=\"_parent\"><img src=\"https://colab.research.google.com/assets/colab-badge.svg\" alt=\"Open In Colab\"/></a>"
      ]
    },
    {
      "cell_type": "markdown",
      "metadata": {
        "id": "YkVfvT77robC"
      },
      "source": [
        "# Importación de librerías\n",
        "\n",
        "Importar una librería entera\n"
      ]
    },
    {
      "cell_type": "code",
      "execution_count": 1,
      "metadata": {
        "id": "mpw2IhwPruyL"
      },
      "outputs": [],
      "source": [
        "import random"
      ]
    },
    {
      "cell_type": "markdown",
      "metadata": {
        "id": "HfzxYBZvsJ7D"
      },
      "source": [
        "Puedo asignar un nombre corto para facilitar la llamada de funciones"
      ]
    },
    {
      "cell_type": "code",
      "execution_count": 2,
      "metadata": {
        "id": "gXbMrrVVr4g2"
      },
      "outputs": [],
      "source": [
        "import pandas as pd"
      ]
    },
    {
      "cell_type": "markdown",
      "metadata": {
        "id": "OrtcQ04ZryEn"
      },
      "source": [
        "Importar solo una función de una librería"
      ]
    },
    {
      "cell_type": "code",
      "execution_count": 3,
      "metadata": {
        "id": "hxTJMxLLrxd1"
      },
      "outputs": [],
      "source": [
        "from random import sample, shuffle"
      ]
    },
    {
      "cell_type": "markdown",
      "metadata": {
        "id": "-ajBtMAmsQFI"
      },
      "source": [
        "Si no tengo instalada una librería puedo hacerlo de varias maneras. La más simple usando **pip**.\n",
        "\n",
        "El \"**!**\" lo usamos en Jupyter Notebooks para indicarle que es un comando de consola."
      ]
    },
    {
      "cell_type": "code",
      "execution_count": 4,
      "metadata": {
        "id": "vdf46sJhsZVn"
      },
      "outputs": [],
      "source": [
        "#!pip install seaborn\n",
        "import seaborn"
      ]
    },
    {
      "cell_type": "markdown",
      "metadata": {
        "id": "I7gQIKXts7ac"
      },
      "source": [
        "Otra alternativa es con **apt-get**, por ejemplo, para esta librería que nos ayuda a leer archivos de compresión 7zip"
      ]
    },
    {
      "cell_type": "code",
      "execution_count": 5,
      "metadata": {
        "id": "jx1uHYyws60d"
      },
      "outputs": [],
      "source": [
        "# https://pypi.python.org/pypi/libarchive\n",
        "# !apt-get -qq install -y libarchive-dev && pip install -U libarchive"
      ]
    },
    {
      "cell_type": "markdown",
      "metadata": {
        "id": "IUB_QFchtUG6"
      },
      "source": [
        "También puedo ver la versión de la Librería que tengo usando **pip show**"
      ]
    },
    {
      "cell_type": "code",
      "execution_count": 6,
      "metadata": {
        "id": "iJpq94LZtSp7",
        "colab": {
          "base_uri": "https://localhost:8080/"
        },
        "outputId": "42f4d5f5-ea39-4fbb-b269-b793a0fe2892"
      },
      "outputs": [
        {
          "output_type": "stream",
          "name": "stdout",
          "text": [
            "Name: tensorflow\n",
            "Version: 2.11.0\n",
            "Summary: TensorFlow is an open source machine learning framework for everyone.\n",
            "Home-page: https://www.tensorflow.org/\n",
            "Author: Google Inc.\n",
            "Author-email: packages@tensorflow.org\n",
            "License: Apache 2.0\n",
            "Location: /usr/local/lib/python3.9/dist-packages\n",
            "Requires: absl-py, astunparse, flatbuffers, gast, google-pasta, grpcio, h5py, keras, libclang, numpy, opt-einsum, packaging, protobuf, setuptools, six, tensorboard, tensorflow-estimator, tensorflow-io-gcs-filesystem, termcolor, typing-extensions, wrapt\n",
            "Required-by: \n"
          ]
        }
      ],
      "source": [
        "!pip show tensorflow"
      ]
    },
    {
      "cell_type": "markdown",
      "metadata": {
        "id": "34XIJdvrtvIZ"
      },
      "source": [
        "También se puede indicar una versión específica de la librería"
      ]
    },
    {
      "cell_type": "code",
      "execution_count": 7,
      "metadata": {
        "id": "Tj98BGEDtsi-"
      },
      "outputs": [],
      "source": [
        "#!pip install tensorflow==1.2"
      ]
    },
    {
      "cell_type": "markdown",
      "metadata": {
        "id": "5Gcv4LytpJa6",
        "tags": []
      },
      "source": [
        "# Estructuras de control\n",
        "\n",
        "## Comparadores lógicos\n",
        "\n",
        "| Operador | Acción |\n",
        "| -------- | ------ |\n",
        "| ==       | igual  |\n",
        "| > =       | mayor o igual |\n",
        "| >        | mayor estricto |\n",
        "| < =      | menor o igual |\n",
        "| <     | menor estricto |\n",
        "| ! = | desigual|\n",
        "| or | o |\n",
        "| and | y |\n"
      ]
    },
    {
      "cell_type": "code",
      "execution_count": 8,
      "metadata": {
        "id": "vAQhz4JBpJa8",
        "colab": {
          "base_uri": "https://localhost:8080/"
        },
        "outputId": "bd8cec6f-dbb3-4513-842a-ad6822181df4"
      },
      "outputs": [
        {
          "output_type": "execute_result",
          "data": {
            "text/plain": [
              "True"
            ]
          },
          "metadata": {},
          "execution_count": 8
        }
      ],
      "source": [
        "1 == 1"
      ]
    },
    {
      "cell_type": "code",
      "execution_count": 9,
      "metadata": {
        "id": "VOliCyFXpJbD",
        "colab": {
          "base_uri": "https://localhost:8080/"
        },
        "outputId": "1266d855-5ebf-4f3c-b698-0b3f629dbeb4"
      },
      "outputs": [
        {
          "output_type": "execute_result",
          "data": {
            "text/plain": [
              "False"
            ]
          },
          "metadata": {},
          "execution_count": 9
        }
      ],
      "source": [
        "1 == 2"
      ]
    },
    {
      "cell_type": "code",
      "execution_count": 10,
      "metadata": {
        "id": "Kyntul6YpJbH",
        "colab": {
          "base_uri": "https://localhost:8080/"
        },
        "outputId": "450ce275-6341-4e87-b45f-7445c02b692d"
      },
      "outputs": [
        {
          "output_type": "execute_result",
          "data": {
            "text/plain": [
              "True"
            ]
          },
          "metadata": {},
          "execution_count": 10
        }
      ],
      "source": [
        "1 == 1.0"
      ]
    },
    {
      "cell_type": "code",
      "execution_count": 11,
      "metadata": {
        "id": "qRuWkBNMpJbL",
        "colab": {
          "base_uri": "https://localhost:8080/"
        },
        "outputId": "54186373-fc2e-4c27-bde3-5d70aafe3e9a"
      },
      "outputs": [
        {
          "output_type": "execute_result",
          "data": {
            "text/plain": [
              "True"
            ]
          },
          "metadata": {},
          "execution_count": 11
        }
      ],
      "source": [
        "\"hola\" == \"hola\""
      ]
    },
    {
      "cell_type": "code",
      "execution_count": 12,
      "metadata": {
        "id": "gPRDGwcOpJbP",
        "colab": {
          "base_uri": "https://localhost:8080/"
        },
        "outputId": "ed628930-8b02-4160-c2d0-cfc65a7c33d7"
      },
      "outputs": [
        {
          "output_type": "execute_result",
          "data": {
            "text/plain": [
              "False"
            ]
          },
          "metadata": {},
          "execution_count": 12
        }
      ],
      "source": [
        "\"hola\" == \"Hola\""
      ]
    },
    {
      "cell_type": "code",
      "execution_count": 13,
      "metadata": {
        "id": "8zsLgypvpJbT",
        "colab": {
          "base_uri": "https://localhost:8080/"
        },
        "outputId": "f2989e73-ee82-4230-b7d1-367100911078"
      },
      "outputs": [
        {
          "output_type": "execute_result",
          "data": {
            "text/plain": [
              "True"
            ]
          },
          "metadata": {},
          "execution_count": 13
        }
      ],
      "source": [
        "\"hola\" != \"Hola\""
      ]
    },
    {
      "cell_type": "code",
      "execution_count": 14,
      "metadata": {
        "id": "z78cEc50pJbW",
        "colab": {
          "base_uri": "https://localhost:8080/"
        },
        "outputId": "3614e8c3-9f5e-4d91-d4fa-6467cd6f8f85"
      },
      "outputs": [
        {
          "output_type": "execute_result",
          "data": {
            "text/plain": [
              "True"
            ]
          },
          "metadata": {},
          "execution_count": 14
        }
      ],
      "source": [
        "(1 == 1) and (2 == 2)"
      ]
    },
    {
      "cell_type": "code",
      "execution_count": 15,
      "metadata": {
        "id": "aTCRHJnDpJbd",
        "colab": {
          "base_uri": "https://localhost:8080/"
        },
        "outputId": "8bbe9c54-bfad-45c2-aec8-ea5439084cce"
      },
      "outputs": [
        {
          "output_type": "execute_result",
          "data": {
            "text/plain": [
              "False"
            ]
          },
          "metadata": {},
          "execution_count": 15
        }
      ],
      "source": [
        "(1 == 1) and (2 != 2)"
      ]
    },
    {
      "cell_type": "code",
      "execution_count": 16,
      "metadata": {
        "id": "HTZEJDB9pJbh",
        "colab": {
          "base_uri": "https://localhost:8080/"
        },
        "outputId": "687a3dda-23c8-47ec-a4c9-6d55dc26ad8a"
      },
      "outputs": [
        {
          "output_type": "execute_result",
          "data": {
            "text/plain": [
              "True"
            ]
          },
          "metadata": {},
          "execution_count": 16
        }
      ],
      "source": [
        "(1 == 1) or (2 != 2)"
      ]
    },
    {
      "cell_type": "code",
      "source": [
        "(1 != 1) or (2 != 2)"
      ],
      "metadata": {
        "id": "n7tRy4G9i7tu",
        "colab": {
          "base_uri": "https://localhost:8080/"
        },
        "outputId": "7bcb903f-84d1-4ea8-82b7-00091df7abdb"
      },
      "execution_count": 17,
      "outputs": [
        {
          "output_type": "execute_result",
          "data": {
            "text/plain": [
              "False"
            ]
          },
          "metadata": {},
          "execution_count": 17
        }
      ]
    },
    {
      "cell_type": "code",
      "execution_count": 18,
      "metadata": {
        "id": "eKQySLbMpJbn",
        "colab": {
          "base_uri": "https://localhost:8080/"
        },
        "outputId": "218eb12a-713a-42b3-c1d7-57ad39482e5d"
      },
      "outputs": [
        {
          "output_type": "execute_result",
          "data": {
            "text/plain": [
              "True"
            ]
          },
          "metadata": {},
          "execution_count": 18
        }
      ],
      "source": [
        "not (     (1 != 1) or (2 != 2)       )"
      ]
    },
    {
      "cell_type": "code",
      "execution_count": 19,
      "metadata": {
        "id": "rzUaqIqFpJbr",
        "colab": {
          "base_uri": "https://localhost:8080/"
        },
        "outputId": "f6dcf8f6-bf80-42ce-b899-05df522d612f"
      },
      "outputs": [
        {
          "output_type": "execute_result",
          "data": {
            "text/plain": [
              "True"
            ]
          },
          "metadata": {},
          "execution_count": 19
        }
      ],
      "source": [
        "not (1 == 1) or (2 == 2)"
      ]
    },
    {
      "cell_type": "markdown",
      "metadata": {
        "id": "TNPw6SwzkQjw",
        "toc-hr-collapsed": true
      },
      "source": [
        "### El operador \"not in\""
      ]
    },
    {
      "cell_type": "code",
      "execution_count": 20,
      "metadata": {
        "id": "bPvwLj0gkY1M",
        "colab": {
          "base_uri": "https://localhost:8080/"
        },
        "outputId": "75846a96-3f25-45be-f89e-8bc53e0e44ce"
      },
      "outputs": [
        {
          "output_type": "execute_result",
          "data": {
            "text/plain": [
              "True"
            ]
          },
          "metadata": {},
          "execution_count": 20
        }
      ],
      "source": [
        "'Juan' in ['Pedro', 'Lucia', 'Juan', 'Maria']"
      ]
    },
    {
      "cell_type": "code",
      "execution_count": 21,
      "metadata": {
        "id": "W5Z6UR6ekew2",
        "colab": {
          "base_uri": "https://localhost:8080/"
        },
        "outputId": "4b142d9b-a01c-4def-8963-ace246536a31"
      },
      "outputs": [
        {
          "output_type": "execute_result",
          "data": {
            "text/plain": [
              "False"
            ]
          },
          "metadata": {},
          "execution_count": 21
        }
      ],
      "source": [
        "'Juan' not in ['Pedro', 'Lucia', 'Juan', 'Maria']"
      ]
    },
    {
      "cell_type": "code",
      "execution_count": 22,
      "metadata": {
        "id": "Qtojp_Inkgwp",
        "colab": {
          "base_uri": "https://localhost:8080/"
        },
        "outputId": "be94549e-5a6b-48a3-a99f-60cc24cf58c9"
      },
      "outputs": [
        {
          "output_type": "execute_result",
          "data": {
            "text/plain": [
              "True"
            ]
          },
          "metadata": {},
          "execution_count": 22
        }
      ],
      "source": [
        "'Julieta' not in ['Pedro', 'Lucia', 'Juan', 'Maria']"
      ]
    },
    {
      "cell_type": "markdown",
      "metadata": {
        "id": "cL1D1T45kyib"
      },
      "source": [
        "### Asignación con operador aritmético\n",
        "\n",
        "| Operador | Equivalente |\n",
        "| -------- | ----------- |\n",
        "| `a += 1` | `a = a + 1` |\n",
        "| `a -= 1` | `a = a - 1` |\n",
        "| `a *= 1` | `a = a * 1` |\n",
        "| `a /= 1` | `a = a / 1` |\n",
        "| `a %= 1` | `a = a % 1` |"
      ]
    },
    {
      "cell_type": "code",
      "execution_count": 23,
      "metadata": {
        "id": "VuMrXVdLks4n",
        "colab": {
          "base_uri": "https://localhost:8080/",
          "height": 36
        },
        "outputId": "8c5123ec-9b44-49e2-c709-9c827b071b64"
      },
      "outputs": [
        {
          "output_type": "execute_result",
          "data": {
            "text/plain": [
              "'Hello world!'"
            ],
            "application/vnd.google.colaboratory.intrinsic+json": {
              "type": "string"
            }
          },
          "metadata": {},
          "execution_count": 23
        }
      ],
      "source": [
        "a = 'Hello'\n",
        "a += ' world!'\n",
        "a"
      ]
    },
    {
      "cell_type": "code",
      "execution_count": 24,
      "metadata": {
        "id": "6gsCqDEtmiSS",
        "colab": {
          "base_uri": "https://localhost:8080/"
        },
        "outputId": "2d5b54f0-f57c-4ec6-f6ef-c1a534cdbaa8"
      },
      "outputs": [
        {
          "output_type": "stream",
          "name": "stdout",
          "text": [
            "2\n",
            "4\n",
            "8\n"
          ]
        }
      ],
      "source": [
        "a = 2\n",
        "print(a)\n",
        "\n",
        "a *= 2\n",
        "print(a)\n",
        "\n",
        "a *= 2\n",
        "print(a)"
      ]
    },
    {
      "cell_type": "markdown",
      "metadata": {
        "id": "82xO1hGUpJbu"
      },
      "source": [
        "## Condicionales"
      ]
    },
    {
      "cell_type": "code",
      "execution_count": 25,
      "metadata": {
        "id": "6NKcH11tpJbv",
        "tags": [],
        "colab": {
          "base_uri": "https://localhost:8080/"
        },
        "outputId": "b87b6613-dc1c-4502-8ecd-0f7b5c67cdc1"
      },
      "outputs": [
        {
          "output_type": "stream",
          "name": "stdout",
          "text": [
            "Juan encontrado\n"
          ]
        }
      ],
      "source": [
        "persona = \"Juan\"\n",
        "if (persona == \"Juan\"):\n",
        "    print(\"Juan encontrado\")"
      ]
    },
    {
      "cell_type": "code",
      "execution_count": 26,
      "metadata": {
        "id": "axy543RwpJby",
        "tags": [],
        "colab": {
          "base_uri": "https://localhost:8080/"
        },
        "outputId": "589286ea-acad-4d94-d933-50444d6579f3"
      },
      "outputs": [
        {
          "output_type": "stream",
          "name": "stdout",
          "text": [
            "Pedro no encontrado\n"
          ]
        }
      ],
      "source": [
        "if (persona == \"Pedro\"):\n",
        "    print(\"Pedro encontrado\")\n",
        "else:\n",
        "    print(\"Pedro no encontrado\")"
      ]
    },
    {
      "cell_type": "code",
      "execution_count": 27,
      "metadata": {
        "id": "yzU1Iu5ipJb1",
        "tags": [],
        "colab": {
          "base_uri": "https://localhost:8080/"
        },
        "outputId": "20b3941f-5d1d-404b-cb20-56ef38fcad15"
      },
      "outputs": [
        {
          "output_type": "stream",
          "name": "stdout",
          "text": [
            "encontrado Juan\n"
          ]
        }
      ],
      "source": [
        "if (persona == \"Pedro\"):\n",
        "    print(\"encontrado Pedro\")\n",
        "elif (persona == \"Juan\"): \n",
        "    print(\"encontrado Juan\")\n",
        "else:\n",
        "    print(\"no encontrado\")"
      ]
    },
    {
      "cell_type": "markdown",
      "source": [
        "## Función `range`\n",
        "\n",
        "`range(stop) -> range object`\n",
        "\n",
        "`range(start, stop[, step]) -> range object`\n",
        "\n",
        "Devuelve un objeto que produce una secuencia de enteros desde start(inclusive)\n",
        "hasta stop (exclusivo) de acuerdo a step.\n",
        "\n",
        "`range(i, j) produce i, i+1, i+2, ..., j-1`\n",
        "\n",
        "start por defecto es 0 y se omite stop!\n",
        "\n",
        "`range(4) produce 0, 1, 2, 3`\n",
        "\n",
        "Cuando se especifica `step`, especifica el incremento (o decremento)."
      ],
      "metadata": {
        "id": "wqUEP8Ae2OQZ"
      }
    },
    {
      "cell_type": "code",
      "source": [
        "rango = range(5)    # stop=5\n",
        "type(rango)"
      ],
      "metadata": {
        "id": "OQMzhgRj2WIm",
        "colab": {
          "base_uri": "https://localhost:8080/"
        },
        "outputId": "8328c210-b935-415c-c05b-6e9f43e030ff"
      },
      "execution_count": 28,
      "outputs": [
        {
          "output_type": "execute_result",
          "data": {
            "text/plain": [
              "range"
            ]
          },
          "metadata": {},
          "execution_count": 28
        }
      ]
    },
    {
      "cell_type": "code",
      "source": [
        "range(0, 5)      # start = 0 ,  stop = 5"
      ],
      "metadata": {
        "id": "pIRqM7mX2Z9n",
        "colab": {
          "base_uri": "https://localhost:8080/"
        },
        "outputId": "302fd42a-1c78-4802-b9df-155ed25935fa"
      },
      "execution_count": 29,
      "outputs": [
        {
          "output_type": "execute_result",
          "data": {
            "text/plain": [
              "range(0, 5)"
            ]
          },
          "metadata": {},
          "execution_count": 29
        }
      ]
    },
    {
      "cell_type": "code",
      "source": [
        "# Crear una lista de números impares del 1 al 10\n",
        "lista = list(range(1, 11, 2))\n",
        "lista"
      ],
      "metadata": {
        "id": "rIlt_fkv3aZN",
        "colab": {
          "base_uri": "https://localhost:8080/"
        },
        "outputId": "52429e23-17ad-4147-b886-dd7ebd887a3a"
      },
      "execution_count": 30,
      "outputs": [
        {
          "output_type": "execute_result",
          "data": {
            "text/plain": [
              "[1, 3, 5, 7, 9]"
            ]
          },
          "metadata": {},
          "execution_count": 30
        }
      ]
    },
    {
      "cell_type": "markdown",
      "metadata": {
        "id": "DbCgt-XKpJb4"
      },
      "source": [
        "## Loops"
      ]
    },
    {
      "cell_type": "markdown",
      "metadata": {
        "id": "2xD8Q7YOQFZi",
        "tags": []
      },
      "source": [
        "### Loops usando for"
      ]
    },
    {
      "cell_type": "code",
      "execution_count": 31,
      "metadata": {
        "id": "BSXUM02KpJb5",
        "tags": [],
        "colab": {
          "base_uri": "https://localhost:8080/"
        },
        "outputId": "d9355fe3-9c40-44ec-bcac-03a6a8d26d71"
      },
      "outputs": [
        {
          "output_type": "stream",
          "name": "stdout",
          "text": [
            "1\n",
            "2\n",
            "3\n"
          ]
        }
      ],
      "source": [
        "for a in [1, 2, 3]:\n",
        "    print(a)"
      ]
    },
    {
      "cell_type": "code",
      "execution_count": 32,
      "metadata": {
        "id": "LKZGumv6pJb-",
        "tags": [],
        "colab": {
          "base_uri": "https://localhost:8080/"
        },
        "outputId": "1a1000ec-d0cd-4351-96d8-8cfdffd7f45e"
      },
      "outputs": [
        {
          "output_type": "stream",
          "name": "stdout",
          "text": [
            "1\n",
            "2\n",
            "3\n"
          ]
        }
      ],
      "source": [
        "lista = [1, 2, 3]\n",
        "for a in lista:\n",
        "    print(a)"
      ]
    },
    {
      "cell_type": "code",
      "execution_count": 33,
      "metadata": {
        "id": "mODIDXvlpJcB",
        "tags": [],
        "colab": {
          "base_uri": "https://localhost:8080/"
        },
        "outputId": "0e365345-eb1d-4d9e-c648-0ee50965b06c"
      },
      "outputs": [
        {
          "output_type": "stream",
          "name": "stdout",
          "text": [
            "k1\n",
            "k2\n",
            "k3\n"
          ]
        }
      ],
      "source": [
        "diccionario = {\"k1\": 1, \"k2\": 2, \"k3\": 3}\n",
        "for a in diccionario:\n",
        "    print(a)"
      ]
    },
    {
      "cell_type": "code",
      "source": [
        "for a in diccionario.keys():\n",
        "    print(a)"
      ],
      "metadata": {
        "id": "0t1F7Tmho6s3",
        "colab": {
          "base_uri": "https://localhost:8080/"
        },
        "outputId": "d9d360aa-3ae1-4d88-f00c-5ae797215c77"
      },
      "execution_count": 34,
      "outputs": [
        {
          "output_type": "stream",
          "name": "stdout",
          "text": [
            "k1\n",
            "k2\n",
            "k3\n"
          ]
        }
      ]
    },
    {
      "cell_type": "code",
      "source": [
        "for a in diccionario.values():\n",
        "    print(a)"
      ],
      "metadata": {
        "id": "uCzPgxAuortK",
        "colab": {
          "base_uri": "https://localhost:8080/"
        },
        "outputId": "d59001a8-75bf-41a9-e5b5-67eb304b5cbb"
      },
      "execution_count": 35,
      "outputs": [
        {
          "output_type": "stream",
          "name": "stdout",
          "text": [
            "1\n",
            "2\n",
            "3\n"
          ]
        }
      ]
    },
    {
      "cell_type": "code",
      "execution_count": 36,
      "metadata": {
        "id": "1VUE26c1pJcE",
        "tags": [],
        "colab": {
          "base_uri": "https://localhost:8080/"
        },
        "outputId": "1b33cfca-eba8-4a27-e15e-5a22535fe676"
      },
      "outputs": [
        {
          "output_type": "stream",
          "name": "stdout",
          "text": [
            "k1 1\n",
            "k2 2\n",
            "k3 3\n"
          ]
        }
      ],
      "source": [
        "diccionario = {\"k1\": 1, \"k2\": 2, \"k3\": 3}\n",
        "for a in diccionario:\n",
        "    print(a, diccionario[a])"
      ]
    },
    {
      "cell_type": "code",
      "execution_count": 37,
      "metadata": {
        "id": "EK0A_9jzpJcL",
        "colab": {
          "base_uri": "https://localhost:8080/"
        },
        "outputId": "ead09775-02e7-4806-d898-1e29405685d9"
      },
      "outputs": [
        {
          "output_type": "execute_result",
          "data": {
            "text/plain": [
              "dict_items([('k1', 1), ('k2', 2), ('k3', 3)])"
            ]
          },
          "metadata": {},
          "execution_count": 37
        }
      ],
      "source": [
        "diccionario.items()"
      ]
    },
    {
      "cell_type": "code",
      "execution_count": 38,
      "metadata": {
        "id": "L7Jmh98OpJcH",
        "tags": [],
        "colab": {
          "base_uri": "https://localhost:8080/"
        },
        "outputId": "a432a543-01b0-4888-ca60-707f5f32e1ba"
      },
      "outputs": [
        {
          "output_type": "stream",
          "name": "stdout",
          "text": [
            "esto es una cadena y el valor de k es igual a k1\n",
            "esto es una cadena y el valor de k es igual a k2\n",
            "esto es una cadena y el valor de k es igual a k3\n"
          ]
        }
      ],
      "source": [
        "diccionario = {\"k1\": 1, \"k2\": 2, \"k3\": 3}\n",
        "for k, v in diccionario.items():\n",
        "    #print(f\"clave: {k}, valor: {v}\")\n",
        "    #print(\"clave:\", k, \"valor:\", v)\n",
        "    print (f\"esto es una cadena y el valor de k es igual a {k}\")"
      ]
    },
    {
      "cell_type": "code",
      "execution_count": 39,
      "metadata": {
        "id": "sFPIuNBjpJcO",
        "colab": {
          "base_uri": "https://localhost:8080/"
        },
        "outputId": "49dbcbc1-8a3d-4ba4-cf5d-b6a663b01055"
      },
      "outputs": [
        {
          "output_type": "stream",
          "name": "stdout",
          "text": [
            "1\n",
            "2\n"
          ]
        }
      ],
      "source": [
        "v1, v2 = 1, 2\n",
        "print(v1)\n",
        "print(v2)"
      ]
    },
    {
      "cell_type": "code",
      "source": [
        "len(lista)"
      ],
      "metadata": {
        "colab": {
          "base_uri": "https://localhost:8080/"
        },
        "id": "0xacMxg4a3Fn",
        "outputId": "f9bdd981-b152-4242-a8db-9b40e463bc92"
      },
      "execution_count": 40,
      "outputs": [
        {
          "output_type": "execute_result",
          "data": {
            "text/plain": [
              "3"
            ]
          },
          "metadata": {},
          "execution_count": 40
        }
      ]
    },
    {
      "cell_type": "code",
      "execution_count": 41,
      "metadata": {
        "id": "kw2C5fW9qzLs",
        "colab": {
          "base_uri": "https://localhost:8080/"
        },
        "outputId": "82613be9-5a9f-4b48-958e-c946f582d756"
      },
      "outputs": [
        {
          "output_type": "execute_result",
          "data": {
            "text/plain": [
              "range(0, 3)"
            ]
          },
          "metadata": {},
          "execution_count": 41
        }
      ],
      "source": [
        "range(len(lista))"
      ]
    },
    {
      "cell_type": "code",
      "execution_count": 42,
      "metadata": {
        "id": "LK6yuZkSpJcS",
        "tags": [],
        "colab": {
          "base_uri": "https://localhost:8080/"
        },
        "outputId": "2e36a7d4-b971-4467-dbf9-784799ce1ff3"
      },
      "outputs": [
        {
          "output_type": "stream",
          "name": "stdout",
          "text": [
            "el indice 0 tienen un valor a\n",
            "el indice 1 tienen un valor b\n",
            "el indice 2 tienen un valor c\n"
          ]
        }
      ],
      "source": [
        "lista = [\"a\", \"b\", \"c\"]\n",
        "for i in range(len(lista)):\n",
        "    print(f\"el indice {i} tienen un valor {lista[i]}\")"
      ]
    },
    {
      "cell_type": "code",
      "source": [
        "lista"
      ],
      "metadata": {
        "colab": {
          "base_uri": "https://localhost:8080/"
        },
        "id": "MQDWRLt7cVA5",
        "outputId": "dee4702c-fcd5-4c94-d2cc-65b15140bcff"
      },
      "execution_count": 43,
      "outputs": [
        {
          "output_type": "execute_result",
          "data": {
            "text/plain": [
              "['a', 'b', 'c']"
            ]
          },
          "metadata": {},
          "execution_count": 43
        }
      ]
    },
    {
      "cell_type": "code",
      "execution_count": 44,
      "metadata": {
        "id": "ay_M9kW5pJcV",
        "tags": [],
        "colab": {
          "base_uri": "https://localhost:8080/"
        },
        "outputId": "3fef82e6-39ad-46be-b2ff-0a0fe95527ed"
      },
      "outputs": [
        {
          "output_type": "stream",
          "name": "stdout",
          "text": [
            "el indice 0 tiene un valor a\n",
            "el indice 1 tiene un valor b\n",
            "el indice 2 tiene un valor c\n"
          ]
        }
      ],
      "source": [
        "for indice, elemento in enumerate(lista):\n",
        "    print(f\"el indice {indice} tiene un valor {elemento}\")"
      ]
    },
    {
      "cell_type": "markdown",
      "metadata": {
        "id": "5VQeBfG8t-Mc"
      },
      "source": [
        "### Loops usando While "
      ]
    },
    {
      "cell_type": "code",
      "execution_count": 45,
      "metadata": {
        "id": "EC9ZihppQloi"
      },
      "outputs": [],
      "source": [
        "from random import random"
      ]
    },
    {
      "cell_type": "code",
      "execution_count": 46,
      "metadata": {
        "id": "eu8BPp7qpJcY",
        "tags": [],
        "colab": {
          "base_uri": "https://localhost:8080/"
        },
        "outputId": "538f3f7c-6321-4c3e-a1ef-776a65f32faf"
      },
      "outputs": [
        {
          "output_type": "stream",
          "name": "stdout",
          "text": [
            "0\n",
            "nuevo cent: 0.1344670138953813\n",
            "nuevo cent: 0.9119344869000302\n"
          ]
        }
      ],
      "source": [
        "cent = 0\n",
        "print(cent)\n",
        "while cent < 0.7:\n",
        "    cent = random()\n",
        "    print(\"nuevo cent:\", cent)    "
      ]
    },
    {
      "cell_type": "markdown",
      "metadata": {
        "id": "Uvgbm2L8jfH6"
      },
      "source": [
        "### Loop de múltiples listas usando zip()\n"
      ]
    },
    {
      "cell_type": "code",
      "execution_count": 48,
      "metadata": {
        "id": "oWZnX8DsjoOn",
        "colab": {
          "base_uri": "https://localhost:8080/"
        },
        "outputId": "28d580a5-52fd-4141-d4e1-7b44bb6889d7"
      },
      "outputs": [
        {
          "output_type": "stream",
          "name": "stdout",
          "text": [
            "La edad de Pedro es 8\n",
            "La edad de Lucia es 9\n",
            "La edad de Juan es 3\n",
            "La edad de María es 5\n"
          ]
        }
      ],
      "source": [
        "name = ['Pedro', 'Lucia', 'Juan', 'María', 'José']\n",
        "age = [8, 9, 3, 5]\n",
        "\n",
        "for n, a in zip(name, age):\n",
        "  print(f'La edad de {n} es {a}')"
      ]
    },
    {
      "cell_type": "code",
      "source": [
        "list(zip('abcdefg', range(10), range(10)))"
      ],
      "metadata": {
        "id": "7giRGDME1Ifr",
        "colab": {
          "base_uri": "https://localhost:8080/"
        },
        "outputId": "fa5531ed-7177-40c6-cd5c-f383c88d8dd7"
      },
      "execution_count": 49,
      "outputs": [
        {
          "output_type": "execute_result",
          "data": {
            "text/plain": [
              "[('a', 0, 0),\n",
              " ('b', 1, 1),\n",
              " ('c', 2, 2),\n",
              " ('d', 3, 3),\n",
              " ('e', 4, 4),\n",
              " ('f', 5, 5),\n",
              " ('g', 6, 6)]"
            ]
          },
          "metadata": {},
          "execution_count": 49
        }
      ]
    },
    {
      "cell_type": "markdown",
      "source": [
        "La función zip() en Python toma como entrada una o más secuencias (por ejemplo, listas o tuplas) y devuelve una secuencia de tuplas donde cada tupla contiene un elemento de cada una de las secuencias originales.\n",
        "\n",
        "En el ejemplo list(zip('abcdefg', range(10), range(10))), se están usando tres secuencias como argumentos de zip(). La primera secuencia es la cadena de caracteres 'abcdefg', la segunda y tercera secuencias son dos rangos (range) de números enteros que van del 0 al 9.\n",
        "\n",
        "La función zip() crea una secuencia de tuplas que combina elementos de las tres secuencias de entrada.\n",
        "\n",
        "La función list() convierte esta secuencia de tuplas en una lista de tuplas, y se imprime usando la instrucción print()."
      ],
      "metadata": {
        "id": "b-xOwr7nHb0c"
      }
    },
    {
      "cell_type": "markdown",
      "metadata": {
        "id": "QV2CUu59naIr"
      },
      "source": [
        "### List Comprehension\n",
        "\n",
        "Una lista por comprensión es una construcción sintáctica disponible en algunos lenguajes de programación para crear una lista basada en listas existentes. Sigue la forma de la notación matemática de creación de conjuntos (comprensión de conjuntos), por ejemplo:\n",
        "\n",
        "$ S = \\{2 x | x \\in \\mathbb{N}, x^2 > 3 \\} $\n",
        "\n",
        "En teoría de conjuntos, la notación anterior se lee como \"$S$ es el conjunto de todos los números $2x$, tal que $x$ es un número natural y $x^2$ es mayor que 3\"."
      ]
    },
    {
      "cell_type": "markdown",
      "source": [
        "### Sintaxis\n",
        "\n",
        "newlist = [expression for item in iterable if condition == True]"
      ],
      "metadata": {
        "id": "6y-1CgcKqmzT"
      }
    },
    {
      "cell_type": "code",
      "source": [
        "fruits = [\"apple\", \"banana\", \"cherry\", \"kiwi\", \"mango\"]\n",
        "fruits"
      ],
      "metadata": {
        "id": "3U5tO_ezqe_9",
        "colab": {
          "base_uri": "https://localhost:8080/"
        },
        "outputId": "34464182-185e-4612-f872-bd65b39c0db0"
      },
      "execution_count": 50,
      "outputs": [
        {
          "output_type": "execute_result",
          "data": {
            "text/plain": [
              "['apple', 'banana', 'cherry', 'kiwi', 'mango']"
            ]
          },
          "metadata": {},
          "execution_count": 50
        }
      ]
    },
    {
      "cell_type": "code",
      "source": [
        "newlist = [x for x in fruits if \"a\" in x]\n",
        "\n",
        "print(newlist)"
      ],
      "metadata": {
        "colab": {
          "base_uri": "https://localhost:8080/"
        },
        "id": "fvhlHl-JgJYE",
        "outputId": "38cb2113-e2e0-4a00-d739-19ee95afac7a"
      },
      "execution_count": 51,
      "outputs": [
        {
          "output_type": "stream",
          "name": "stdout",
          "text": [
            "['apple', 'banana', 'mango']\n"
          ]
        }
      ]
    },
    {
      "cell_type": "markdown",
      "metadata": {
        "id": "6q6kBxHlnaIr"
      },
      "source": [
        "Ejemplos en Python.\n",
        "\n",
        "S = {x² : x in {0 ... 9}}"
      ]
    },
    {
      "cell_type": "code",
      "execution_count": 52,
      "metadata": {
        "tags": [],
        "id": "Dg3ulmiYnaIs",
        "colab": {
          "base_uri": "https://localhost:8080/"
        },
        "outputId": "1495bbe3-316d-4c6c-8e35-cd1443927c83"
      },
      "outputs": [
        {
          "output_type": "execute_result",
          "data": {
            "text/plain": [
              "[0, 1, 4, 9, 16, 25, 36, 49, 64, 81]"
            ]
          },
          "metadata": {},
          "execution_count": 52
        }
      ],
      "source": [
        "S = [x**2 for x in range(10)]\n",
        "S"
      ]
    },
    {
      "cell_type": "markdown",
      "source": [
        "V = (1, 2, 4, 8, ..., 2¹²)"
      ],
      "metadata": {
        "id": "H9EopRfB1uSZ"
      }
    },
    {
      "cell_type": "code",
      "execution_count": 53,
      "metadata": {
        "id": "3huFWNELnaIs",
        "colab": {
          "base_uri": "https://localhost:8080/"
        },
        "outputId": "bab4e116-3234-429e-da29-7a79f17499f1"
      },
      "outputs": [
        {
          "output_type": "execute_result",
          "data": {
            "text/plain": [
              "[1, 2, 4, 8, 16, 32, 64, 128, 256, 512, 1024, 2048, 4096]"
            ]
          },
          "metadata": {},
          "execution_count": 53
        }
      ],
      "source": [
        "V = [2**i for i in range(13)]\n",
        "V"
      ]
    },
    {
      "cell_type": "markdown",
      "source": [
        "M = {x | x in S and x even}"
      ],
      "metadata": {
        "id": "C9Horlqa1wxE"
      }
    },
    {
      "cell_type": "code",
      "execution_count": 54,
      "metadata": {
        "id": "_THTxvp1naIs",
        "colab": {
          "base_uri": "https://localhost:8080/"
        },
        "outputId": "52473565-3ece-477a-8842-ca03f7f8cc18"
      },
      "outputs": [
        {
          "output_type": "execute_result",
          "data": {
            "text/plain": [
              "[0, 4, 16, 36, 64]"
            ]
          },
          "metadata": {},
          "execution_count": 54
        }
      ],
      "source": [
        "M = [x for x in S if (x%2==0)]\n",
        "M"
      ]
    },
    {
      "cell_type": "code",
      "source": [
        "# generado por ChatGPT\n",
        "squares = [i**2 for i in range(10)]\n",
        "even_squares = [x for x in squares if x % 2 == 0]\n",
        "print(even_squares)"
      ],
      "metadata": {
        "colab": {
          "base_uri": "https://localhost:8080/"
        },
        "id": "C9HHPjf9ihI3",
        "outputId": "20ebea94-2989-43c0-ce68-f9e3a39773b3"
      },
      "execution_count": 55,
      "outputs": [
        {
          "output_type": "stream",
          "name": "stdout",
          "text": [
            "[0, 4, 16, 36, 64]\n"
          ]
        }
      ]
    },
    {
      "cell_type": "markdown",
      "source": [
        "Dos tipos de List Comprehension (Regular y paralela)"
      ],
      "metadata": {
        "id": "eMg9uTvF102K"
      }
    },
    {
      "cell_type": "code",
      "execution_count": 56,
      "metadata": {
        "id": "cvdtJjAenaIs",
        "colab": {
          "base_uri": "https://localhost:8080/"
        },
        "outputId": "79cb3318-d172-460d-8795-dc6b81334d03"
      },
      "outputs": [
        {
          "output_type": "execute_result",
          "data": {
            "text/plain": [
              "[(1, 3),\n",
              " (1, 4),\n",
              " (1, 5),\n",
              " (2, 3),\n",
              " (2, 4),\n",
              " (2, 5),\n",
              " (3, 3),\n",
              " (3, 4),\n",
              " (3, 5),\n",
              " (4, 3),\n",
              " (4, 4),\n",
              " (4, 5),\n",
              " (5, 3),\n",
              " (5, 4),\n",
              " (5, 5),\n",
              " (6, 3),\n",
              " (6, 4),\n",
              " (6, 5),\n",
              " (7, 3),\n",
              " (7, 4),\n",
              " (7, 5)]"
            ]
          },
          "metadata": {},
          "execution_count": 56
        }
      ],
      "source": [
        "# regular list comprehension\n",
        "a = [(x, y) for x in range(1, 8) for y in range(3, 6)]\n",
        "a"
      ]
    },
    {
      "cell_type": "code",
      "execution_count": 57,
      "metadata": {
        "id": "JZWPA8oNnaIs",
        "colab": {
          "base_uri": "https://localhost:8080/"
        },
        "outputId": "884114e4-b9a6-4b1c-977d-806bdbe843ce"
      },
      "outputs": [
        {
          "output_type": "execute_result",
          "data": {
            "text/plain": [
              "[(1, 3), (2, 4), (3, 5), (4, 6), (5, 7)]"
            ]
          },
          "metadata": {},
          "execution_count": 57
        }
      ],
      "source": [
        "# parallel/zipped list comprehension\n",
        "b = [x for x in zip(range(1, 6), range(3, 25))]\n",
        "b"
      ]
    },
    {
      "cell_type": "markdown",
      "metadata": {
        "id": "qMjTuQxspJcd"
      },
      "source": [
        "### List Comprehension vs. For Loops"
      ]
    },
    {
      "cell_type": "code",
      "execution_count": 58,
      "metadata": {
        "id": "06gFgkR6pJcd",
        "tags": [],
        "colab": {
          "base_uri": "https://localhost:8080/"
        },
        "outputId": "cf4b901d-a690-43f7-fca6-85c7f1d60c03"
      },
      "outputs": [
        {
          "output_type": "stream",
          "name": "stdout",
          "text": [
            "1.66 ms ± 275 µs per loop (mean ± std. dev. of 7 runs, 1000 loops each)\n"
          ]
        }
      ],
      "source": [
        "%%timeit\n",
        "lista1 = []\n",
        "for a in range(10000):\n",
        "    b = a / 2 + 10\n",
        "    lista1.append(b)"
      ]
    },
    {
      "cell_type": "code",
      "execution_count": 59,
      "metadata": {
        "id": "4n0Nls8GpJcg",
        "tags": [],
        "colab": {
          "base_uri": "https://localhost:8080/"
        },
        "outputId": "440dcc60-f0dd-45dc-9df9-5652ed14da00"
      },
      "outputs": [
        {
          "output_type": "stream",
          "name": "stdout",
          "text": [
            "1.16 ms ± 183 µs per loop (mean ± std. dev. of 7 runs, 1000 loops each)\n"
          ]
        }
      ],
      "source": [
        "%%timeit\n",
        "lista2 = [a / 2 + 10 for a in range(10000)]"
      ]
    },
    {
      "cell_type": "markdown",
      "metadata": {
        "id": "PJChvhCrR4rX"
      },
      "source": [
        "## Referencia y copia de objetos"
      ]
    },
    {
      "cell_type": "code",
      "execution_count": 62,
      "metadata": {
        "id": "rhY65hfcpJcj"
      },
      "outputs": [],
      "source": [
        "# Creación de lista y llenado usando append\n",
        "lista1 = []\n",
        "for a in range(10):\n",
        "    b = a / 2 + 10\n",
        "    lista1.append(b)"
      ]
    },
    {
      "cell_type": "code",
      "execution_count": 63,
      "metadata": {
        "id": "q_MUUmYNReHE"
      },
      "outputs": [],
      "source": [
        "# Creación de lista y llenado usando \"list conprehension\"\n",
        "lista2 = [a / 2 + 10 for a in range(10)]"
      ]
    },
    {
      "cell_type": "code",
      "execution_count": 64,
      "metadata": {
        "id": "xUoa1Zw1Rj90",
        "colab": {
          "base_uri": "https://localhost:8080/"
        },
        "outputId": "46dc4039-ee2d-4bbc-f2c5-415208a0efdd"
      },
      "outputs": [
        {
          "output_type": "stream",
          "name": "stdout",
          "text": [
            "[10.0, 10.5, 11.0, 11.5, 12.0, 12.5, 13.0, 13.5, 14.0, 14.5]\n",
            "[10.0, 10.5, 11.0, 11.5, 12.0, 12.5, 13.0, 13.5, 14.0, 14.5]\n"
          ]
        }
      ],
      "source": [
        "print(lista1)\n",
        "print(lista2)"
      ]
    },
    {
      "cell_type": "code",
      "execution_count": 65,
      "metadata": {
        "id": "H4RwHTuapJcm",
        "tags": [],
        "colab": {
          "base_uri": "https://localhost:8080/"
        },
        "outputId": "fc649043-71f3-44da-b166-38282ec79817"
      },
      "outputs": [
        {
          "output_type": "stream",
          "name": "stdout",
          "text": [
            "False\n",
            "True\n"
          ]
        },
        {
          "output_type": "execute_result",
          "data": {
            "text/plain": [
              "False"
            ]
          },
          "metadata": {},
          "execution_count": 65
        }
      ],
      "source": [
        "print(lista1 is lista2)\n",
        "print(lista1 == lista2)\n",
        "1 == 2"
      ]
    },
    {
      "cell_type": "code",
      "execution_count": 66,
      "metadata": {
        "id": "kgZsiqpipJco",
        "colab": {
          "base_uri": "https://localhost:8080/"
        },
        "outputId": "78226fca-212b-4ec6-f4a6-a223860c1911"
      },
      "outputs": [
        {
          "output_type": "execute_result",
          "data": {
            "text/plain": [
              "True"
            ]
          },
          "metadata": {},
          "execution_count": 66
        }
      ],
      "source": [
        "lista3 = lista2\n",
        "lista3 is lista2"
      ]
    },
    {
      "cell_type": "markdown",
      "metadata": {
        "id": "3hpIu8EuSBnT"
      },
      "source": [
        "Qué sucede si modifico un elemento de la lista2 y veo la lista3 ?"
      ]
    },
    {
      "cell_type": "code",
      "execution_count": 68,
      "metadata": {
        "id": "Cve_LeoIpJcr",
        "colab": {
          "base_uri": "https://localhost:8080/"
        },
        "outputId": "ac41c5f8-767f-438d-b9b6-958cc8a87271"
      },
      "outputs": [
        {
          "output_type": "stream",
          "name": "stdout",
          "text": [
            "['nuevo_elemento', 10.5, 11.0, 11.5, 12.0, 12.5, 13.0, 13.5, 14.0, 14.5]\n",
            "['nuevo_elemento', 10.5, 11.0, 11.5, 12.0, 12.5, 13.0, 13.5, 14.0, 14.5]\n"
          ]
        }
      ],
      "source": [
        "lista2[0] = \"nuevo_elemento\"\n",
        "\n",
        "print(lista2)\n",
        "print(lista3)"
      ]
    },
    {
      "cell_type": "code",
      "execution_count": 69,
      "metadata": {
        "id": "aEfhhOLspJcx"
      },
      "outputs": [],
      "source": [
        "lista4 = lista1.copy()\n"
      ]
    },
    {
      "cell_type": "code",
      "source": [
        "lista4 is lista1"
      ],
      "metadata": {
        "colab": {
          "base_uri": "https://localhost:8080/"
        },
        "id": "ZnEcvspNlz-8",
        "outputId": "fc36f809-6030-4d0c-cf62-a6d09f627799"
      },
      "execution_count": 70,
      "outputs": [
        {
          "output_type": "execute_result",
          "data": {
            "text/plain": [
              "False"
            ]
          },
          "metadata": {},
          "execution_count": 70
        }
      ]
    },
    {
      "cell_type": "code",
      "source": [
        "lista1[0] = \"nuevo2\"\n",
        "lista4"
      ],
      "metadata": {
        "colab": {
          "base_uri": "https://localhost:8080/"
        },
        "id": "jEYkRwJImZo-",
        "outputId": "5e5ab312-ae1e-4c1b-b2e0-264d845dee26"
      },
      "execution_count": 71,
      "outputs": [
        {
          "output_type": "execute_result",
          "data": {
            "text/plain": [
              "[10.0, 10.5, 11.0, 11.5, 12.0, 12.5, 13.0, 13.5, 14.0, 14.5]"
            ]
          },
          "metadata": {},
          "execution_count": 71
        }
      ]
    },
    {
      "cell_type": "code",
      "source": [
        "lista1"
      ],
      "metadata": {
        "colab": {
          "base_uri": "https://localhost:8080/"
        },
        "id": "NEIbKdhmmcIo",
        "outputId": "b90078f5-9410-4e78-e39c-31f7fda41fb5"
      },
      "execution_count": 72,
      "outputs": [
        {
          "output_type": "execute_result",
          "data": {
            "text/plain": [
              "['nuevo2', 10.5, 11.0, 11.5, 12.0, 12.5, 13.0, 13.5, 14.0, 14.5]"
            ]
          },
          "metadata": {},
          "execution_count": 72
        }
      ]
    },
    {
      "cell_type": "code",
      "source": [
        "lista3 = lista2"
      ],
      "metadata": {
        "id": "-9u5CNWLmUC_"
      },
      "execution_count": 73,
      "outputs": []
    },
    {
      "cell_type": "code",
      "source": [
        "original_list = [1, 2, 3]\n",
        "shallow_copy = original_list.copy()\n",
        "\n",
        "# Modificamos el elemento en la posición 0 de la lista original\n",
        "original_list[0] = 0\n",
        "\n",
        "print(original_list)   # [0, 2, 3]\n",
        "print(shallow_copy)    # [1, 2, 3]"
      ],
      "metadata": {
        "colab": {
          "base_uri": "https://localhost:8080/"
        },
        "id": "ibIy-AEPm__-",
        "outputId": "e9604390-2155-494c-9abf-761e01de17ce"
      },
      "execution_count": 74,
      "outputs": [
        {
          "output_type": "stream",
          "name": "stdout",
          "text": [
            "[0, 2, 3]\n",
            "[1, 2, 3]\n"
          ]
        }
      ]
    },
    {
      "cell_type": "code",
      "source": [
        "shallow_copy[0] = 9"
      ],
      "metadata": {
        "id": "kLRZW3AYnBxa"
      },
      "execution_count": 75,
      "outputs": []
    },
    {
      "cell_type": "code",
      "source": [
        "print(original_list)\n",
        "print(shallow_copy)"
      ],
      "metadata": {
        "colab": {
          "base_uri": "https://localhost:8080/"
        },
        "id": "NLP5bTkjnIg0",
        "outputId": "84eeeedb-14b2-415d-cdc4-dcde387b9879"
      },
      "execution_count": 76,
      "outputs": [
        {
          "output_type": "stream",
          "name": "stdout",
          "text": [
            "[0, 2, 3]\n",
            "[9, 2, 3]\n"
          ]
        }
      ]
    },
    {
      "cell_type": "code",
      "source": [
        "import copy\n",
        "\n",
        "old_list = [[1, 2, 3], \n",
        "            [4, 5, 6],\n",
        "            [7, 8, 'a']]\n",
        "\n",
        "# realizar una copia superficial (shallow copy)\n",
        "new_list = copy.copy(old_list)\n",
        "\n",
        "new_list[2][2] = 9\n",
        "\n",
        "print('Old List:', old_list)\n",
        "print('ID of Old List:', id(old_list))\n",
        "\n",
        "print('New List:', new_list)\n",
        "print('ID of New List:', id(new_list))"
      ],
      "metadata": {
        "colab": {
          "base_uri": "https://localhost:8080/"
        },
        "id": "xr8KxoWnpSJW",
        "outputId": "550ef2a5-3fb1-4999-8bc8-1b855fae073a"
      },
      "execution_count": 84,
      "outputs": [
        {
          "output_type": "stream",
          "name": "stdout",
          "text": [
            "Old List: [[1, 2, 3], [4, 5, 6], [7, 8, 9]]\n",
            "ID of Old List: 140389746294336\n",
            "New List: [[1, 2, 3], [4, 5, 6], [7, 8, 9]]\n",
            "ID of New List: 140389733020992\n"
          ]
        }
      ]
    },
    {
      "cell_type": "code",
      "source": [
        "old_list = [[1, 1, 1], [2, 2, 2], [3, 3, 3]]\n",
        "\n",
        "# realizar una copia profunda (deep copy)\n",
        "new_list = copy.deepcopy(old_list)\n",
        "\n",
        "old_list[1][0] = 'BB'\n",
        "\n",
        "print(\"Old list:\", old_list)\n",
        "print(\"New list:\", new_list)"
      ],
      "metadata": {
        "colab": {
          "base_uri": "https://localhost:8080/"
        },
        "id": "ZCdlnd4qpWam",
        "outputId": "aab368a2-9a87-4c44-fea2-765547539750"
      },
      "execution_count": 85,
      "outputs": [
        {
          "output_type": "stream",
          "name": "stdout",
          "text": [
            "Old list: [[1, 1, 1], ['BB', 2, 2], [3, 3, 3]]\n",
            "New list: [[1, 1, 1], [2, 2, 2], [3, 3, 3]]\n"
          ]
        }
      ]
    },
    {
      "cell_type": "markdown",
      "metadata": {
        "id": "_79LRuBbpJc2"
      },
      "source": [
        "## Ejercicios \n",
        "\n",
        "1. Usando 'list comprehension', crear una lista con valores del 100 al 500 a intervalos de 50\n"
      ]
    },
    {
      "cell_type": "code",
      "execution_count": 86,
      "metadata": {
        "collapsed": true,
        "jupyter": {
          "outputs_hidden": true,
          "source_hidden": true
        },
        "tags": [],
        "id": "_pOTloYBnaIw",
        "colab": {
          "base_uri": "https://localhost:8080/"
        },
        "outputId": "b786a3e5-725e-4c76-89ae-f157b0574e9e"
      },
      "outputs": [
        {
          "output_type": "execute_result",
          "data": {
            "text/plain": [
              "[100, 150, 200, 250, 300, 350, 400, 450, 500]"
            ]
          },
          "metadata": {},
          "execution_count": 86
        }
      ],
      "source": [
        "lista_valores = [x for x in range(100, 550, 50)]\n",
        "lista_valores"
      ]
    },
    {
      "cell_type": "markdown",
      "metadata": {
        "id": "9XxijtrpTej6"
      },
      "source": [
        "\n",
        "2. Convertir esa lista en un diccionario donde los valores sean los elementos de la lista y las claves (keys) el texto 'pago_{i}' donde i es el indice del pago, ej. pago_1 = 100. Recordar que los índices empiezan en 0."
      ]
    },
    {
      "cell_type": "code",
      "execution_count": 87,
      "metadata": {
        "collapsed": true,
        "jupyter": {
          "outputs_hidden": true,
          "source_hidden": true
        },
        "tags": [],
        "id": "beu2dyEvnaIw",
        "colab": {
          "base_uri": "https://localhost:8080/"
        },
        "outputId": "b6a184f5-8688-4c4a-bd8f-68ba9a9aeacc"
      },
      "outputs": [
        {
          "output_type": "execute_result",
          "data": {
            "text/plain": [
              "{'pago_1': 100,\n",
              " 'pago_2': 150,\n",
              " 'pago_3': 200,\n",
              " 'pago_4': 250,\n",
              " 'pago_5': 300,\n",
              " 'pago_6': 350,\n",
              " 'pago_7': 400,\n",
              " 'pago_8': 450,\n",
              " 'pago_9': 500}"
            ]
          },
          "metadata": {},
          "execution_count": 87
        }
      ],
      "source": [
        "dict_valores = {f\"pago_{i+1}\": valor for i, valor in enumerate(lista_valores)}\n",
        "dict_valores"
      ]
    },
    {
      "cell_type": "markdown",
      "metadata": {
        "id": "F28rZweXTrSw"
      },
      "source": [
        "3. Sacar el valor actual (VA) de la lista considerándola una lista de pagos a intervalos regulares con una tasa de interés del 100%. El valor actual es la suma de los valores individuales descontados por el interés: cada pago se descuenta dividiéndolo por (1 + tasa)^índice, por ej. 150 / ((1 + 1) ** 2). Recordar que los índices empiezan en 0."
      ]
    },
    {
      "cell_type": "markdown",
      "source": [
        "$VA [100, 150, 200] = \\dfrac{100}{(1+1)^1}+\\dfrac{150}{(1+1)^2}+\\dfrac{200}{(1+1)^3}$"
      ],
      "metadata": {
        "id": "DCKEAxBbsxhP"
      }
    },
    {
      "cell_type": "code",
      "execution_count": 88,
      "metadata": {
        "collapsed": true,
        "id": "uuyGLvvNjTE4",
        "jupyter": {
          "outputs_hidden": true,
          "source_hidden": true
        },
        "tags": [],
        "colab": {
          "base_uri": "https://localhost:8080/"
        },
        "outputId": "26db225d-31f4-46ba-c1f6-25500b366e64"
      },
      "outputs": [
        {
          "output_type": "execute_result",
          "data": {
            "text/plain": [
              "306.65625"
            ]
          },
          "metadata": {},
          "execution_count": 88
        }
      ],
      "source": [
        "VA = sum([pago / (1 + 1)**i+1 for i, pago in enumerate(lista_valores)])\n",
        "VA"
      ]
    },
    {
      "cell_type": "markdown",
      "metadata": {
        "id": "G3S9WwhApJcz"
      },
      "source": [
        "## Dictionary Comprehension"
      ]
    },
    {
      "cell_type": "markdown",
      "metadata": {
        "id": "T4HpK4QASn3B"
      },
      "source": [
        "Puedo crear diccionarios usando Dictionary Comprehension de la siguiente forma:\n",
        "\n",
        "`dictionary = {key: value for vars in iterable}`"
      ]
    },
    {
      "cell_type": "code",
      "execution_count": null,
      "metadata": {
        "id": "tuhs3FJZpJc0",
        "colab": {
          "base_uri": "https://localhost:8080/"
        },
        "outputId": "7c188239-66ed-45b6-93b7-92858ca0ad4e"
      },
      "outputs": [
        {
          "output_type": "execute_result",
          "data": {
            "text/plain": [
              "{'k1': 1, 'k2': 2, 'k3': 3}"
            ]
          },
          "metadata": {},
          "execution_count": 122
        }
      ],
      "source": [
        "dic_comp ={k: v for k, v in [(\"k1\", 1), (\"k2\", 2), (\"k3\", 3)]}\n",
        "dic_comp"
      ]
    },
    {
      "cell_type": "markdown",
      "metadata": {
        "id": "TZHb1kYVSxlz"
      },
      "source": [
        "Con un for loop:"
      ]
    },
    {
      "cell_type": "code",
      "execution_count": null,
      "metadata": {
        "id": "n6yJ4X3zSmzX",
        "colab": {
          "base_uri": "https://localhost:8080/"
        },
        "outputId": "8997955b-8414-46fe-f17b-359b44296b83"
      },
      "outputs": [
        {
          "output_type": "stream",
          "name": "stdout",
          "text": [
            "{1: 1, 2: 4, 3: 9, 4: 16, 5: 25, 6: 36, 7: 49, 8: 64, 9: 81, 10: 100}\n"
          ]
        }
      ],
      "source": [
        "cuadrado = dict()\n",
        "for num in range(1, 11):\n",
        "    cuadrado[num] = num*num\n",
        "print(cuadrado)"
      ]
    },
    {
      "cell_type": "markdown",
      "metadata": {
        "id": "BV4hb4pxS53R"
      },
      "source": [
        "Usando Dictionary Comprehension"
      ]
    },
    {
      "cell_type": "code",
      "execution_count": null,
      "metadata": {
        "id": "s-yJOur-S3aT",
        "colab": {
          "base_uri": "https://localhost:8080/"
        },
        "outputId": "6bd6a795-6ec1-4a9f-eb1f-9e3a0003835b"
      },
      "outputs": [
        {
          "output_type": "stream",
          "name": "stdout",
          "text": [
            "{1: 1, 2: 4, 3: 9, 4: 16, 5: 25, 6: 36, 7: 49, 8: 64, 9: 81, 10: 100}\n"
          ]
        }
      ],
      "source": [
        "cuadrado = {num: num*num for num in range(1, 11)}\n",
        "print(cuadrado)"
      ]
    },
    {
      "cell_type": "markdown",
      "source": [
        "### Ejercicios"
      ],
      "metadata": {
        "id": "nl-tuhaD6S1f"
      }
    },
    {
      "cell_type": "markdown",
      "source": [
        "1. Dado un diccionario de nombres y edades, crea un nuevo diccionario con los nombres como claves y las edades divididas en 2 como valores."
      ],
      "metadata": {
        "id": "RIa3kZsS6VSW"
      }
    },
    {
      "cell_type": "code",
      "source": [
        "personas = {'Juan': 40, 'María': 30, 'Pedro': 25, 'Lucía': 20}\n",
        "\n",
        "personas_edades_div_2 = {nombre : edad / 2 for nombre, edad in personas.items()}\n",
        "personas_edades_div_2"
      ],
      "metadata": {
        "id": "1LYkwftu6b2p",
        "colab": {
          "base_uri": "https://localhost:8080/"
        },
        "outputId": "9fb1c5e6-806c-49e3-9342-186234e57416"
      },
      "execution_count": 89,
      "outputs": [
        {
          "output_type": "execute_result",
          "data": {
            "text/plain": [
              "{'Juan': 20.0, 'María': 15.0, 'Pedro': 12.5, 'Lucía': 10.0}"
            ]
          },
          "metadata": {},
          "execution_count": 89
        }
      ]
    },
    {
      "cell_type": "markdown",
      "source": [
        "2. Dado un diccionario de números, crea un nuevo diccionario con las claves y valores invertidos."
      ],
      "metadata": {
        "id": "8yD1-Szq6feS"
      }
    },
    {
      "cell_type": "code",
      "source": [
        "# Diccionario original\n",
        "numeros = {1: 'uno', 2: 'dos', 3: 'tres', 4: 'cuatro'}\n",
        "nuevo_diccionario = {valor: clave for clave, valor in diccionario.items()}\n",
        "print(nuevo_diccionario)\n"
      ],
      "metadata": {
        "id": "jxzdWh3W6nGJ",
        "colab": {
          "base_uri": "https://localhost:8080/"
        },
        "outputId": "9dd48eba-2b15-48bc-8b9f-b44aa0240f99"
      },
      "execution_count": 90,
      "outputs": [
        {
          "output_type": "stream",
          "name": "stdout",
          "text": [
            "{1: 'k1', 2: 'k2', 3: 'k3'}\n"
          ]
        }
      ]
    },
    {
      "cell_type": "markdown",
      "source": [
        "3. Filtrar un diccionario para incluir solo las entradas cuyos valores son números pares:"
      ],
      "metadata": {
        "id": "QwKcJVDV6q5F"
      }
    },
    {
      "cell_type": "code",
      "source": [
        "numeros = {'uno': 1, 'dos': 2, 'tres': 3, 'cuatro': 4, 'cinco': 5, 'seis': 6}\n",
        "\n",
        "numeros_pares = {k: v for k, v in numeros.items() if v % 2 == 0}\n",
        "numeros_pares"
      ],
      "metadata": {
        "id": "92hoWLSj7ASu",
        "colab": {
          "base_uri": "https://localhost:8080/"
        },
        "outputId": "f2e0420d-6ca9-4f3d-d518-5005d125d6ae"
      },
      "execution_count": 91,
      "outputs": [
        {
          "output_type": "execute_result",
          "data": {
            "text/plain": [
              "{'dos': 2, 'cuatro': 4, 'seis': 6}"
            ]
          },
          "metadata": {},
          "execution_count": 91
        }
      ]
    },
    {
      "cell_type": "markdown",
      "source": [
        "4. Usando Dictionary Comprehension crear un diccionario con claves entre 1 y 10, y valores en un rango entre 100 y 500, en pasos de 20. Pista: usar `zip()`"
      ],
      "metadata": {
        "id": "WCujSYFJ8lTI"
      }
    },
    {
      "cell_type": "code",
      "source": [
        "diccionario = {clave: valor for clave, valor in zip(range(1, 11), range(100, 500, 20))}\n",
        "\n",
        "print(diccionario)"
      ],
      "metadata": {
        "id": "Ove3qfuL8m6P",
        "colab": {
          "base_uri": "https://localhost:8080/"
        },
        "outputId": "32bab5d8-4956-48af-d190-fb18f690e5e6"
      },
      "execution_count": 95,
      "outputs": [
        {
          "output_type": "stream",
          "name": "stdout",
          "text": [
            "{1: 100, 2: 120, 3: 140, 4: 160, 5: 180, 6: 200, 7: 220, 8: 240, 9: 260, 10: 280}\n"
          ]
        }
      ]
    },
    {
      "cell_type": "code",
      "source": [
        "# otro modo de crear el diccionario usando un bucle for\n",
        "diccionario = {}\n",
        "for i in range(1, 11):\n",
        "    diccionario[i] = 80 + i * 20"
      ],
      "metadata": {
        "id": "1hwmvpkLLYlw"
      },
      "execution_count": 98,
      "outputs": []
    },
    {
      "cell_type": "code",
      "source": [
        "diccionario"
      ],
      "metadata": {
        "colab": {
          "base_uri": "https://localhost:8080/"
        },
        "id": "_rw1DkZFMQeV",
        "outputId": "58c3cde6-fc85-4263-96cc-43ae7c7bb9fd"
      },
      "execution_count": 99,
      "outputs": [
        {
          "output_type": "execute_result",
          "data": {
            "text/plain": [
              "{1: 100,\n",
              " 2: 120,\n",
              " 3: 140,\n",
              " 4: 160,\n",
              " 5: 180,\n",
              " 6: 200,\n",
              " 7: 220,\n",
              " 8: 240,\n",
              " 9: 260,\n",
              " 10: 280}"
            ]
          },
          "metadata": {},
          "execution_count": 99
        }
      ]
    },
    {
      "cell_type": "code",
      "source": [],
      "metadata": {
        "id": "rA6MWrkmMSS1"
      },
      "execution_count": null,
      "outputs": []
    }
  ],
  "metadata": {
    "colab": {
      "provenance": []
    },
    "kernelspec": {
      "display_name": "Python 3 (ipykernel)",
      "language": "python",
      "name": "python3"
    },
    "language_info": {
      "codemirror_mode": {
        "name": "ipython",
        "version": 3
      },
      "file_extension": ".py",
      "mimetype": "text/x-python",
      "name": "python",
      "nbconvert_exporter": "python",
      "pygments_lexer": "ipython3",
      "version": "3.9.13"
    }
  },
  "nbformat": 4,
  "nbformat_minor": 0
}