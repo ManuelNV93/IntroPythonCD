{
 "cells": [
  {
   "cell_type": "markdown",
   "id": "ed5f93a9-7950-4c2d-837a-d046cdf090dc",
   "metadata": {},
   "source": [
    "# Herramientas"
   ]
  },
  {
   "cell_type": "markdown",
   "id": "e096cdb2-63c7-4618-a2cf-5cfb14c7982b",
   "metadata": {},
   "source": [
    "## Distribuciones Python"
   ]
  },
  {
   "cell_type": "markdown",
   "id": "bc99432f-90eb-4ad1-bca6-c6490eb1bb0e",
   "metadata": {},
   "source": [
    "- [Anaconda](https://www.anaconda.com/download)\n",
    "- [Python](https://www.python.org/downloads/)"
   ]
  },
  {
   "cell_type": "markdown",
   "id": "70b1292f-f8d7-4714-a257-71ff7dd3f32c",
   "metadata": {},
   "source": [
    "## Jupyter Notebooks vs. Scripts"
   ]
  },
  {
   "cell_type": "markdown",
   "id": "1f0fcaa2-5bcb-4610-ac43-9e76acad04c3",
   "metadata": {},
   "source": [
    "Los cuadernos Jupyter Notebooks permiten ejecutar celdas de código de a una por vez, lo que resulta ideal para explorar datos y experimentar con diferentes técnicas. Por otro lado, los scripts de Python deben ejecutarse en su totalidad, lo que puede llevar mucho tiempo en el caso de scripts más grandes.\n",
    "\n",
    "### Jupyter Notebook vs. Python IDLE\n",
    "\n",
    "| Feature | Jupyter Notebook | Python IDLE |\n",
    "| --- | --- | --- |\n",
    "Interface | Web-based | Desktop Application\n",
    "Output|Displayed in-line|Separate Console Window\n",
    "Multilingual|Supports multiple languages|Only supports Python\n",
    "Collaboration|Built-in support for sharing and collaborations|No built-in collaboration feature\n",
    "Code Organization|Code organized into cells|Code written in a single file\n",
    "Debugging|Limited support available|Debugging support available\n",
    "Visualization|Excellent support|Limited support\n",
    "Learning Curve|Steep learning curve|Easy to learn\n",
    "Use Cases|Interactive data analysis, prototyping, and visualizations|\tWriting small scripts and exploring python syntax"
   ]
  },
  {
   "cell_type": "markdown",
   "id": "abd82d97-feff-4f66-91ba-ccabc8b9c45e",
   "metadata": {},
   "source": [
    "## Entornos de programación (IDE)"
   ]
  },
  {
   "cell_type": "markdown",
   "id": "7e409be6-d694-4085-be1a-2b5522005aad",
   "metadata": {},
   "source": [
    "| IDE | Jupyter Notebook | Python |\n",
    "| :- | :-: | :-:\n",
    "[Python IDLE](https://www.python.org/downloads/) | - | x\n",
    "[PyCharm (Community Edition)](https://www.jetbrains.com/pycharm) | - | x\n",
    "[Visual Studio Code](https://code.visualstudio.com/) | x | x\n",
    "[DataSpell (Education License)](https://www.jetbrains.com/es-es/dataspell/) | x | -\n",
    "[Spyder](https://www.spyder-ide.org/) | x | x\n",
    "[Jupyter Notebook](https://jupyter.org/) | x | -\n",
    "[JupyterLab](https://jupyterlab.readthedocs.io/en/stable/index.html) | x | -\n"
   ]
  },
  {
   "cell_type": "markdown",
   "id": "0891beb9-bd64-4021-a472-11cf3c2eff14",
   "metadata": {},
   "source": [
    "## Online vs. Local"
   ]
  },
  {
   "cell_type": "markdown",
   "id": "60612c82-05c8-44de-bb11-616ef8c3085c",
   "metadata": {},
   "source": [
    "- [Google Colab](https://colab.research.google.com/)\n",
    "- [Kaggle](https://www.kaggle.com/)\n",
    "- [JupyterLite](https://jupyter.org/try-jupyter/lab/)\n",
    "- [Visual Studio Code Web](https://vscode.dev/)"
   ]
  },
  {
   "cell_type": "markdown",
   "id": "f7115e67-5bf1-4bb3-a122-04a907fa812b",
   "metadata": {},
   "source": [
    "## Package Managers"
   ]
  },
  {
   "cell_type": "markdown",
   "id": "4859bd74-6668-4842-82ab-4bce8790dc7d",
   "metadata": {},
   "source": [
    "Un Package Manager (administrador de paquetes) es un sistema o un conjunto de herramientas que se utilizan para automatizar la instalación, actualización, configuración y uso de software. La mayoría de los administradores de paquetes están diseñados para descubrir e instalar herramientas para desarrolladores.\n",
    "\n",
    "- [pip](https://pip.pypa.io/en/stable/)\n",
    "- [Mamba](https://mamba.readthedocs.io/en/latest/)\n",
    "- [Conda](https://conda.io/projects/conda/en/latest/index.html)"
   ]
  },
  {
   "cell_type": "markdown",
   "id": "11c5cdfc-298c-4343-803d-dbb1ca5f5a3b",
   "metadata": {},
   "source": [
    "## Ejemplo"
   ]
  },
  {
   "cell_type": "markdown",
   "id": "4159ccb6-e2ea-432a-97ff-be610e0a47bf",
   "metadata": {},
   "source": [
    "**Anaconda**\n",
    "\n",
    "Administración de entornos\n",
    "Con conda, puede crear, exportar, enumerar, eliminar y actualizar entornos que tengan diferentes versiones de Python o paquetes instalados. Cambiar o moverse entre entornos se denomina activar el entorno. También puede compartir un archivo de entorno.\n",
    "\n",
    "```\n",
    "conda create --name <myenv>\n",
    "conda create -n <myenv> python=3.9\n",
    "```\n",
    "\n",
    "**Ejemplo**\n",
    "\n",
    "```\n",
    "conda create env_test\n",
    "conda activate env_test\n",
    "conda install -c conda-forge jupyterlab\n",
    "```"
   ]
  },
  {
   "attachments": {},
   "cell_type": "markdown",
   "id": "8c1b5721-b092-409b-8c99-0ef075b6fd01",
   "metadata": {
    "jp-MarkdownHeadingCollapsed": true
   },
   "source": [
    "## Google Colab\n",
    "\n",
    "Colab es un servicio alojado de Jupyter Notebook que no requiere configuración para su uso y proporciona acceso gratuito a recursos informáticos, incluidas GPU y TPU. Colab es especialmente adecuado para el aprendizaje automático, la ciencia de datos y la educación.\n",
    "\n",
    "### Cómo subir y descargar archivos a Google Colab\n",
    "Dado que un Notebook de Colab está alojado en los servidores en la nube de Google, no hay acceso directo a los archivos en tu unidad local (a diferencia de un Notebook alojado en una máquina personal) ni a ningún otro entorno de forma predeterminada.\n",
    "\n",
    "Sin embargo, Colab ofrece varias opciones para conectarse a casi cualquier fuente de datos.\n",
    "\n",
    "Ver https://neptune.ai/blog/google-colab-dealing-with-files\n",
    "\n",
    "#### - Acceder a GitHub desde Google Colab\n",
    "Puede clonar un repositorio de GitHub completo en su entorno de Colab o acceder a archivos individuales desde su enlace original.\n",
    "Puede clonar un repositorio de GitHub en su entorno de Colab de la misma manera que lo haría en su máquina local, usando git clone. Una vez que el repositorio esté clonado, actualice el explorador de archivos para explorar su contenido.\n",
    "Luego, puede leer los archivos como lo haría en su máquina local.\n",
    "\n",
    "#### - Acceder al sistema de archivos local en Google Colab\n",
    "Se puede leer o escribir en el sistema de archivos local mediante el explorador de archivos o el código Python:\n",
    "\n",
    "**- Acceder a los archivos locales a través del explorador de archivos**\n",
    "\n",
    "Cargar archivos desde el sistema de archivos local mediante el explorador de archivos\n",
    "Se puede utilizar la opción de carga en la parte superior del panel del explorador de archivos para cargar cualquier archivo desde el sistema de archivos local a Colab en el directorio de trabajo actual.\n",
    "\n",
    "Para cargar archivos directamente en un subdirectorio:\n",
    "\n",
    "1. Hacer clic en los tres puntos visibles cuando pasa el cursor sobre el directorio\n",
    "2. Seleccionar la opción \"cargar\".\n",
    "3. Seleccionar el archivo o los archivos que desea cargar en la ventana de diálogo \"Cargar archivo\".\n",
    "4. Esperar a que se complete la carga. El progreso de la carga se muestra en la parte inferior del panel del explorador de archivos.\n",
    "\n",
    "Una vez que se complete la carga, se puede leer el archivo normalmente.\n",
    "\n",
    "**- Descargar archivos al sistema de archivos local a través del explorador de archivos**\n",
    "\n",
    "Hacer clic en los tres puntos que se ven al pasar el cursor sobre el nombre del archivo y seleccionar la opción “descargar”.\n",
    "\n",
    "## Acceder a Google Drive desde Google Colab\n",
    "Usar el módulo de unidad de google.colab para montar Google Drive en Colab de la siguiente manera:\n",
    "\n",
    "1. Ejecutar el código a continuación, que proporcionará un enlace de autenticación.\n",
    "\n",
    "```python\n",
    "from google.colab import drive```\n",
    "drive.mount('/content/gdrive')\n",
    "```\n",
    "\n",
    "2. Abrir el enlace\n",
    "3. Elegir la cuenta de Google cuyo Drive se quiere montar\n",
    "4. Permitir que Google Drive acceda a la cuenta de Google\n",
    "\n",
    "Una vez que Drive esté montado, se recibirá el mensaje \"Mounted at /content/gdrive\" y se podrá explorar el contenido de Drive desde el panel del explorador de archivos."
   ]
  },
  {
   "cell_type": "code",
   "execution_count": null,
   "id": "7b9c04a5-4f5a-4498-886e-511e6dc7d154",
   "metadata": {},
   "outputs": [],
   "source": []
  }
 ],
 "metadata": {
  "kernelspec": {
   "display_name": "Python 3 (ipykernel)",
   "language": "python",
   "name": "python3"
  },
  "language_info": {
   "codemirror_mode": {
    "name": "ipython",
    "version": 3
   },
   "file_extension": ".py",
   "mimetype": "text/x-python",
   "name": "python",
   "nbconvert_exporter": "python",
   "pygments_lexer": "ipython3",
   "version": "3.9.19"
  }
 },
 "nbformat": 4,
 "nbformat_minor": 5
}
